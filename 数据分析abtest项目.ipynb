{
 "cells": [
  {
   "cell_type": "markdown",
   "metadata": {},
   "source": [
    "## 分析A/B测试结果\n",
    "\n",
    "我们设计项目的初衷是希望让它涵盖数学和Python课程里所有的内容，涉及到可视化的部分，需要同学对Python相关的可视化库有了解，所以项目会有难度。如果你进行不顺利，不用着急，你可以回顾以前课程中的内容，或者寻求帮助。如果你成功完成项目，代表你已掌握这部分内容。祝你好运！\n",
    "\n",
    "## 目录\n",
    "- [简介](#intro)\n",
    "- [I - 统计与概率](#probability)\n",
    "- [II - A/B 测试](#ab_test)\n",
    "\n",
    "\n",
    "<a id='intro'></a>\n",
    "### 简介\n",
    "\n",
    "A/B 测试是数据分析师和数据科学家需要经常完成的工作，非常重要。如果你在工作中有一些实践经验，那学习起来就会更加游刃有余。\n",
    "\n",
    "本项目设定了一家电子商务网站运行 A/B 测试的情境。你的目标是通过这个项目来帮助公司分析和决定他们是否应该使用新的页面，保留旧的页面，或者应该将测试时间延长，之后再做出决定。\n",
    "\n",
    "**注意，最后做完项目时记得检查，\n",
    "    \n",
    "<a id='probability'></a>\n",
    "#### I - 概率\n",
    "\n",
    "先导入数据。"
   ]
  },
  {
   "cell_type": "code",
   "execution_count": 40,
   "metadata": {},
   "outputs": [],
   "source": [
    "import pandas as pd\n",
    "import numpy as np\n",
    "import random\n",
    "import matplotlib.pyplot as plt\n",
    "%matplotlib inline\n",
    "#We are setting the seed to assure you get the same answers on quizzes as we set up\n",
    "random.seed(42)"
   ]
  },
  {
   "cell_type": "markdown",
   "metadata": {},
   "source": [
    "`1.` 导入 `ab_data.csv` 数据，并将其存储在 `df` 中。  你可以直接进行以下问题的回答。\n",
    "\n",
    "a. 导入数据集，查看前几行数据："
   ]
  },
  {
   "cell_type": "code",
   "execution_count": 6,
   "metadata": {},
   "outputs": [
    {
     "data": {
      "text/html": [
       "<div>\n",
       "<style scoped>\n",
       "    .dataframe tbody tr th:only-of-type {\n",
       "        vertical-align: middle;\n",
       "    }\n",
       "\n",
       "    .dataframe tbody tr th {\n",
       "        vertical-align: top;\n",
       "    }\n",
       "\n",
       "    .dataframe thead th {\n",
       "        text-align: right;\n",
       "    }\n",
       "</style>\n",
       "<table border=\"1\" class=\"dataframe\">\n",
       "  <thead>\n",
       "    <tr style=\"text-align: right;\">\n",
       "      <th></th>\n",
       "      <th>user_id</th>\n",
       "      <th>timestamp</th>\n",
       "      <th>group</th>\n",
       "      <th>landing_page</th>\n",
       "      <th>converted</th>\n",
       "    </tr>\n",
       "  </thead>\n",
       "  <tbody>\n",
       "    <tr>\n",
       "      <th>0</th>\n",
       "      <td>851104</td>\n",
       "      <td>2017-01-21 22:11:48.556739</td>\n",
       "      <td>control</td>\n",
       "      <td>old_page</td>\n",
       "      <td>0</td>\n",
       "    </tr>\n",
       "    <tr>\n",
       "      <th>1</th>\n",
       "      <td>804228</td>\n",
       "      <td>2017-01-12 08:01:45.159739</td>\n",
       "      <td>control</td>\n",
       "      <td>old_page</td>\n",
       "      <td>0</td>\n",
       "    </tr>\n",
       "    <tr>\n",
       "      <th>2</th>\n",
       "      <td>661590</td>\n",
       "      <td>2017-01-11 16:55:06.154213</td>\n",
       "      <td>treatment</td>\n",
       "      <td>new_page</td>\n",
       "      <td>0</td>\n",
       "    </tr>\n",
       "    <tr>\n",
       "      <th>3</th>\n",
       "      <td>853541</td>\n",
       "      <td>2017-01-08 18:28:03.143765</td>\n",
       "      <td>treatment</td>\n",
       "      <td>new_page</td>\n",
       "      <td>0</td>\n",
       "    </tr>\n",
       "    <tr>\n",
       "      <th>4</th>\n",
       "      <td>864975</td>\n",
       "      <td>2017-01-21 01:52:26.210827</td>\n",
       "      <td>control</td>\n",
       "      <td>old_page</td>\n",
       "      <td>1</td>\n",
       "    </tr>\n",
       "    <tr>\n",
       "      <th>5</th>\n",
       "      <td>936923</td>\n",
       "      <td>2017-01-10 15:20:49.083499</td>\n",
       "      <td>control</td>\n",
       "      <td>old_page</td>\n",
       "      <td>0</td>\n",
       "    </tr>\n",
       "    <tr>\n",
       "      <th>6</th>\n",
       "      <td>679687</td>\n",
       "      <td>2017-01-19 03:26:46.940749</td>\n",
       "      <td>treatment</td>\n",
       "      <td>new_page</td>\n",
       "      <td>1</td>\n",
       "    </tr>\n",
       "    <tr>\n",
       "      <th>7</th>\n",
       "      <td>719014</td>\n",
       "      <td>2017-01-17 01:48:29.539573</td>\n",
       "      <td>control</td>\n",
       "      <td>old_page</td>\n",
       "      <td>0</td>\n",
       "    </tr>\n",
       "    <tr>\n",
       "      <th>8</th>\n",
       "      <td>817355</td>\n",
       "      <td>2017-01-04 17:58:08.979471</td>\n",
       "      <td>treatment</td>\n",
       "      <td>new_page</td>\n",
       "      <td>1</td>\n",
       "    </tr>\n",
       "    <tr>\n",
       "      <th>9</th>\n",
       "      <td>839785</td>\n",
       "      <td>2017-01-15 18:11:06.610965</td>\n",
       "      <td>treatment</td>\n",
       "      <td>new_page</td>\n",
       "      <td>1</td>\n",
       "    </tr>\n",
       "  </tbody>\n",
       "</table>\n",
       "</div>"
      ],
      "text/plain": [
       "   user_id                   timestamp      group landing_page  converted\n",
       "0   851104  2017-01-21 22:11:48.556739    control     old_page          0\n",
       "1   804228  2017-01-12 08:01:45.159739    control     old_page          0\n",
       "2   661590  2017-01-11 16:55:06.154213  treatment     new_page          0\n",
       "3   853541  2017-01-08 18:28:03.143765  treatment     new_page          0\n",
       "4   864975  2017-01-21 01:52:26.210827    control     old_page          1\n",
       "5   936923  2017-01-10 15:20:49.083499    control     old_page          0\n",
       "6   679687  2017-01-19 03:26:46.940749  treatment     new_page          1\n",
       "7   719014  2017-01-17 01:48:29.539573    control     old_page          0\n",
       "8   817355  2017-01-04 17:58:08.979471  treatment     new_page          1\n",
       "9   839785  2017-01-15 18:11:06.610965  treatment     new_page          1"
      ]
     },
     "execution_count": 6,
     "metadata": {},
     "output_type": "execute_result"
    }
   ],
   "source": [
    "df=pd.read_csv('ab_data.csv')\n",
    "df.head(10)"
   ]
  },
  {
   "cell_type": "markdown",
   "metadata": {},
   "source": [
    "b. 查看数据集的行数。"
   ]
  },
  {
   "cell_type": "code",
   "execution_count": 7,
   "metadata": {},
   "outputs": [
    {
     "data": {
      "text/plain": [
       "294478"
      ]
     },
     "execution_count": 7,
     "metadata": {},
     "output_type": "execute_result"
    }
   ],
   "source": [
    "df.shape[0] \n",
    "#len(df)"
   ]
  },
  {
   "cell_type": "markdown",
   "metadata": {},
   "source": [
    "c. 查看数据集中的用户数量（不同的user_id数）。"
   ]
  },
  {
   "cell_type": "code",
   "execution_count": 8,
   "metadata": {},
   "outputs": [
    {
     "data": {
      "text/plain": [
       "290584"
      ]
     },
     "execution_count": 8,
     "metadata": {},
     "output_type": "execute_result"
    }
   ],
   "source": [
    "df.user_id.nunique()"
   ]
  },
  {
   "cell_type": "markdown",
   "metadata": {},
   "source": [
    "d. 转化用户的占比。"
   ]
  },
  {
   "cell_type": "code",
   "execution_count": 9,
   "metadata": {},
   "outputs": [
    {
     "name": "stdout",
     "output_type": "stream",
     "text": [
      "0.12104245244060237\n"
     ]
    }
   ],
   "source": [
    "convert_num=len(df[df['converted']==1].groupby(['user_id'])['user_id'])\n",
    "before_convert_num=len(df.groupby(['user_id']))\n",
    "print(convert_num/before_convert_num)\n",
    "#由于user_id中有重复值，所以需要用groupby显示出不同user_id的种类然后再用len()可以得出user_id\n",
    "#用户的个数，求出转化前和转化后的个数（转化后用converted=1过滤），再求出比值得出转化用户的占约等于\n",
    "#12.104%"
   ]
  },
  {
   "cell_type": "markdown",
   "metadata": {},
   "source": [
    "e. 请计算数据中 `new_page` 与 `treatment` 不匹配的次数。提示：在一个合理的实验设计里，控制组(control) 应该对应旧页面(old_page)，实验组(treatment) 对应新页面(new_page)。"
   ]
  },
  {
   "cell_type": "code",
   "execution_count": 10,
   "metadata": {},
   "outputs": [
    {
     "data": {
      "text/plain": [
       "group      landing_page\n",
       "control    new_page          1928\n",
       "           old_page        145274\n",
       "treatment  new_page        145311\n",
       "           old_page          1965\n",
       "Name: converted, dtype: int64"
      ]
     },
     "execution_count": 10,
     "metadata": {},
     "output_type": "execute_result"
    }
   ],
   "source": [
    "df.groupby(['group','landing_page'])['converted'].count()\n",
    "#当我把df的数据按照group和land_page分类的时候，我发现有少部分的control group是有new_page，\n",
    "#treatment group有new_page\n",
    "#因为treatment应该对应new_page,所以从数据来看new_page与treatment不匹配次数为1965+1928=3893次\n"
   ]
  },
  {
   "cell_type": "code",
   "execution_count": 11,
   "metadata": {},
   "outputs": [
    {
     "data": {
      "text/plain": [
       "3893"
      ]
     },
     "execution_count": 11,
     "metadata": {},
     "output_type": "execute_result"
    }
   ],
   "source": [
    "treatment = df['group'] == 'treatment'\n",
    "new_page  = df['landing_page'] == 'new_page'\n",
    "mismatch  = treatment != new_page\n",
    "mismatch.sum()"
   ]
  },
  {
   "cell_type": "markdown",
   "metadata": {},
   "source": [
    "\n",
    "f. 是否有任何行空缺数值？"
   ]
  },
  {
   "cell_type": "code",
   "execution_count": 12,
   "metadata": {},
   "outputs": [
    {
     "data": {
      "text/plain": [
       "user_id         0\n",
       "timestamp       0\n",
       "group           0\n",
       "landing_page    0\n",
       "converted       0\n",
       "dtype: int64"
      ]
     },
     "execution_count": 12,
     "metadata": {},
     "output_type": "execute_result"
    }
   ],
   "source": [
    "df.isnull().sum()"
   ]
  },
  {
   "cell_type": "markdown",
   "metadata": {},
   "source": [
    "`2.` 对于 **treatment** 和 **new_page** 不匹配的行或 **control** 与 **old_page** 不匹配的行，我们不能确定该行是否接收到了新页面还是旧页面。如何处理这些行？\n",
    "\n",
    "（就是将第一问中的e筛选的数据全部排出在外，然后构建df2，接着核实一下df2中不包含第一问中e的情况，仅供参考）\n",
    "\n",
    "a. 现在，去创建一个符合要求的新数据集。将新 dataframe 存储在 **df2** 中。"
   ]
  },
  {
   "cell_type": "code",
   "execution_count": 13,
   "metadata": {},
   "outputs": [
    {
     "data": {
      "text/html": [
       "<div>\n",
       "<style scoped>\n",
       "    .dataframe tbody tr th:only-of-type {\n",
       "        vertical-align: middle;\n",
       "    }\n",
       "\n",
       "    .dataframe tbody tr th {\n",
       "        vertical-align: top;\n",
       "    }\n",
       "\n",
       "    .dataframe thead th {\n",
       "        text-align: right;\n",
       "    }\n",
       "</style>\n",
       "<table border=\"1\" class=\"dataframe\">\n",
       "  <thead>\n",
       "    <tr style=\"text-align: right;\">\n",
       "      <th></th>\n",
       "      <th>user_id</th>\n",
       "      <th>timestamp</th>\n",
       "      <th>group</th>\n",
       "      <th>landing_page</th>\n",
       "      <th>converted</th>\n",
       "    </tr>\n",
       "  </thead>\n",
       "  <tbody>\n",
       "    <tr>\n",
       "      <th>2</th>\n",
       "      <td>661590</td>\n",
       "      <td>2017-01-11 16:55:06.154213</td>\n",
       "      <td>treatment</td>\n",
       "      <td>new_page</td>\n",
       "      <td>0</td>\n",
       "    </tr>\n",
       "    <tr>\n",
       "      <th>3</th>\n",
       "      <td>853541</td>\n",
       "      <td>2017-01-08 18:28:03.143765</td>\n",
       "      <td>treatment</td>\n",
       "      <td>new_page</td>\n",
       "      <td>0</td>\n",
       "    </tr>\n",
       "    <tr>\n",
       "      <th>6</th>\n",
       "      <td>679687</td>\n",
       "      <td>2017-01-19 03:26:46.940749</td>\n",
       "      <td>treatment</td>\n",
       "      <td>new_page</td>\n",
       "      <td>1</td>\n",
       "    </tr>\n",
       "    <tr>\n",
       "      <th>8</th>\n",
       "      <td>817355</td>\n",
       "      <td>2017-01-04 17:58:08.979471</td>\n",
       "      <td>treatment</td>\n",
       "      <td>new_page</td>\n",
       "      <td>1</td>\n",
       "    </tr>\n",
       "    <tr>\n",
       "      <th>9</th>\n",
       "      <td>839785</td>\n",
       "      <td>2017-01-15 18:11:06.610965</td>\n",
       "      <td>treatment</td>\n",
       "      <td>new_page</td>\n",
       "      <td>1</td>\n",
       "    </tr>\n",
       "    <tr>\n",
       "      <th>...</th>\n",
       "      <td>...</td>\n",
       "      <td>...</td>\n",
       "      <td>...</td>\n",
       "      <td>...</td>\n",
       "      <td>...</td>\n",
       "    </tr>\n",
       "    <tr>\n",
       "      <th>294471</th>\n",
       "      <td>718310</td>\n",
       "      <td>2017-01-21 22:44:20.378320</td>\n",
       "      <td>control</td>\n",
       "      <td>old_page</td>\n",
       "      <td>0</td>\n",
       "    </tr>\n",
       "    <tr>\n",
       "      <th>294473</th>\n",
       "      <td>751197</td>\n",
       "      <td>2017-01-03 22:28:38.630509</td>\n",
       "      <td>control</td>\n",
       "      <td>old_page</td>\n",
       "      <td>0</td>\n",
       "    </tr>\n",
       "    <tr>\n",
       "      <th>294474</th>\n",
       "      <td>945152</td>\n",
       "      <td>2017-01-12 00:51:57.078372</td>\n",
       "      <td>control</td>\n",
       "      <td>old_page</td>\n",
       "      <td>0</td>\n",
       "    </tr>\n",
       "    <tr>\n",
       "      <th>294475</th>\n",
       "      <td>734608</td>\n",
       "      <td>2017-01-22 11:45:03.439544</td>\n",
       "      <td>control</td>\n",
       "      <td>old_page</td>\n",
       "      <td>0</td>\n",
       "    </tr>\n",
       "    <tr>\n",
       "      <th>294476</th>\n",
       "      <td>697314</td>\n",
       "      <td>2017-01-15 01:20:28.957438</td>\n",
       "      <td>control</td>\n",
       "      <td>old_page</td>\n",
       "      <td>0</td>\n",
       "    </tr>\n",
       "  </tbody>\n",
       "</table>\n",
       "<p>290585 rows × 5 columns</p>\n",
       "</div>"
      ],
      "text/plain": [
       "        user_id                   timestamp      group landing_page  converted\n",
       "2        661590  2017-01-11 16:55:06.154213  treatment     new_page          0\n",
       "3        853541  2017-01-08 18:28:03.143765  treatment     new_page          0\n",
       "6        679687  2017-01-19 03:26:46.940749  treatment     new_page          1\n",
       "8        817355  2017-01-04 17:58:08.979471  treatment     new_page          1\n",
       "9        839785  2017-01-15 18:11:06.610965  treatment     new_page          1\n",
       "...         ...                         ...        ...          ...        ...\n",
       "294471   718310  2017-01-21 22:44:20.378320    control     old_page          0\n",
       "294473   751197  2017-01-03 22:28:38.630509    control     old_page          0\n",
       "294474   945152  2017-01-12 00:51:57.078372    control     old_page          0\n",
       "294475   734608  2017-01-22 11:45:03.439544    control     old_page          0\n",
       "294476   697314  2017-01-15 01:20:28.957438    control     old_page          0\n",
       "\n",
       "[290585 rows x 5 columns]"
      ]
     },
     "execution_count": 13,
     "metadata": {},
     "output_type": "execute_result"
    }
   ],
   "source": [
    "df2_01=df[(df['landing_page']=='new_page')&(df['group']=='treatment')]\n",
    "#这个代码是为了筛选当存在new_page的时候只能匹配treatment group\n",
    "df2_02=df[(df['landing_page']=='old_page')&(df['group']=='control')]\n",
    "#这个代码是为了筛选当存在old_page的时候只能匹配control group\n",
    "df2=pd.concat([df2_01,df2_02])\n",
    "df2"
   ]
  },
  {
   "cell_type": "code",
   "execution_count": 14,
   "metadata": {},
   "outputs": [
    {
     "data": {
      "text/plain": [
       "0"
      ]
     },
     "execution_count": 14,
     "metadata": {},
     "output_type": "execute_result"
    }
   ],
   "source": [
    "# Double Check all of the correct rows were removed - this should be 0\n",
    "df2[((df2['group'] == 'treatment') == (df2['landing_page'] == 'new_page')) == False].shape[0]"
   ]
  },
  {
   "cell_type": "code",
   "execution_count": 15,
   "metadata": {},
   "outputs": [
    {
     "data": {
      "text/plain": [
       "0"
      ]
     },
     "execution_count": 15,
     "metadata": {},
     "output_type": "execute_result"
    }
   ],
   "source": [
    "df2[((df2['group'] == 'control') == (df2['landing_page'] == 'old_page')) == False].shape[0]"
   ]
  },
  {
   "cell_type": "markdown",
   "metadata": {},
   "source": [
    "`3.` 根据 **df2** 来回答以下问题。\n",
    "\n",
    "a.  **df2** 中的用户数量（不同的 **user_id**) ?"
   ]
  },
  {
   "cell_type": "code",
   "execution_count": 16,
   "metadata": {},
   "outputs": [
    {
     "data": {
      "text/plain": [
       "290584"
      ]
     },
     "execution_count": 16,
     "metadata": {},
     "output_type": "execute_result"
    }
   ],
   "source": [
    "df2.user_id.nunique()"
   ]
  },
  {
   "cell_type": "markdown",
   "metadata": {},
   "source": [
    "b.  **df2** 中有一个重复的 **user_id** 。它是什么？"
   ]
  },
  {
   "cell_type": "code",
   "execution_count": 17,
   "metadata": {},
   "outputs": [
    {
     "data": {
      "text/plain": [
       "2893    773192\n",
       "Name: user_id, dtype: int64"
      ]
     },
     "execution_count": 17,
     "metadata": {},
     "output_type": "execute_result"
    }
   ],
   "source": [
    "df2[df2['user_id'].duplicated()]['user_id']\n",
    "#通过提取df2中user_id重复的那一行数据,得知重复的user_id是773192"
   ]
  },
  {
   "cell_type": "markdown",
   "metadata": {},
   "source": [
    "c. 这个重复  **user_id** 的行信息是什么？"
   ]
  },
  {
   "cell_type": "code",
   "execution_count": 18,
   "metadata": {},
   "outputs": [
    {
     "data": {
      "text/html": [
       "<div>\n",
       "<style scoped>\n",
       "    .dataframe tbody tr th:only-of-type {\n",
       "        vertical-align: middle;\n",
       "    }\n",
       "\n",
       "    .dataframe tbody tr th {\n",
       "        vertical-align: top;\n",
       "    }\n",
       "\n",
       "    .dataframe thead th {\n",
       "        text-align: right;\n",
       "    }\n",
       "</style>\n",
       "<table border=\"1\" class=\"dataframe\">\n",
       "  <thead>\n",
       "    <tr style=\"text-align: right;\">\n",
       "      <th></th>\n",
       "      <th>user_id</th>\n",
       "      <th>timestamp</th>\n",
       "      <th>group</th>\n",
       "      <th>landing_page</th>\n",
       "      <th>converted</th>\n",
       "    </tr>\n",
       "  </thead>\n",
       "  <tbody>\n",
       "    <tr>\n",
       "      <th>2893</th>\n",
       "      <td>773192</td>\n",
       "      <td>2017-01-14 02:55:59.590927</td>\n",
       "      <td>treatment</td>\n",
       "      <td>new_page</td>\n",
       "      <td>0</td>\n",
       "    </tr>\n",
       "  </tbody>\n",
       "</table>\n",
       "</div>"
      ],
      "text/plain": [
       "      user_id                   timestamp      group landing_page  converted\n",
       "2893   773192  2017-01-14 02:55:59.590927  treatment     new_page          0"
      ]
     },
     "execution_count": 18,
     "metadata": {},
     "output_type": "execute_result"
    }
   ],
   "source": [
    "df2[df2['user_id'].duplicated()]"
   ]
  },
  {
   "cell_type": "markdown",
   "metadata": {},
   "source": [
    "d. 删除一行重复行，但仍然存储 dataframe 为 **df2**。"
   ]
  },
  {
   "cell_type": "code",
   "execution_count": 19,
   "metadata": {},
   "outputs": [
    {
     "data": {
      "text/html": [
       "<div>\n",
       "<style scoped>\n",
       "    .dataframe tbody tr th:only-of-type {\n",
       "        vertical-align: middle;\n",
       "    }\n",
       "\n",
       "    .dataframe tbody tr th {\n",
       "        vertical-align: top;\n",
       "    }\n",
       "\n",
       "    .dataframe thead th {\n",
       "        text-align: right;\n",
       "    }\n",
       "</style>\n",
       "<table border=\"1\" class=\"dataframe\">\n",
       "  <thead>\n",
       "    <tr style=\"text-align: right;\">\n",
       "      <th></th>\n",
       "      <th>user_id</th>\n",
       "      <th>timestamp</th>\n",
       "      <th>group</th>\n",
       "      <th>landing_page</th>\n",
       "      <th>converted</th>\n",
       "    </tr>\n",
       "  </thead>\n",
       "  <tbody>\n",
       "    <tr>\n",
       "      <th>2</th>\n",
       "      <td>661590</td>\n",
       "      <td>2017-01-11 16:55:06.154213</td>\n",
       "      <td>treatment</td>\n",
       "      <td>new_page</td>\n",
       "      <td>0</td>\n",
       "    </tr>\n",
       "    <tr>\n",
       "      <th>3</th>\n",
       "      <td>853541</td>\n",
       "      <td>2017-01-08 18:28:03.143765</td>\n",
       "      <td>treatment</td>\n",
       "      <td>new_page</td>\n",
       "      <td>0</td>\n",
       "    </tr>\n",
       "    <tr>\n",
       "      <th>6</th>\n",
       "      <td>679687</td>\n",
       "      <td>2017-01-19 03:26:46.940749</td>\n",
       "      <td>treatment</td>\n",
       "      <td>new_page</td>\n",
       "      <td>1</td>\n",
       "    </tr>\n",
       "    <tr>\n",
       "      <th>8</th>\n",
       "      <td>817355</td>\n",
       "      <td>2017-01-04 17:58:08.979471</td>\n",
       "      <td>treatment</td>\n",
       "      <td>new_page</td>\n",
       "      <td>1</td>\n",
       "    </tr>\n",
       "    <tr>\n",
       "      <th>9</th>\n",
       "      <td>839785</td>\n",
       "      <td>2017-01-15 18:11:06.610965</td>\n",
       "      <td>treatment</td>\n",
       "      <td>new_page</td>\n",
       "      <td>1</td>\n",
       "    </tr>\n",
       "    <tr>\n",
       "      <th>...</th>\n",
       "      <td>...</td>\n",
       "      <td>...</td>\n",
       "      <td>...</td>\n",
       "      <td>...</td>\n",
       "      <td>...</td>\n",
       "    </tr>\n",
       "    <tr>\n",
       "      <th>294471</th>\n",
       "      <td>718310</td>\n",
       "      <td>2017-01-21 22:44:20.378320</td>\n",
       "      <td>control</td>\n",
       "      <td>old_page</td>\n",
       "      <td>0</td>\n",
       "    </tr>\n",
       "    <tr>\n",
       "      <th>294473</th>\n",
       "      <td>751197</td>\n",
       "      <td>2017-01-03 22:28:38.630509</td>\n",
       "      <td>control</td>\n",
       "      <td>old_page</td>\n",
       "      <td>0</td>\n",
       "    </tr>\n",
       "    <tr>\n",
       "      <th>294474</th>\n",
       "      <td>945152</td>\n",
       "      <td>2017-01-12 00:51:57.078372</td>\n",
       "      <td>control</td>\n",
       "      <td>old_page</td>\n",
       "      <td>0</td>\n",
       "    </tr>\n",
       "    <tr>\n",
       "      <th>294475</th>\n",
       "      <td>734608</td>\n",
       "      <td>2017-01-22 11:45:03.439544</td>\n",
       "      <td>control</td>\n",
       "      <td>old_page</td>\n",
       "      <td>0</td>\n",
       "    </tr>\n",
       "    <tr>\n",
       "      <th>294476</th>\n",
       "      <td>697314</td>\n",
       "      <td>2017-01-15 01:20:28.957438</td>\n",
       "      <td>control</td>\n",
       "      <td>old_page</td>\n",
       "      <td>0</td>\n",
       "    </tr>\n",
       "  </tbody>\n",
       "</table>\n",
       "<p>290584 rows × 5 columns</p>\n",
       "</div>"
      ],
      "text/plain": [
       "        user_id                   timestamp      group landing_page  converted\n",
       "2        661590  2017-01-11 16:55:06.154213  treatment     new_page          0\n",
       "3        853541  2017-01-08 18:28:03.143765  treatment     new_page          0\n",
       "6        679687  2017-01-19 03:26:46.940749  treatment     new_page          1\n",
       "8        817355  2017-01-04 17:58:08.979471  treatment     new_page          1\n",
       "9        839785  2017-01-15 18:11:06.610965  treatment     new_page          1\n",
       "...         ...                         ...        ...          ...        ...\n",
       "294471   718310  2017-01-21 22:44:20.378320    control     old_page          0\n",
       "294473   751197  2017-01-03 22:28:38.630509    control     old_page          0\n",
       "294474   945152  2017-01-12 00:51:57.078372    control     old_page          0\n",
       "294475   734608  2017-01-22 11:45:03.439544    control     old_page          0\n",
       "294476   697314  2017-01-15 01:20:28.957438    control     old_page          0\n",
       "\n",
       "[290584 rows x 5 columns]"
      ]
     },
     "execution_count": 19,
     "metadata": {},
     "output_type": "execute_result"
    }
   ],
   "source": [
    "df2=df2.drop(df2.index[2893])\n",
    "df2\n",
    "#通过上一问重复的user_id的行的信息得知这个user_id的index信息，所以我选择通过index来删除这一行\n",
    "#与删除前的length 290585相比现在是290584，说明已经删除成功\n"
   ]
  },
  {
   "cell_type": "markdown",
   "metadata": {},
   "source": [
    "`4.` 使用优化过的 **df2** 来回答以下问题。\n",
    "\n",
    "a. 用户成功转化的整体概率是多少？（不分旧页面或者新页面）"
   ]
  },
  {
   "cell_type": "code",
   "execution_count": 20,
   "metadata": {},
   "outputs": [
    {
     "name": "stdout",
     "output_type": "stream",
     "text": [
      "34753\n",
      "290584\n",
      "0.11959708724499628\n"
     ]
    }
   ],
   "source": [
    "\n",
    "convert_num=df2[df2['converted']==1].shape[0]\n",
    "print(convert_num)\n",
    "before_convert_num=df2.shape[0]\n",
    "print(before_convert_num)\n",
    "print(convert_num/before_convert_num)\n",
    "#优化过的df2用户成功转化率约等于11.96%"
   ]
  },
  {
   "cell_type": "markdown",
   "metadata": {},
   "source": [
    "b. `control` 组用户的转化率是多少？"
   ]
  },
  {
   "cell_type": "code",
   "execution_count": 21,
   "metadata": {},
   "outputs": [
    {
     "name": "stdout",
     "output_type": "stream",
     "text": [
      "17489\n",
      "145274\n",
      "0.1203863045004612\n"
     ]
    }
   ],
   "source": [
    "convert_num=df2[(df2['converted']==1)&(df2['group']=='control')].shape[0]\n",
    "print(convert_num)\n",
    "before_convert_num=df2[df2['group']=='control'].shape[0]\n",
    "print(before_convert_num)\n",
    "print(convert_num/before_convert_num)\n",
    "#优化过的df2 control组用户成功转化率约等于12.04%"
   ]
  },
  {
   "cell_type": "markdown",
   "metadata": {},
   "source": [
    "c. `treatment` 组用户的转化率是多少？"
   ]
  },
  {
   "cell_type": "code",
   "execution_count": 22,
   "metadata": {},
   "outputs": [
    {
     "name": "stdout",
     "output_type": "stream",
     "text": [
      "17264\n",
      "145310\n",
      "0.11880806551510564\n"
     ]
    }
   ],
   "source": [
    "convert_num=df2[(df2['converted']==1)&(df2['group']=='treatment')].shape[0]\n",
    "print(convert_num)\n",
    "before_convert_num=df2[df2['group']=='treatment'].shape[0]\n",
    "print(before_convert_num)\n",
    "print(convert_num/before_convert_num)\n",
    "#优化过的df2 treatment组用户成功转化率约等于11.88%"
   ]
  },
  {
   "cell_type": "markdown",
   "metadata": {},
   "source": [
    "d. 一个用户收到新页面的概率是多少？"
   ]
  },
  {
   "cell_type": "code",
   "execution_count": 23,
   "metadata": {},
   "outputs": [
    {
     "name": "stdout",
     "output_type": "stream",
     "text": [
      "145310\n",
      "290584\n",
      "0.5000619442226688\n"
     ]
    }
   ],
   "source": [
    "newpage_num=df2[df2['landing_page']=='new_page'].shape[0]\n",
    "print(newpage_num)\n",
    "total_num=df2.shape[0]\n",
    "print(total_num)\n",
    "print(newpage_num/total_num)\n",
    "#优化过的df2 用户收到新页面的概率约等于50.006%"
   ]
  },
  {
   "cell_type": "markdown",
   "metadata": {},
   "source": [
    "e. 分析到这里，你是否认为有足够的数据支持来证明旧页面或者新页面可以带来更高的转化率？\n",
    "\n",
    "**在这里写出你的答案。**"
   ]
  },
  {
   "cell_type": "markdown",
   "metadata": {},
   "source": [
    "通过前面几个问得知control组的成功转化率为12.04%，treatment组的用户成功转化率为11.88%，control组略微高于treatment组的转化率，用户收到新页面的概率为50.006%，与旧页面几乎相等，但是我觉得还是不太能完全证明旧页面（因为旧页面对应的control组）就可以带来更高的转化率，还有其他的外界因素，像不同年龄层次的用户可能喜欢不同的界面，年龄大一点的可能刚开始是用不惯新的页面，或许应该延长测试时间，多观察和测试一下。"
   ]
  },
  {
   "cell_type": "markdown",
   "metadata": {},
   "source": [
    "<a id='ab_test'></a>\n",
    "### II - A/B 测试\n",
    "\n",
    "因为每个事件都对应有一个时间记录（time stamp 时间戳），所以技术上你可以实现每次观察都连续运行假设检验。\n",
    "\n",
    "然而，问题的难点在于，什么时候停止你的试验：是在发现其中一组的试验效果足够好时立即停止？还是在这样的观察结果又持续发生了一段时间再停止？需要运行多长时间才能确认两个页面没有带来用户转化率的显著差异？这些问题是 A/B 测试中最难的部分，但我们相信你可以通过这个项目了解这些问题的思考方向。"
   ]
  },
  {
   "cell_type": "markdown",
   "metadata": {},
   "source": [
    "`1.` 现在，你需要根据我们提供的数据做出决策：你假设旧页面效果更佳，除非在一类错误在5%以内，新页面被证明更好。基于此，你的零假设和备择假设是什么？ 你可以用文字表述或用 **$p_{old}$** 与 **$p_{new}$** （即，旧页面转化率与新页面转化率）来陈述你的假设。\n",
    "\n",
    "**在这里给出你的答案。**"
   ]
  },
  {
   "cell_type": "markdown",
   "metadata": {},
   "source": [
    "H0：P𝑜𝑙𝑑>=P𝑛𝑒𝑤\n",
    "假设旧页面效果更佳,旧页面转化率高于新页面转化率\n",
    "Ha: P𝑜𝑙𝑑<P𝑛𝑒𝑤\n",
    "旧页面转化率低于新页面转化率\n",
    "如果P-value<阿尔法(5%),则拒绝零假设支持备择假设\n",
    "    \n",
    "    "
   ]
  },
  {
   "cell_type": "markdown",
   "metadata": {},
   "source": [
    "`2.` 假定在零假设中，不管是新页面还是旧页面， $p_{new}$ 与 $p_{old}$ 都有相同的转化成功的概率，也就是说，  $p_{new}$ 与 $p_{old}$ 是相等的。此外，我们还假设它们都等于**ab_data.csv** 中的 **转化率(converted)**。  <br>\n",
    "\n",
    "现在，在新旧页面上执行抽样分布，并计算 **转化(converted)** 差异。记住，每个页面的样本大小要与 **ab_data.csv** 相同。计算零假设中10000次迭代计算的估计值。  <br>\n",
    "\n",
    "使用下面的单元格提供这个模拟试验的内容。如果不太理解如何进行模拟，不要担心，你可以通过回答下面的问题来理清思路。同时，也可以验证你的答案是否正确。<br>\n",
    "\n",
    "a. 在零假设中，$p_{new}$ **转化率** 是多少？"
   ]
  },
  {
   "cell_type": "code",
   "execution_count": 24,
   "metadata": {},
   "outputs": [
    {
     "name": "stdout",
     "output_type": "stream",
     "text": [
      "0.11959708724499628\n"
     ]
    }
   ],
   "source": [
    "convert_num=df2[df2['converted']==1].shape[0]\n",
    "before_convert_num=df2['user_id'].shape[0]\n",
    "P𝑛𝑒𝑤=convert_num/before_convert_num\n",
    "print(P𝑛𝑒𝑤)\n"
   ]
  },
  {
   "cell_type": "markdown",
   "metadata": {},
   "source": [
    "b. 在零假设中， $p_{old}$ **转化率** 是多少？ "
   ]
  },
  {
   "cell_type": "code",
   "execution_count": 25,
   "metadata": {},
   "outputs": [
    {
     "name": "stdout",
     "output_type": "stream",
     "text": [
      "0.11959708724499628\n"
     ]
    }
   ],
   "source": [
    "convert_num=df2[df2['converted']==1].shape[0]\n",
    "before_convert_num=df2.shape[0]\n",
    "P𝑜𝑙𝑑=convert_num/before_convert_num\n",
    "print(P𝑜𝑙𝑑)"
   ]
  },
  {
   "cell_type": "markdown",
   "metadata": {},
   "source": [
    "c.  $n_{new}$ 是多少？"
   ]
  },
  {
   "cell_type": "code",
   "execution_count": 26,
   "metadata": {},
   "outputs": [
    {
     "name": "stdout",
     "output_type": "stream",
     "text": [
      "145310\n"
     ]
    }
   ],
   "source": [
    "n𝑛𝑒𝑤=df2[df2['landing_page']=='new_page'].shape[0]\n",
    "print(n𝑛𝑒𝑤)"
   ]
  },
  {
   "cell_type": "markdown",
   "metadata": {},
   "source": [
    "d.  $n_{old}$?是多少？"
   ]
  },
  {
   "cell_type": "code",
   "execution_count": 27,
   "metadata": {},
   "outputs": [
    {
     "name": "stdout",
     "output_type": "stream",
     "text": [
      "145274\n"
     ]
    }
   ],
   "source": [
    "n𝑜𝑙𝑑=df2[df2['landing_page']=='old_page'].shape[0]\n",
    "print(n𝑜𝑙𝑑)"
   ]
  },
  {
   "cell_type": "markdown",
   "metadata": {},
   "source": [
    "e. 在零假设中，使用 $p_{new}$ （新页面的转化率）模拟 $n_{new}$ 个新页面的转化，并将这些 $n_{new}$ 个 1 和 0 存储在 **new_page_converted** 中。(提示：可以使用  [numpy.random.choice](https://docs.scipy.org/doc/numpy/reference/generated/numpy.random.choice.html)。)"
   ]
  },
  {
   "cell_type": "code",
   "execution_count": 28,
   "metadata": {},
   "outputs": [
    {
     "name": "stdout",
     "output_type": "stream",
     "text": [
      "[0 0 0 ... 0 1 0]\n"
     ]
    }
   ],
   "source": [
    "new_page_converted=np.random.choice([0,1], n𝑛𝑒𝑤, [1-P𝑛𝑒𝑤,P𝑛𝑒𝑤])\n",
    "print(new_page_converted)"
   ]
  },
  {
   "cell_type": "markdown",
   "metadata": {},
   "source": [
    "f. 在零假设中，使用 $p_{old}$ （旧页面的转化率）模拟 $n_{old}$ 个旧页面的转化，并将这些  $n_{old}$ 个 1 和 0 存储在 **old_page_converted** 中。"
   ]
  },
  {
   "cell_type": "code",
   "execution_count": 29,
   "metadata": {},
   "outputs": [
    {
     "name": "stdout",
     "output_type": "stream",
     "text": [
      "[1 1 0 ... 1 1 1]\n"
     ]
    }
   ],
   "source": [
    "old_page_converted=np.random.choice([0,1], n𝑜𝑙𝑑, [1-P𝑜𝑙𝑑,P𝑜𝑙𝑑])\n",
    "print(old_page_converted)"
   ]
  },
  {
   "cell_type": "markdown",
   "metadata": {},
   "source": [
    "g. 根据 e 和 f，计算 $p_{new}$ 和 $p_{old}$ 的差异值（$p_{new}$ - $p_{old}$）。"
   ]
  },
  {
   "cell_type": "code",
   "execution_count": 30,
   "metadata": {},
   "outputs": [
    {
     "name": "stdout",
     "output_type": "stream",
     "text": [
      "-0.003806008178127984\n"
     ]
    }
   ],
   "source": [
    "diff=new_page_converted.mean()-old_page_converted.mean()\n",
    "print(diff)"
   ]
  },
  {
   "cell_type": "markdown",
   "metadata": {},
   "source": [
    "h. 由于单个数值不能形成分布图形，请参考以上a-g的过程，模拟 10,000 个 $p_{new}$ 与 $p_{old}$ 差异值（$p_{new}$ - $p_{old}$），将这 10,000 个值存储在 **p_diffs** 中。"
   ]
  },
  {
   "cell_type": "code",
   "execution_count": 31,
   "metadata": {},
   "outputs": [
    {
     "name": "stdout",
     "output_type": "stream",
     "text": [
      "[-0.00015151130337509588, 0.0007706670370911661, 0.0016934593114422136, 0.0016656829718350585, 0.0011905274204346838, 0.0017753251211710674, -0.00026837466054702164, -8.951506591237113e-05, 0.0017619724381450208, 0.00033006052032336086, -0.0002615797956867505, -0.0006332911824455945, 0.003090559567358264, 0.00010326680596378646, -0.002395021457780422, -0.0005987950143417908, 0.00013773057200133776, 0.00523104848935374, -0.002849292740632503, 0.0009294779954096555, -0.0013348993738250825, 0.00116996205643205, 0.0037167455072571465, -0.0004952348844107779, 0.0013214852974103852, 0.0007084832087193016, 0.00039214884786864523, 0.0023747101941913318, -0.002525554697152377, 0.00045429174731498323, -0.0005501957995748263, -0.001259357746311307, 0.0004196403903680146, -0.002539483795881592, -0.002374546478488615, -0.0007772606680668814, 0.00015129983725914453, 0.003317327701139239, 0.00030317097410564875, -0.001307875103226941, -0.002099361604734229, 0.0028563519381377134, 0.00032334410257051083, -0.0027669289623079574, -0.0025465054752050187, -0.0005230913764974199, -0.0016863472474080154, 0.000516622237670461, 0.0023880594664736354, -0.0012595419264768148, 0.0005093481633054453, 6.837499157863469e-06, -0.0004953048046588138, -0.0005441837004177552, 0.003923282529928573, -0.003324959903603708, -0.0018924408733847486, -0.0013490928051991258, 0.002009253069399586, 0.0031038286871611365, 0.002732451553295212, -0.0024847445790650013, 0.001245556550474869, -0.0019271502129762919, -0.0006399052778841563, -0.0028838332484056872, 0.0005433583004169629, -0.0008052587060213834, -0.0018652938160096388, -0.0008945708326774104, -0.001610508885183215, 2.0171423093073848e-05, 0.0023953744697641777, 0.0009017050665463544, -0.0034000103840095552, 0.00019295240906647138, -0.002698245298415003, 0.000812022874187468, -0.001755085483201968, 0.0032277069021688365, -0.0007911386056390635, -0.0005579541995601733, -0.0008399595187533748, 0.0017893855335369135, -0.0001995818528522375, -0.001149205690776367, 0.001975473157495078, 0.002312548535654102, -0.0005714740090326798, -0.0018861064589381638, -0.0002275065598149606, 0.0001309322963972126, -0.00034427612153220544, -0.001961289958352319, -8.232967088639409e-05, -0.0015759615559224338, 0.001734022150603809, 0.0025538852826278435, 0.0020098414227059935, 0.0009288538292931969, 0.0027259193157079253, 0.0020025878128039354, -0.0005643977578085324, -0.0015618909113253032, 0.00414308185091522, -2.7225504482586427e-05, -6.220088209096808e-05, -0.0015901140583709505, 0.0015965951348010932, -0.0004541979518603023, -0.0025327298599469583, -0.003957782108776009, 0.0014933351503250147, -0.0015141853114353232, 0.00094973127635406, -0.0002754935460688168, 0.005416926352567852, -0.004074843289088803, 0.0016793596755227957, -0.0003995167176882308, 0.0031520697738285364, 0.000364867066113328, 1.4068939225231336e-05, 0.001569529935277425, -0.0016173566165725295, 0.00373057228367224, -0.0007983990370288296, -0.0012530506178151102, -0.0019547150864674956, 0.0022711381266569686, -0.001885690348193969, -0.004088151632445414, 0.0006402241824299826, 0.0024437229948615635, 0.0015627026683510126, 0.0013417385783548452, 0.0005986978081433669, -0.001906726394841629, -8.915352706906354e-05, 0.0031107633925174794, 0.0014729249751654905, -0.0008053081618065727, -0.0016858970292257802, 0.0005024663244782013, -0.006359864469433596, -0.0004952161253198861, -0.0012665124446430975, -4.799892385726201e-05, 0.00482442311837511, 0.0009847544043756762, 0.0003097270868995805, -0.0024640683658886386, 0.000984507125449785, 0.0006125228791865611, 0.001506843022194282, -0.0003029987315433802, -0.0015761389146003446, -0.0007363652813843768, 0.0011352868242785474, 0.0004336684006676639, 0.0008672037823269085, 0.0013834508381788124, -0.002216071478434889, 0.00131476035279815, 0.0023681387330502512, -0.0008466588827871213, -0.00013084020631448645, 0.001989185673992644, 0.000619457584542793, 0.0013902661675018746, 0.0037711982215942186, 0.00030958724640350876, 0.0007432471202116209, 0.002367454878917319, -0.0012458566959296924, -0.00206463009530794, -0.002195608436746488, 0.0020714829428128967, 7.530458081927982e-05, -0.0024912580575613408, -0.0043292308682618685, -0.0025052707195137303, -0.0008804916612207281, 0.003579009819140111, -0.00029605549932765207, 0.0009360630995258745, 2.3193057874237866e-07, -0.0015826847951628809, -0.002092247835328076, -0.0008742663905759729, -6.9432322157281234e-06, -0.0006400724043305606, -0.0018926659824759495, 0.0032278774393591503, 0.0010256361480830978, 0.0001927852826200116, 0.001183913324996011, 0.00244342284940674, -0.0008878646471560669, 0.0009567034998921864, -0.00042689400027018376, 0.0011564985242322745, -0.004501225677788101, -0.0017002200688645552, -0.005416813798022335, -0.0042737873328494436, 0.0018238475942025656, 0.000151434561639463, -0.0016036441000749635, -0.0014726367673140173, -0.0016314716008392072, -0.0005711005325860774, 0.002601573828798831, 0.0013834354898316636, -0.001521200169271042, -0.003792437207498389, 0.0005715251701897683, 0.00442566358581159, 6.892241595940485e-05, 0.0008880164252553224, 0.00503105905261686, -0.002856239383592085, 3.477925983957908e-05, 0.002298801911718551, -0.0007294612727222205, 0.0007086861479757012, 0.00045429004194297296, -0.0020171785958313926, 0.0022297942271639615, -0.002615511454387598, 0.0029117409016492513, 0.0007982165622351101, -0.0010526996422348667, -0.002691094010827011, 0.0009358703925009815, 0.00040611717015170967, 0.0005367254458873427, 0.003158989130837786, -0.00019975239004244028, -0.00017916826694897026, 0.0011492704949087051, -0.0002614246068435855, 0.0016314323772854133, -0.0016313368764587777, -0.0031795749593032108, -0.0018653296288195786, 0.0002199681528050057, -0.0006398575274709217, 0.00044052465891647463, 0.0009220163301353335, -0.0004681543365400165, -0.0011703679349449603, 0.0001581919083178951, 1.4290637572578202e-05, -0.0030828386855547563, -0.0012387685071021393, 0.0013632401915319448, -0.0028081347266768475, -0.00015773827939175034, -0.0019545087364672975, -0.003895540297759459, -0.0009360937962201166, -0.0029871853229645473, 0.004783266809791353, -0.0018993329444434992, 0.0003375716413827612, -0.0004543019795462677, 0.0001652442843354529, -0.0022578536585069475, 0.0019267119323973514, -0.0002684616345139945, -0.0013282631085517194, -0.004191513939235669, 0.0016591694933387746, -0.0010051338828408474, 0.0018653773792328687, -0.004226235216430618, -0.0012526839628561603, -0.001548804266315984, -0.001046077019936753, 0.0015693440497400735, 0.002250461913480717, 0.0009843399990032697, -0.001108300071862356, 0.0018929610118150753, -0.00022761229287282525, 0.0003713089189898433, 0.002484867365841914, -0.0016310606062105992, 0.0005646961978914566, -0.00029541598486410026, 0.0035925432715879224, 0.0012460783942769837, 0.00035759128637646853, -0.0023742224578271465, 0.00017908981984143812, 0.0009088802293408804, -0.0009706138395305652, 0.0019338700414728294, -0.0012452546996479796, -0.0010327226315387517, 0.0016519039458333107, 0.0021265120728530817, -0.00115614039613271, 0.0008669428604258789, 0.0001926624958430434, 0.0002204524784253925, -0.00013075323234745806, -0.0009086602363653773, 0.0006470565654721483, 0.001335105723825336, 0.0008263339762228372, 0.0015421697064145201, 0.001218092293925832, 0.0007570193247258827, 0.001190416571260955, 0.0002890474629794193, 0.001734248965066798, -0.0012943075433411444, -0.003289912900375447, -0.0010391849488780025, -0.0008741657736336395, -0.001334999990767305, -0.0006606974563497792, 0.0023812441371504622, 0.000343865126903653, 0.003819695114047117, 0.0013422587167851718, 0.0020578539895385606, 0.004535607585974377, -0.00026867480600190063, 0.0012321629385230182, -0.0004127790160036171, -0.001975178128155841, -0.0016934763651612617, 0.0012666522851390583, -0.0001444572219855278, -0.0030700180785622755, 0.001073815841361958, 0.001190464321674245, 0.0003648704768571265, -0.0016315432264589758, -0.000728992295449038, 0.0011219358466243445, 0.0008538817959949929, 0.0002751763468948898, -0.001858359110653296, -0.0002751951059858371, -0.0022576728890851827, -0.0011910270944021084, -0.0005575892499729562, -0.0004057471044488503, 0.00017224379382402288, -0.0017415776113326453, 0.001397224748064807, 0.0002345521143448659, 0.00022040643338400168, 0.00028893831917775614, -0.0005022736174531972, 0.002470953615459792, -0.0014798392160590979, 0.0015621927621520815, -0.0009845156523092813, -0.0003581557644762867, -0.0004132155912106583, -0.0015481937431748305, 0.002223599653213393, -0.0026013163176415444, 0.00035108292399582686, -0.001631086186789088, 0.0014385191917726803, -0.0012656887500140934, 0.0019477292199540641, -0.002367183724784727, 0.001514086399864889, 5.502060318063329e-05, -0.0009224699590615337, -0.0008807969227913048, -0.004418662370951065, 0.002209586991260948, -6.902473827352651e-05, 0.0011703594080854085, 0.0027873510750707764, 0.0006816090108486272, 0.0015003807048549755, -0.0017138251469321908, -0.0031797949522785474, -0.002002829975614129, 0.0015076206717818952, 0.00046820208695319554, -0.0021745979706773166, -0.0005854235722247969, 0.0010665076595589573, -0.0009220879557553241, -2.7203334647840638e-05, 0.0017965402318686485, 0.0005645546520234856, 0.0005023486538169308, 0.00020636989622491164, -8.249338658911087e-05, -0.0033723568311793684, -0.0006262149312213361, -0.001823968675607579, 0.0014591493599075966, -0.0022780199654843236, -0.001872368361861998, 0.001246018706260399, 0.0006401917803638413, 0.0011084382069864729, 0.0009152640995726546, 0.0018031099876377743, 0.003413146484804064, -0.0008533480145894723, -0.00017892951488257536, 0.0007775710457531559, 0.004005596852467874, 0.0030354315257477005, 0.0004338508754612169, -0.002904937509929484, -0.0012871357912903059, -0.0007984399659544672, -0.001665531193735803, 0.0016933603998718905, 0.0003994348598369557, -0.00017250471572516357, -0.002608418149444347, 0.0006057518895328795, 0.0010945005813977615, 0.0016927447606150947, 0.0004264949432449816, -0.0009640355569019432, -6.936410728242137e-06, 0.003765133255908215, 0.003950588186890536, -6.706185521399011e-06, 0.0009014987165461008, 0.0007911812399366003, -0.00032346688934753454, 0.0016934541953265159, -0.000984237676689148, -1.3356093769956168e-05, -0.0016035161971822975, -0.0022368346655782245, -0.001121564075549586, 0.002814516891536667, 0.0023194389013409533, -0.002457056918796774, 0.0005918790680765063, 0.004301645530307874, 0.002690722239752197, -0.0002269096796489456, 0.002271600282442554, 0.00028880871091319094, 0.00046165791176261406, 0.0019341429009773203, -0.0010530168414086827, 0.001080822172338236, 0.002457293965491214, 0.0012322499124900466, 0.0015554490584488434, -2.080070532517464e-05, -0.00082617367126403, 0.0016038709145380081, -0.00019945736070331455, 0.0028840771165877244, 0.004618508556448131, 0.001933769424530496, -0.0006469371894389231, -0.0010117360406762255, -0.0005503646313931854, 0.0018515250222392865, 0.0007984007424006734, 0.0011291962780141107, -0.00026185606593487343, -0.0006195309155346829, -0.0006260733853533651, 0.00040609670568891865, -0.001844528923494515, -0.0003096179430978063, 0.0030902543057876874, 0.0016658637412568233, -0.0030770977405303324, -0.0034834656003516207, 0.0005503032380046458, 0.0020715119341352395, -0.001445250957872568, -0.0020099778524582668, 0.0009707553853984252, 0.0007498373404436487, -0.0006741695154091065, 0.0002755378857383084, 0.0034347947599647766, 0.0016723635767779688, -0.00024753984778380644, -0.0013628291969034478, 0.0026497296468711573, 7.545635891859082e-05, -2.523950415334042e-07, -0.00022693184948369138, -0.001300582269771089, 0.0014656918297263344, -0.0010188157026442823, 0.0013012524809288828, 0.0026157212151315945, 0.0009494925242876651, 0.00021379233794538433, -0.0007916843246479344, 0.0007087611843393793, 0.002574356851175741, 0.0003854767697853978, -0.0001513765789947219, -7.536938495156242e-05, -0.0009570616279918065, 0.0021546397190720934, -0.0016516003896346332, 0.0020788474018886838, -0.0013492275295795553, 0.00033063181991077606, 0.003372943479113877, -0.002436498376281848, 0.003978224686001619, -0.001293710663175185, -0.0011836575192106236, -0.0005093669223965036, 0.0005233778789769938, 0.002546299125204765, -0.0009632630234299722, -0.004508138213309754, 0.00046123839027456537, 0.0021266280381423974, 0.0010394509868947854, 0.002663827577418787, -0.0012387275781764462, 0.0008467953125393946, 0.001589776394734177, -0.0008951728289591232, -0.0005569531462532584, 0.00021369342637500566, 0.001025472432380381, -0.0009982230526912605, -0.0005367970715073334, 0.0007020703471650735, 0.0035099748486351334, -0.0013077659594252222, -0.001390984129072903, -0.0002406904110226482, -0.0010253547617191106, -0.00039937858256411385, 0.0023745055495629774, 0.0021268207451674015, 0.0031798120059977064, 6.661845851851922e-06, 0.0015278500775195991, 0.0008673180422443805, 0.0014043231691238112, 0.0011009816578280152, -0.0016035451885046403, 0.0003991637057044195, 0.0011083853404575406, 0.0034204666042103593, 0.0008466145431176297, -0.00028215539192072425, -0.0003235197558765779, 0.0008120331064188635, 0.00024117814738683352, -0.0007572495499326148, -0.0022785059964766097, -0.0013700606369707602, 0.0005714433123384377, -0.00030277021170849183, 0.0002474903919986726, -0.0002552317382649161, 0.0006678316902187231, -0.0007573586937345, -0.001892720554376781, -0.0015279285246271868, 0.0035652478468573556, -0.0011633667200843245, 0.0001165802654361503, 0.0014245269942830818, 0.0015554132456389036, 0.0007162347872169406, 0.0024023808007404557, -9.682836383106963e-05, 0.00026180490477789586, 0.0004540035394634545, 0.0015828979666507315, -0.0002542187473547064, -0.0002544097490078112, 0.00022662999865685762, -0.001637991900823088, -0.0025738315966298275, -0.001892625053550201, -0.0018237913169297237, -0.0004199627056576949, -0.0004887913261624188, 0.0008671679695169687, 0.005244622870727189, -0.001162715268017589, -0.0001788340140560507, -0.0006329535188088209, 0.0012524196302112767, 0.0009501166904040126, -0.0003853147594546358, 0.0004336888651305104, -0.0024641672774590173, -0.0008394888361082931, 0.0015758114831950776, -0.0010186502815696108, 0.001300906290432613, 0.0012112667323712634, -0.00017888346984124004, -0.0014868046181096273, -0.0016861698887301602, -0.004783350373014639, -0.00017860890496490534, 0.0009635597581409971, -0.004136614417460216, 0.0014452833599387649, 0.0013281437325185497, -0.0026293655167530794, 0.0016109829785721508, -0.001142506326742676, 0.0012323522348042237, -0.000233854617236684, 0.00033059259635698224, 0.0035241222349679524, -0.0034135915868706568, 0.0029595573507130157, -0.000977301265960906, 0.0006676389831937191, -0.00304904001455919, -0.00043367010603956313, 0.001569219557591095, -0.001968458299659248, 0.00019246296733044232, -0.0002889894803347892, 0.0013699122696152477, 0.0006126678357982751, -0.00037870407475981693, 0.0022437761924221644, 0.0013559916977455844, -0.0002202427176813404, 0.0006811144529969004, 0.0032966600148224834, -0.003152327284985934, -0.0012113161881565082, 0.0009222550822017839, 0.0008398043299103208, 0.0006676884389788529, 0.0037511751658567127, -0.002712043083507698, -4.130297056725851e-05, -0.002120027585679085, -0.00031679992737998486, -0.00260189955483231, -0.0006677378947641532, 0.002037668923470237, 0.0009774001775312846, 0.00011657856006419554, -0.00036431793636065857, -0.0006880832657912284, 0.0011838570477232802, -0.002519358417829909, 0.00042674733828662603, 0.0007095132533483928, 0.0009567000891484434, 0.0014386539161529432, -0.0009360801532449781, -0.00024087288581625677, -0.002284862580757885, -0.0031799040960804326, -0.0003718256466762604, -0.00035829901571604594, 0.00016522381987260637, -0.001582867269956434, 0.0026498984786895163, -0.0009221766350942517, -0.0007572154424946298, 0.0010389854203654014, -0.0032488793785688252, 0.0007362220301445621, 0.0017346173253978137, -0.0025055572219934708, -0.002016569778062194, -0.003586067311273422, 0.0022643074489866466, -0.0021130331923061574, 0.00032353851496746966, -0.003138657402785905, -0.0011769104047636425, -0.0012939289507787333, -0.0012109631761726414, 0.0011632797461173516, -0.0027604564127373665, -0.002175078885553905, 0.0002543773469416699, -0.00010987919603050456, 0.0005093311095864528, 0.002526044138888517, -9.637985102073365e-05, 0.0006815203315096996, -0.0022299562374947235, 0.003503444316419746, 0.0010049053630059035, 0.002587949991640248, -2.090984912694882e-05, 0.0030075528638264237, -0.0010118230146431983, -0.001004791103088487, 0.0002891276154589062, -0.0007085411913639317, -0.000453841529132637, -0.002223337025940353, 0.0014658538400569854, 0.0015072966511204267, 0.0010867796995943646, -0.0003649591561960541, 0.0020784483448634816, 0.00012402317161946952, 0.0013146648519715698, 0.0007846455916055706, 0.001920428679107744, -0.0008051342138724604, 0.0028288058237374014, 0.002587927821805447, 0.0003445234004581521, 0.0021819504921498645, 0.0005228986694723048, 0.0006675468931109374, -0.0026909780455375842, 0.0012317996943077558, 0.00028252034150788585, -0.0030834594409273053, -0.0005230640905469208, 0.0002201557437142565, -4.812341600618497e-05, 0.0043360649566759335, 0.00146607042228869, 0.003042352588128794, 0.0035929082211751395, -0.003048753512079616, 0.0028902239401250585, 0.0026152675862055053, 0.005912241389458117, -0.001404500527801722, -0.0015140881052368438, 0.001293681671852842, -0.00019945053921571754, 3.392827926007591e-05, -0.00016519312317836432, 0.001541639335752798, 0.0018034936963158832, -0.001507366571368407, 0.0025810920280194827, 0.0004819128980789178, 0.0014930588800767808, 0.0009014253855543775, -0.0017483741815649267, 0.0037922632595643324, 0.0014729283859093445, 0.0017961906306285247, -0.0010805578396932969, -0.00015871204674811068, 0.0012666147669572192, 0.0007024165376613989, 6.177453911526687e-05, -0.0015831929959898017, -0.0016656863825789125, 8.262981634127309e-05, -0.001597055585214835, 0.003441645902097834, 0.0035240591362075135, -0.0007640137180986994, -0.0025190207541931353, 0.0002750143365641833, -0.0010871668190162165, -0.0022916727939652493, -0.0003440868252510554, -0.00014447086496077732, 0.0036892573755015756, 0.0012663521396841793, -0.001011591084064456, 0.0030144978014142176, -0.0020026764921428075, 0.002815313300215283, 0.0009359846524183979, -0.003475618521027457, 0.00112875629206316, -0.0007021726694793617, -0.004315402386474931, 0.0020096521264248435, 0.0006678316902187231, 0.0025260714248389604, 0.0010808477529167249, -0.0010461077166309951, -0.0003097987125194601, -0.0019000082717168798, 0.0021269759340105665, -0.0007500795032537866, 0.0022433771353969068, 0.002883749685182402, -0.002099844224982661, -0.0009705660891172196, -0.0011700336820520407, 0.00019258234336361202, 0.0007569886280315297, -0.002346785487228664, 0.002856464492683286, 0.0009772859176138127, -0.000509767684793494, 0.0002136848995155649, 0.0011631501378527864, -0.002636039300208337, 0.0015141068643278466, -0.0007303634144587567, -0.0038476419908444193, 0.002057813060612923, -0.0021133435699923764, 0.0014591732351141862, -0.0008946902087105246, 0.0010806021793627885, 0.004108994972068125, -0.0005781836052978773, -2.0865509457457243e-05, 0.0013694637568048007, -0.00019928000202545926, -0.0011079743458289881, -0.0010594808641199438, 0.0011427757755032575, 0.0019271468022324934, 0.0040471914416305155, -0.0014730051276449219, 0.0026227735911492633, -0.00118377177912804, 0.003317984269321783, 0.0010529827339707531, -0.0037926708434489753, 0.0014109560236534313, 0.001328257992435966, 0.0027532386156451927, 0.0007229819016639216, 0.00046167667085350583, 0.0004338150626512771, -0.00105979976866577, -0.005719730671714496, -0.0002959804629638074, 0.001562354772482788, 0.001748193412143273, -0.002546481599998318, 0.002450004542779105, -0.0016654015854711823, 0.0009427931602539186, 0.0033246205345951463, 0.001954660514566553, 0.004074689805617482, -0.0020166192338473277, -0.0031523579816801206, 0.0018172420256235, 0.00265679566586402, 0.0026777754352389493, -0.0015485399336711558, -0.0016245641814333078, 0.00028885134521061673, 0.00046093142333203385, -0.0031179163854772596, 0.001927373616695538, -0.00022750997055864808, -0.002973515440764518, 0.0014524261206672051, 0.0017619587951697713, -0.0025882040920537364, 0.0016379032214841605, -0.0007984297337230717, 0.0031454437407866243, -0.0010051526419317947, -0.0014664353718758516, -1.3925687985416602e-05, 0.000625846570890265, 0.001507387035831198, -0.002319415026134364, -0.0030283979088210344, 0.0009842632572676924, 0.00025487190479345223, 0.0019270581228935102, 0.0003509806016816497, 0.0023054023641818633, -0.00318620781383272, 0.003696149446560326, -0.0024706108357073764, 0.005705346238687181, -0.00128741376691055, 0.002877092955446192, 0.0023672280644542187, 0.00189297294941837, -0.0019548071765501662, -0.0025878579015574665, -0.004466925627453322, -0.000860487364574114, 0.0037856406372661633, -0.0011970613633938698, -0.003812995750013315, 0.0006607878410606616, -0.0023743929950173492, -0.004900452482253015, 0.0032968305520127417, 0.004005837309906168, -0.0019341974728782074, 0.001644747542129732, 0.00204431883171885, -0.0015412914398846844, 0.0005438323938058987, 0.0009153817702339806, 0.0011838144134256323, 0.0005915260560926949, -0.0008051683213105565, -0.0010527439819043583, -0.001762182198889073, 0.002436535894463576, -0.00028177168324261537, 0.0010118503005936974, -0.0003095463174778157, 0.0024843369951802474, -0.0015557662576227704, -0.0001445288476054074, -0.0025809965271929025, -0.0005712488999415344, -0.0006334412551729507, -0.000943079662733548, -0.0019202138022480497, -0.002931815118543901, 0.001053183967855198, -0.0001787623884361711, 6.193313870217487e-05, -0.0012316905505059261, 0.002009848244193646, -0.0018098929148948062, -0.0016868349837722008, 0.0003232554232316387, 0.0020506430139340948, -0.0051068053247588785, -0.0011495297114378356, -0.002518882619069074, 0.00099793655021152, -0.002739159444188455, 0.002519351596342312, -0.0016385086285095607, -0.0007984570196734597, -0.0010254860753556305, 4.8351935841128846e-05, 0.0007987264684340967, -0.0009567324912145847, 0.0017413132786878172, -0.0021681424748257183, 0.0011906092782860145, 0.0017965351157528953, -0.002188784580563874, 0.00040547083420061636, -0.0036953223411875236, 0.0016036355732154117, 0.001576853465427519, -0.0007296147561934307, -0.0027390178983205393, 0.0010252473232892356, -0.002656541565450532, 0.0027186264822520734, -0.0001237997679002234, -0.00413666387324535, 0.000213584282573287, -0.0004748264146232639, -0.0015553347985313715, -0.002574029419770474, 0.0016104270273318844, -0.00013769475919145346, -0.0023399616310460503, 0.0012728093409077879, 0.0012594072020964964, 3.4202844136466126e-05, -0.0004610422725057628, -0.0024227449308585336, -0.0003990016953736575, 0.00033065740048926484, 0.0027327636363534413, -0.0024914814612805314, -0.0032487173682380632, -0.0005710084425032957, -0.0017618752319465414, -0.0023678658735457603, 2.7674017292977915e-05, -0.0018724740949199736, -0.00028880018405363916, -0.001768787767468194, 0.0021335132877136065, -0.001713451670485533, 1.39870813739007e-05, 0.0010661631744346423, 0.0003855091718515391, 0.0030146001237283393, -0.0016102138558440893, 0.0007570960664614601, -0.0009778435742260339, -0.002945589028430007, 0.0010598048847814678, 0.0015627214274419043, 0.002980494485790297, 0.00019263862063634285, -0.0010600299938725577, -0.0018927154382610833, -0.002808349603536653, -0.0006265167820480588, 0.003510254529627166, -0.0013700572262269617, 0.0020582070015224274, -0.0032623667859751904, -0.002092075592765974, -0.0005232243955057836, 0.00324220047899787, 0.002216315346617037, 0.0022025772495408713, 0.002539828281006018, -7.568658412543394e-05, -0.00105281049140854, -0.0020236357970549457, -0.001163515087439948, 7.11718014989593e-06, -0.0018650925821251385, 0.001989392023992842, -0.0013765093113348725, 0.0013143391259381465, 0.0011910424427492572, 0.0016721572267777152, -0.00012420735178497733, -0.0020095941437802134, -0.0004749560228878291, 0.0007709433073394001, -0.0007499874131710604, -4.138482841864466e-05, 0.0005367424996064463, -0.0011904557948146932, -0.0002612182568433319, -0.0006057553002766225, 0.0032763282867705468, -0.0007779428168279701, -0.001871909616820211, -0.004053878868060967, 0.0009363564234931565, 0.002257243135365794, 0.00013097663606670418, -0.0045085287434754595, 0.0004682754179450299, -0.0002963215373443795, -0.0009155574235399921, -0.0002963539394105208, 0.0007570483160482255, -0.003489673817277439, 0.0015694207914756508, 0.0013213659213772155, 0.00015143626701136226, -0.004074133854377215, 0.0037235301398860776, -0.00018539012684998246, 0.0018234383049459124, 8.945367252399805e-05, 0.0012872159437697372, 0.0001650566934261466, 0.000750345541270625, -0.00037893088922280604, 0.0009707076349851906, 6.74540907508181e-06, 0.0014038576025944272, 0.0010258118013889983, -0.0007983939209130209, 0.0009017289417529439, 0.0004478140816285281, 0.00041989108003770426, 0.0015073034726079682, -0.0003299718409844332, -0.0006675588307142877, 0.00046139528448962963, 0.0008743022033859127, 0.0002959173642035351, -0.0016103912145219446, 0.0009911604444420852, -0.001541097027487781, 0.0007018179521235401, 0.0010052140353202788, 0.0005090718930573779, -0.00019284497063654094, 0.0005232414492247761, -0.0020301441594355873, -0.0012251600182905387, -0.0005502657198228622, -0.0001996432462406661, 0.0013351807601890142, -2.0293925639958132e-07, -0.0018380836598742567, 0.000275167820035338, -0.0032967248189548215, -0.0009704364808526544, 0.0002408967610228463, 0.00379912463392873, -0.0009293841999549191, -0.0017409022840592092, 0.0025185210802257663, -0.003592364207538168, 0.0010879956297609183, 0.0002887456121527521, 0.0004886890038482417, 0.001011877586544141, 0.0014245065298201798, 0.001114615727218049, 0.0015691547534588124, 0.0007293691826394388, 0.0021953816222835543, 0.0012044582245358537, 0.000832468862156821, 0.003117996537956691, -0.00017871975413857877, 0.0011147930858959043, 0.0004885048236827894, 0.0004683453381930658, 0.00026174692213315476, 0.0002344071577331519, -0.00025455641099147996, 0.0019756897397266715, 0.0009633755779754338, -0.0030765776020999502, -0.0008255904340732645, -0.0034411274690394067, 0.001259765330196061, 6.180864655336293e-05, 0.0011836404654916866, 0.0018857244556320096, -0.0004817747629547453, -0.0003302873347864055, 0.0002544830799997566, -0.0014041406943302581, -0.0005023827612549714, -0.001204248463791746, -0.0006881139624854704, 0.00013752251662924042, -0.001500401169317822, -0.001989287996306821, -0.0007224737008369453, -0.00044046667627178904, -0.0022922782009906495, -0.0018996740188239603, 0.0028626522451462577, 0.0014658930636108347, -0.0019271058733068003, 0.00026850426881164235, -0.0035791070253385904, -0.002787489210194838, 0.0019824402649175066, 0.0032969857408559067, -0.0003166941943220092, -0.0008602912468052559, -0.0021405349670369778, -0.002360305296701226, 0.002168046973999138, 0.0011289200077658212, -0.0010735480979732759, -0.0005298419016881994, -0.0018719965907872949, -0.0007088959087197533, 0.0001517773413918233, -0.00040629793957336346, -0.00040641731560653316, -0.001231705898853075, -0.0015963086323215192, -0.0001994846466537581, 0.002119933790224404, -0.00048183786171518417, 0.004074606242394252, 0.0007433102189720597, -0.0014801581206047576, 0.00044738603328092763, 0.004040423862720688, 0.0016452796181632978, -7.613850767962393e-05, -0.0031934153786934427, 0.0028218267787116225, 0.00031676070382619104, -0.002636310454340818, 0.002567043553257098, 0.0023884670503583894, -0.0013490996266868338, 0.002566997508215707, 0.0023880850470521797, 0.00026149793783547537, -0.0012180752402068395, 0.0003166686137434649, -0.00045397284276915695, 0.0012180377220248895, -0.0017898545108100405, -0.0010873185971155275, -0.0025401301318327407, -0.002801276763056193, 0.001768801410443388, -0.0021816503466949855, -0.0013557989907205803, -0.0003788848441814707, -0.0023886222392014433, 0.0022299954610485173, 0.0015005870548551736, 7.567294115018441e-05, 0.001349128618009121, -0.002759922631331735, -0.0003991534734729685, 0.0002407773849896211, -0.0019956752772823383, 0.0019272781158690133, -0.001046319182746891, 0.0028491119712107382, 0.001039670979870233, -0.0008462001377453898, -8.248315435765985e-05, -0.00021323127058942015, -0.0001514516153583445, -0.001307487983805089, -0.0003646129656998398, -0.0032417178587494377, 0.002333547064120034, -0.00047484005759845793, 0.002643373062589882, -0.0015484512543321727, 0.0010112704741467304, 0.003688854907732575, -0.0016795387395724948, -2.083310739131594e-05, 0.001989105521513157, 0.00026125577502522646, 0.0006883322500890188, 0.0018928228766909583, 0.0007984757787643515, 0.0013354041639082603, 0.001734194393166022, -0.00039880387223301117, -0.0024639882134092628, 0.0018861542093514538, 0.0012181826786367145, 0.0011837905382190428, -0.0009010621413390041, 0.0007982472589295186, -0.0016999540308476058, -0.0002961373571789272, 0.000185720968999048, 0.0010599788327155246, 0.00041290350815248456, 0.0024089488511377377, -0.0023399701579054355, -0.0009087250404977709, 0.0009908057270864301, 0.0007774499643481425, -0.0004675932691839968, 0.000550432846269322, 0.0013833587480960308, -0.002395342067698092, -0.0004957396744939002, -0.00039206528464547086, -0.0006330183229411035, 0.0001508888426305921, -0.0016243663582925505, 0.0004335404977749979, -0.0012526276855833185, -0.00022033480776417758, 0.0026842377525782, -0.0022854031836510025, 0.001383698117104648, 0.00036440661569969723, 0.0008601718707721417, 0.0013693938365568759, -0.0008260611167184573, 0.0008674186591866584, 0.0037030483391067293, -0.0007365835689878697, 5.5290051941270235e-05, -0.0015758524121207151, -0.002278280887385409, 0.0007363533437809711, 0.0008189132398742638, -0.0019138521018510213, 0.0025531860801477624, -0.0013489990097445004, 0.0031520322556466973, -0.003813241323567307, -0.0011152620631691423, -0.00156206485925936, -0.00023425026351808764, 0.0021956340173250877, 0.004019626568139312, 0.0022301097209659337, 0.0013007596284489442, 0.0017554419059296333, 0.0009773609539775463, -0.00013070889267796648, 0.0007500948516009354, -0.005375381219190345, 0.0004403916399080554, -0.0018373622875594298, -0.0009839631118128134, -0.00011006337619595685, 0.0001029683658807512, 0.0013283159750807072, 0.0026702489658324002, 6.217189076856977e-05, -0.0021886515615554547, -0.002649905300177169, 0.0012728622074367202, -0.0029797782295912234, -0.0005160935723806381, -0.002808022172131275, 0.000881182336841313, -0.001025364993950506, 0.0036547322160755957, -0.0024776768547002392, -0.0016521307602964663, 0.0021540752409723307, 0.0019614008075259926, 0.0032073257183317105, 0.00026155250973630695, -0.004239811303176022, -0.0007160608392828838, 0.001245907857086781, -0.0009362660387822741, -0.0008186949522707709, -0.003344752734134371, 0.0008737905918151379, -0.0007710388081659802, 0.0020029408247878577, -0.001693322881689996, 0.000722913686787785, 6.894288042225138e-05, -0.0023951254854664428, -0.0003921352048934512, 0.003290042508640123, 0.0011493063077187005, 0.0012116385034460775, 0.0003441772099618823, -0.0001994044941743267, -0.000309868632767496, -0.0029114458723101255, 0.000591891005679801, 0.0018447062821723703, 0.0004748707542927555, -0.0006746384926823445, 0.0010737254566511312, 0.00028862623611947136, 0.0005779772552976237, -0.0002133233606721463, 0.0010117445675356107, 0.0008192474927672388, -0.0024222998287919406, -0.0019409326497218937, -0.002016905736326957, 0.0011978662989318711, 0.002402208558178298, -7.549899321618314e-05, -0.0011634025328943753, 0.0012803886768433248, -0.0017205381539411868, 0.002202333381358834, 0.0009018602553894639, -0.0007429589123600921, -0.0005365361496061927, 0.00012412719930549043, -0.002594830125095704, 0.00011676615097355736, -3.449446273173784e-05, -0.0016173208037625897, -0.0012870181206290354, -0.0009636961878932704, -2.036583548997717e-05, 9.58869985409061e-05, 0.0024500795791428387, 0.0043568315545629566, -8.892330186222042e-05, 0.001892469864707147, 0.002380879187563356, -0.00011025096710526316, 0.004563315710705396, 0.00015146525833364954, -0.0008466657042748293, 0.003420575748012078, -0.00038543925160350323, 0.0017001023982032293, -0.00214739804677333, -0.0001649594872277227, 0.0019478827034253299, 6.180523580945341e-05, -0.00037122365039465866, -0.00037850113550341735, -0.0013150229800711344, -0.0008949801219340081, -0.003344756144878225, 0.0006055949953178708, 0.001176927458482635, -0.002539471858278297, -0.0032831095086556794, 0.002354141419444955, -0.002815164932859715, -0.00030962817532920184, -0.002278158100608385, -0.00023381709905484493, 0.0025671578131745143, 0.000158144157904605, 0.0013347714709324165, -0.0005299851529280142, -0.0014865590445556354, 0.0019890492442403707, -0.0002339194213689666, 9.626047498756396e-05, 0.0016999898436576566, 0.00015109689800263393, -0.002181846464463788, -0.00011011112660919142, 0.000598407894919939, 4.144792717908352e-05, 0.00033043229139811947, 6.204398787590382e-05, 0.002650115060921221, 0.000784766673010584, -0.0014245372265144773, -0.001610698181464476, 0.004453393880377299, -0.0027531448201904563, 0.0012391334566893009, 0.00024772914406512303, 0.0014934016598291966, -0.0032350082624842957, 0.0019199460588592565, 0.0007295158446231631, -0.0012252231170509775, -0.005051895570751863, -0.004824656754325751, -0.001844639772668133, 0.0038337265350904537, -0.0024232735961483565, 0.00040616492056499975, 0.0008399117683401403, 0.0004953099207745115, -0.0009501490924702649, 0.0011080033371512754, 0.0011217721309217388, 0.00015130665874674154, 0.00028262095845010826, -0.0008261003402721956, 0.0018031338628444193, -6.161935027210186e-05, -0.001865348387910526, -0.0015690387881694967, 0.00012379635715631387, 0.0013764462125744892, -0.00023390918913757108, -0.00043420047670128525, -6.926519571182066e-05, -0.002505359398852658, -7.54427159433968e-05, -0.0017208382993960658, -0.0010947529764393504, 0.0002546348580990121, 0.003118276218948779, -0.0045701856119294, -0.00010328556505467823, -0.0023606071475280044, -0.00010993035718759314, 0.000777922352365179, -0.0005021491253042742, 4.875951972588277e-05, 0.0006334975324457925, 0.002374094554934536, 0.0003716482879984051, 0.002628836851463312, 0.001637568968591241, -0.002229990344932764, 2.7380693325640415e-05, -3.9735165335841316e-07, 0.00033043229139811947, 0.0020922529514438293, 0.0030556899228078027, -0.0037853097951170422, -0.0008810220318825057, 0.0007573262916683032, -0.001885518105631756, 3.464624083110435e-05, -0.0036271400566339485, 0.0020576663986292543, 1.369887352242749e-05, -0.0009221664028628562, 0.0015348649353553179, -0.001018486565867005, -0.001617639708308416, -0.0006125024147237146, -0.0004888902377327975, -0.0007572188532384283, 0.0009843809279289628, 0.0003501347372178998, -0.003757763680716786, 0.001329245402767576, -0.0024163917573210014, -0.0019682417174276545, 0.00110776799582879, -0.0004268769465510802, -0.001562475853887968, 0.0012180104360745014, 0.0021613800120314774, 0.0005369113314247498, 0.0014869018243080512, 0.0005090446071068788, -0.001678960618497538, -0.0002821281059702807, 0.001693212032516378, 0.0013282801622707674, -0.002099209826634918, 0.0007091056694636944, -0.0020235300639970255, -0.0016933655159875327, -0.0009089058099194247, -0.002753368223909758, -0.0017276246373968962, 0.0003647937351214936, 0.0030765673698685547, 0.0018788392060608006, -3.370317016898605e-05, 0.0009151310805642909, -0.004873359996778792, -0.0003096401129324966, 0.003062830978164399, -0.003242040174039007, -0.00018587956858606702, 3.4288112731539755e-05, -0.0008950329884630515, 0.0007224941652997918, -0.002201690456151484, 0.0011498741965622061, -0.0018786260345730055, -0.00015113271081262925, -0.0034000172054970967, -0.0020851357712939333, -0.0027182547111773148, -0.0010048695501959637, -0.00047478207495382785, 2.6954350350050227e-05, 0.0010945244566044066, 0.0010737561533454287, 0.00030954120136217345, -0.0013219662122869735, 0.003221111565821111, 0.0009289936697892687, -0.002071457362234408, 0.0006055762362269235, -0.0008395621671000719, -0.004005538869823189, 0.0014798102247366995, -0.0016448413375843574, 0.004288139363810506, -0.0024780554472626504, 0.004570170263582307, 0.0005644915532631578, -0.0028697540769490604, 0.002415631161452436, -0.0014384884950783827, -0.001679398899076534, 0.00041269715815228647, 0.0002475091510896199, 0.0031454164548361807, 0.0004950012484601363, -0.0010186042365282755, -0.0005918364337788584, 0.0013555892299765837, -0.0015073580445088552, -0.0018789722250692198, -0.0012866514656699746, 0.0017273023221072714, -0.0002889144439710556, 0.0002477717783625488, 0.002621845868834294, 0.00024762000026323783, -5.456526888264479e-05, -0.0004957857195353466, 0.00012381000013161891, 0.001163117735786534, -0.0006812423558895664, 0.0018376180933448172, -0.0013007493962176042, -0.0008465002832002133, -0.0005780045412481227, 0.0008807031273366794, 0.0002342195668238456, 0.00019286202435558897, 0.0011013090892332822, -0.004102106311753173, 0.0012386849438789094, 0.00048191460345081705, -0.00028872173694610703, 0.0007364300855166039, 0.0018721176721923638, 0.003069699174016449, -0.002209448856136831, -8.26434593164116e-05, 0.0017137569320561652, -0.004060608928788956, -0.0009912883473348622, 0.0012386150236307625, -0.0010464556124991642, -0.00017196070208819192, 0.0009362131722533418, 0.0017069023791792537, 0.000867186728607916, -0.0027394647057590316, 0.0016383005731375189, -0.0005780181842233167, 0.00035800910249261797, -0.0009911212208884579, 7.074545852303604e-06, 0.0012385996752837247, -0.0026705269414525334, -0.002395116958606891, -0.0003923637247283951, -0.0006743485794589166, 0.0014593318347010942, 0.003076731085571216, -0.00042003944739321675, -0.0013349914639077531, -0.00029599069519536947, -0.00017894315785782489, 0.004659605177015247, 0.0023882112445729464, 0.0022848233572041465, 0.0005640788532627061, -0.0032555275814454276, -0.0023678385875953722, -0.0013695797220942274, -0.001087652850008558, -0.0011837888328471435, -0.0019064279547585938, -0.0013419091155451035, 0.0021473093674344024, -9.64617088721198e-05, -0.0024091210936998397, 0.0001651078545833462, -0.0016727950358692567, -0.001314990578004993, 0.0008463109869190077, -0.0003783612950074011, 0.001727367126239554, 6.893435356269961e-05, -0.0007360600198137446, 0.00019969270202591094, -0.0012252708674642676, -6.687426430451726e-06, 0.00023406437798068058, -0.0003097594889657218, 0.006070071758932594, -0.003097115680152196, -0.003207482612546775, 0.0014937700201601567, 0.002401783920574496, -0.00023430824616277324, -0.0028014251304117055, 0.0026293586952654824, 0.000770892146182256, 0.0006880832657912839, -8.922003657330091e-05, 0.004164199755414266, -0.0024023978544593927, 0.0013767088398474736, 0.000832883267529172, -0.0010666185087326863, -0.0009086227181836493, 0.0019275441538857963, 0.0005092680108261249, 0.0007434637024433255, -0.0007502074061465636, 6.219064985946154e-05, -0.0002548292704959154, -0.0006262336903122279, -0.0009701295139101784, 0.0024226016796186634, -0.002512123567018687, 0.004445864000227062, -0.0010531635033923514, 0.0006123438151368621, 0.00345476494917335, -0.002312369471604403, -0.0006951850975939755, 0.003647787278487802, 0.0012661457896839812, -0.0018856852320781603, -0.0015690404935413405, -0.002319283712497844, 0.0009292904045004047, -0.0030489496298484187, 0.0019133456063959442, 9.625535887192171e-05, -0.000592008676341127, 0.0008331049658765188, -0.001039691444333135, 0.0006811570872944372, 0.0013905611968410558, 0.000756910180924053, 0.003365509099790054, -0.0004750208270201117, -0.001775686660014486, 0.0007363550491529258, 0.0026357698514476446, -0.0010118537113373849, -4.1195532137439095e-05, -0.0009982025882283585, 0.0014522862801711889, 0.0019619482319067627, -0.002670723059221336, -0.002140311563317676, -0.0005714603660574857, -0.0022094795528310174, 0.003854254380911193, -0.0010255099505622756, -8.257353906854226e-05, -0.0019270956410754048, 0.00179631000666175, -0.0003857735044964228, 0.002560195821867839, 0.0021818413483480348, 0.002773955757747082, 0.0009568024114625651, -0.003723825169225259, 0.0019895267483731605, -0.0017484645662757536, 0.0007642320057023033, -0.0028286796262166902, -0.0003439555116144799, 0.00019945394995957155, 0.0003991347143821322, 0.0016726125610757037, -0.0015349519093223463, -0.0016795881953576286, -0.0023399786847649873, -0.002181977778100197, -0.0017757309996839776, -0.0010257043629591234, 0.0007777654581501148, -0.002258111169664234, 0.00024087970730379826, -0.000405852837506826, 0.00012369403484224772, -0.0022985938563463426, 0.0010255338257689206, -0.0043154842443262065, 0.0006746862430955791, -4.80245044358063e-05, -0.002381283360704256, 0.0009290738222687001, 0.00046793434356451336, 0.0019134411072224689, -0.003276280536357312, 0.0001927750503886161, 0.0017275547171488603, 0.0011563058172072704, 0.0009084999314066255, -0.001472587311528828, -0.00022017961892095705, 0.0019065746167422626, 0.00015153858932548392, -0.0005708634858915818, 0.000447152397330286, -0.00034378497442427713, 0.00046813387207711443, -0.0005919609259277814, -0.0003923961267946474, 0.0009773370787708457, 0.0002821894993587648, -0.00022058549743386724, 0.0003651484524772597, 0.0031525916176307622, -0.0004885542794679787, 6.159718043741158e-05, 0.002126795164588857, 0.0017759339389404327, -0.00013044285466118355, -0.00046087002994360526, -0.0005024151633210572, 0.0027391304528661675, -0.002553073525602245, 0.0003646027334684998, -0.00233298599676407, 0.0012112633216274649, -0.0010740665310317032, -0.0018105409562177988, 0.0015278347291724503, -0.0016655959978680857, 0.0007293470128048041, -0.0007916468064660398, 0.00106679927815434, -0.0019277163964479538, 0.0026225348390828684, -0.001280724635108088, -0.00030267130013811316, 0.0013350818486186355, -0.0021679992235859036, 0.0015415728262486161, 0.0010050963646590083, -0.002147254795533571, 0.0033796786559576186, -0.0014453652177899845, -0.0006538326712415277, -0.003117824295394478, 0.002257621727928205, -0.00020622493961314214, 0.004177385311993853, -0.002043796987916624, 0.000496072222014976, -0.0027604990470347923, -5.5102461032019434e-05, 0.002649649494391837, -0.0008125873522871752, 0.0016998585300210811, -0.002911512381814363, 0.0015279899180156153, 0.0025393917057989768, -0.0015003738833673785, -0.0009636944825213156, 0.0033861460894125672, -0.0010944886437944668, -0.0017550155629539876, -0.0018098417537377176, -4.15093205674566e-05, 5.488076268467257e-05, -0.0004743642588376784, 0.0010183501361147318, -0.0002683951250098682, 0.00031683915093372317, -0.0007226851669528966, 0.002250533539100652, -0.0013834167307407164, 0.0024983803538269345, -0.001968033662055557, 0.0007087782380584828, 0.003861345980482489, 0.0028357405290937443, -6.201670192540476e-05, 0.0004957686658162985, 0.0012387463372673935, -0.0005299374025146686, -0.0003377336517135232, 0.0011151904375492072, -0.0002616804126289729, -0.0022227452618901467, 0.0009080019628110447, -0.001734322296058688, -0.0013009267548954595, 0.001569354281971469, 0.0006536536071917176, 0.001273070262808984, 0.001451406308269343, -0.004040026511067385, 0.0005854610904065805, 0.004191653779731741, 0.0017822956393375167, -0.003792338295928066, -0.0010736367773122035, -0.002230050032949349, 7.565588743119189e-05, 0.001355642096505516, 0.0038336054536853292, -0.0013693597291188353, 0.00012357465880907803, 0.0005371074491936079, 0.0010870269785201447, -0.004287742012157203, -0.00029605549932765207, -6.207297919824661e-05, -0.0004131661354255245, -0.00013789769844774202, -0.0011700916646966153, -0.0024845484612961988, -0.0016652583342313676, -0.0008881340959167039, -0.0008260935187845986, 0.001968666355031401, 0.0015627453026485494, 0.0013697434377968887, 0.00022046953214438503, -0.0017134567866012862, -0.002635964263844659, 0.0006814981616749538, 0.0010116763526595851, 0.003868058987491485, 0.0006265679432051474, 0.0004407173659414787, -0.004638850516731519, -7.587417503474025e-05, -0.0009224665483177352, -0.0018648504193150006, -0.002333217927342812, -0.0027190170124178348, -0.002346944086815572, 0.0008259929018423762, -0.0024089352081624327, -0.002126817334423603, -0.0005231408322825537, -0.00019921519789312114, -0.001101382420225172, 7.2621367616654275e-06, -0.0004886753608730476, 0.003461595626843561, 0.0019129806568087826, -0.003083227510348563, 0.0008392023336285526, -0.002794371049022193, -0.0023190347282000534, -0.0018925824192527196, -0.002024104774328239, 0.0030970764565983466, -0.0009770863891012116, -0.0019132142927594797, 0.002973549548202614, -9.637132416118188e-05, 0.00273255217023749, -0.0007430629400462241, -0.001638126625203462, -0.001238679827763156, -0.002223364311890852, 0.000887753797982338, -0.0011357575069237402, 0.0011909435311788785, 0.0011148630061439402, 0.0016724727205796874, 0.002023434563170501, 0.0037028607481974785, -0.0024983394249012414, -0.0024088124213854645, 0.003214229726993867, 0.0017825088108253118, -0.0002552385597525131, 0.00041286598997059, -0.0025331169793688657, -0.0018447523272137056, -0.00037860516318943827, 0.0034001928588031083, -0.00025466896553699714, 0.003503200448237709, -0.002635737449381559, -0.0015898650740732156, 0.0003788166293053896, 6.885761182712224e-05, -0.001417929952563457, 0.001177173032036627, -0.0012180189629340532, -0.0029109751896650438, -0.00015163409015206408, -0.0030835907545638253, 0.0036754050185079934, 0.0010530185467806374, -0.0035512351849049106, -0.0012799521016362836, -0.0021055442410814473, -0.0013972366856681573, -0.002230002282536059, -0.00024122248705626959, 0.002636288284506072, -0.0020715903812427716, 0.0030422298013518256, -0.0006818989240719997, -0.002209274908202774, -0.0023125996968111906, -0.0010944903491664215, -0.0018860246010868886, -0.001204383188172009, -0.0016724181486788559, -0.0009768629853819655, 0.0016930960672269513, 0.0009432246193453175, 0.0012525253632691413, -8.268609361405943e-05, 0.0018098383429939746, 0.00010270573860782228, 0.00026158491180244825, -0.0020373926532220588, -0.001135469299072156, 0.0022299835234451115, -0.004129768391442801, -0.001176751805176679, -0.0015900850670485522, 0.0031801479642624697, -0.0003168135703551789, -0.0037786121364551395, 0.0015689756894090578, -0.0010529264566979113, 0.0010464539071272094, 0.004122335717490877, 0.0015143797238322265, 0.0004336752221553164, -0.002126665556324292, -0.002580882267275486, 0.00029619704519551204, -0.0006401099225124551, 0.0012662549334857554, 0.0026083823366343517, 0.002897804981432439, -0.0031313543370985464, -0.00011676785634545661, 0.00026150134857916285, -0.002023596573501152, 0.001383374096443235, 0.000495720915403064, 0.0016519994466598353, -0.002367930677678154, 0.0024364847333065986, 4.811488914657769e-05, -0.0024225402862301793, 0.00015140045420136694, -0.0010944306611497256, -0.0012803238727109867, -5.486029822177052e-05, -0.0017483025559449916, -0.00013106019928987855, -0.0011908139229143133, -0.0015828553323531946, -0.0020643862271258473, -0.0011149687392019159, -7.563712834024461e-05, 0.0004472035584873746, -2.027545077909476e-05, 6.206104159489634e-05, -0.0009705882589520209, 0.002656572262144774, 2.709589621796571e-05, 0.0013903002749399707, -0.001995528615298725, -0.002223219355279027, -3.442454248381299e-05, -0.0012526055157486282, -0.003957579169519609, 0.0003784636173215228, -0.0014107906025788708, 0.0008054309485835409, -0.001768373362095843, 0.0013973321864947374, 0.004122782524929369, -0.0017409773204229984, -0.00044017676304830555, -0.000935887446219974, 0.0010739147529323922, 0.002285278691502135, -0.0010598986802360377, -8.269291510176746e-05, -0.0005024697352219443, -0.001934076391473083, -0.0002821707402678175, -0.0016309719268716716, 0.0027047297855889996, -0.0009770778622417153, 5.5320748635456773e-05, -0.0022230897470144617, 0.003696161384163732, 0.0011014813317954952, -0.0038338561433550744, 0.00015839825831809318, 0.0004062314300691816, -0.0013420932957105003, 0.00010334525307131859, -0.0013559337151008433, 0.0006608083055235081, -0.000791438751093998, -0.0009912593560125194, -0.002181822589257143, 0.0023887569635818173, 0.002057930731274138, 0.00039918417016721053, -0.000358181345054831, 0.0022366453692969634, 0.002147740826525746, -0.0017686121141621824, 0.0016862176391434502, -0.0022433771353969068, -8.979645227635835e-05, -0.00017222332936128737, 0.00238821294994479, -0.0013903343823780112, 0.0008329156695953133, -0.004570038949945732, 0.0018585125941245617, 0.0015899264674615887, -0.0006883015533947767, -0.0009429892780227211, 0.001170315068415917, -0.0016861647726144624, 0.00017201186324533602, -0.0006059718825083271, -0.0037715734034127757, 0.0005576574648490373, 0.0012666591066267108, 0.0006473362464641252, 0.0011285755226415617, 0.0033727439506012757, 0.0003993666449608746, 0.004756225485474275, 0.0013561997531176262, -0.004838609728261667, 0.000481883906756575, 0.001769014581931183, 0.0005370307074580305, 0.0018102356946471665, 0.0002823515096895268, -0.000894763539702359, 0.0010395362554899146, -0.00013794715423298687, 0.0005784394110832647, -0.0022507023709189, -0.0025671680454059653, 0.002064754587456863, -0.0011217806577811795, 4.8220622204608876e-05, 0.0010874447946362942, -0.001989050949612381, -0.0007158152657288364, 0.0020853966931950185, -0.0005990252395486895, -0.001341967098189789, -6.890365686906819e-06, 0.0022369352825205024, -0.001693077308136004, -0.0017759919215850628, -0.0028772941893306925, 0.0016930653705327092, -0.003585644379041575, 0.0032349792711618974, 0.002712082307061381, 0.00044034730023867485, -0.003330931073835086, 0.0001651470781370845, -0.0025257832169873207, 0.0007709995846121309, 0.004033470398273398, 0.0015758234207983168, -0.00022012163627621595, -0.00315262231432506, -0.004377487303276473, -0.0036682571416638, 0.00039927114413434994, -0.0016381198037158096, -0.0013768367427401396, -0.0004747445567719333, -0.0019406427364984102, 0.0029938846869983493, -0.0005852513296625839, 0.0016720856011578356, 0.0012319310079442203, 0.0027528139780413907, 0.00042694857217107085, -0.0012252828050675069, 0.0010939719161079386, -0.0010187986489251788, 0.0013005942073743837, 0.00013110112821562714, 0.0032419856021380644, -0.0014180629715718762, 0.0025671595185465246, -0.0002756214489615383, -0.0009982281688069028, -0.0002891139724837677, -0.00037845850120588054, 0.0013902286493200355, 6.944255438973146e-05, 0.0019200176844792471, 0.0011076605573988596, -0.00035110850457431564, 0.00021992722387942365, 0.0013148439160213798, 0.0002269011527893383, -0.00041255220154051697, 0.0016448959094852444, -0.00046131513201019825, -0.002773737470143589, 0.0002134069238953762, 0.0011840889783020225, 0.0010117377460481247, 0.000887898754594163, 0.0013078034776070058, 0.0005231408322824982, 0.0007017974876606381, 0.002814934707652872, -0.0021607882479813267, 0.0005433924078549479, 0.0007778541374890424, -0.00024055057052663198, -0.0015005836441114306, 8.24950919608991e-05, 0.0012114440910492297, 0.0012728587966930327, -0.0015278586043790954, -0.0006331922708752158, -0.002704794589721282, -0.002071719989507337, 0.0005989433816973588, -0.003743967600995879, 0.0030143954791000405, -0.0010120481237343437, -0.0013902917480804744, 0.0011696602056053829, -0.0003995457090105736, 0.00014452543686166441, -0.0005709726296933004, 0.0009772228188534293, -0.0014452253772940238, 0.0035030930098077784, -0.00043325058455151444, 0.001493326623465463, 0.0010809551913465998, -0.0016385171553691125, -0.0005711823904373525, -0.001637988490079345, 0.0006399581444130886, -0.0014589037863535492, 0.0013007152887794526, 0.00019252606609077016, -0.0013764376857149374, -0.0020784739254419704, 0.0031730512485754203, -0.0023472288839233024, 0.0027947155341465635, -0.0019963182024896886, -0.003035341141036929, 0.002030043542493365, -0.0013352148676270548, 0.0016515168264115143, 0.001328264813923563, -8.235184072113988e-05, -0.0010532385397561406, 0.0012526293909552177, -0.00048142004559903473, -0.0018376163879729734, -0.004577369301583589, -0.0012321936352172047, -0.00033748637278763205, 0.0003168272133304284, -0.0033930142852646727, -0.0006192273593360054, 0.0004819998720459462, -0.00035098571779734744, -0.003950501212923452, 0.0006401133332563091, 0.004026360039611154, 0.0030698219607934174, -0.003441337229783459, -0.00010327021670764047, -0.00022722858419477188, 0.001872281387894914, 0.0004681679795152105, -0.00041971542673180373, -0.0001034782720796823, 0.0022994499530415435, -0.00040639173502798887, -0.00023441738996454742, -0.0011290513214022857, 0.0014320091240201394, -0.0021263176604561784, 0.002003038030986226, 0.000660615598498504, -0.0018787113031681346, -0.0014799773511832148, 0.002271376878723308, -0.0003303419066872926, -0.004679991476968071, -0.00018620699999138957, 0.0024089659048566747, -0.0014660124396440044, 0.004487811601373515, 0.0005373223260533022, -0.0033381591031586555, 0.0005849818809019469, -0.0033655005729305576, 0.0019134001782968313, 0.0013147518259385427, 8.526859512913987e-08, -0.00032335774554581587, -0.0011702997200687681, 0.002842903754285031, 0.0009359283751456671, -0.0036276312037418768, -0.0006954664839580182, 0.000646909903488535, 0.00017172365539375178, -0.00046825154273832936, -0.0023404237868316358, 0.004198411126410229, -0.0014869171726552555, 0.0005572737561708729, 0.0025047198843891616, 0.003379054489841271, 0.0019680183137084084, 0.0013282307064855225, 0.0023055217402150885, 0.0008330316348846845, -0.0018447574433294034, -0.005161740659344383, 0.0030355014459957363, 0.00021300786687017403, -0.0019891157537446635, -0.005540204276665905, -0.0019342008836219504, 0.0004268206692784049, -0.0022026846879707462, -0.0002482970329086287, 0.001624315197135462, 0.000316564586057444, -0.0024296267696858886, 0.0021401614905902644, 0.0009774649816635672, 0.0006057365411857307, -0.0004474269622066207, 0.000571300061098623, -0.00036452769710471067, 0.002553284991718141, -0.0004951001600304594, -0.0017826264814865267, -0.005519928825886755, -0.0007364113264256567, 0.002202382837143968, 0.001431915328565514, 0.0007435472656665554, -0.003558401820839996, 0.0010669527616256058, -0.0006881958203367455, 0.002340004265343587, 0.0013624199076468502, -0.0011287460598317645, -0.0011764772403003443, -0.0004819265410540563, 0.0007989856849632826, -0.00081219511674957, 7.56951109849302e-05, 0.00037829478550321927, -0.0022637821944406777, 0.000440304665941027, -0.001204794182800617, 0.0002616735911413759, 0.003076748139290264, 0.0014731790755790342, 0.0001583539186486016, -0.0003855194040829346, 0.0007780792465801878, 0.0008054445915587904, -0.00033733800543211956, -7.395155769973627e-06, 0.0007158084442412393, 0.0011704088638705423, -0.00020664787184498934, -0.004094917505983342, 0.0013971173096349876, -0.0009500501808998862, 0.001906937860957525, 0.0012800339594875587, 0.0023471197401215838, 0.001273177701238748, -0.002532789547963654, 0.003565406446444319, 0.001975626640966288, -0.0041638944938436895, 0.0012935708226791132, -0.0014589600636263356, -0.0003026303712124756, 0.0022435152705210792, 0.00036492504875801357, -0.001575484051789755, -0.002003073843796166, -0.0011770451291439055, -0.0013898654051048287, 2.0459630944547058e-05, 0.0012048675137923959, -0.00258084815983739, 0.0020714283709120096, -0.0033725341898572236, 0.0016169729078944206, 0.0022782263154845217, 0.002436225516777357, 0.0016796854015561635, 0.003000781874172742, 0.002078134556433353, 0.0009090030161179041, -0.0019136713324293675, -0.0009844798394993415, -0.001121425940425469, 0.0001857687194124491, 0.0009912388915496728, -5.534973995779957e-05, 0.00015819361368973883, 0.002801346683304118, -0.0033381522816710585, 0.0012182781794631836, 0.0013212840635259404, 0.0007776170907946023, -0.000660770787341558, -0.0013765928745581024, -0.0013282920998740622, 0.0003024820038569631, 0.0016104372595632799, 0.0016316711293517527, 0.0022159452809141778, 0.0020508544800498796, -0.000743018600376677, 0.0008467253922913587, 0.00013733492571998962, -0.001183727439458604, -0.0004198143383021824, -0.0013491729576786682, 0.0013693256216806837, 0.0025399186657167894, 0.001961571344716251, -0.003110841839624956, 0.0007162552516797316, -0.00141774406702605, -0.0002687992981508236, -0.00018582499668512442, -0.0009770403440598208, -0.000984351936606731, 0.0006746470195418408, -0.001913067630775811, -0.0015762207724516752, 0.0008811925690727085, -0.0005644455082217115, 0.0023326517438710948, -0.0017346616650673052, -2.096442102783591e-05, 0.0005023503591887746, 0.0007571045933210119, 0.0008052109556080933, -0.0011496968378843508, -0.002567447726397998, -0.0001994266640090725, -0.00029583550635214895, 0.004590837949899063, 0.000936177359443402, -0.0016587533825945244, -0.0003578027524924199, 0.001149575756479282, -0.001060007824037923, -0.004803816825446894, 0.0007775147684804251, 0.0001236769811232552, 0.0017070916754604037, 0.0033725887617581662, 0.002140780540590914, 0.0010463345310940397, 0.0015001641226233264, 0.0004469528688176849, -0.0004407429465199675, -0.001521345125882756, -0.0006677293679046015, 0.0005299834475561149, 0.0003852670090412902, -0.0032901670007889905, 0.0012730583252055228, -0.003496528370154406, -0.001349312798174629, 0.0001786822359567397, 0.0013830500757816555, 0.001053103815375822, -0.0012388623025567647, 0.0006539315828117953, 0.0016932256754915165, -0.0009082901706625734, 0.00350291053501417, 0.0011283299490875143, -0.0009977097357484754, 0.00148615487141468, -0.0001651214975584847, -0.0021678355078831313, 0.00022660100733451483, -0.0014591374223042464, 0.0016246051103589454, -0.00012349450632964665, 0.0011564848812570805, -0.001122009177616179, -0.00339361628154633, -0.001981851911611099, 2.7489837127414596e-05, 0.0016310026235659136, 0.004342675641370697, 0.002402017556525138, -6.199112134686047e-05, 0.0008879482103792968, -0.0006058951407726942, 0.0009081503301666682, 0.0016724215594226544, 0.0013075681362845204, -0.0004539643159096607, -1.3984049596071912e-07, -0.000124016350131817, -6.873823579389704e-05, 0.0006401389138348534, 0.0016316370219137122, 0.0005642783817751962, -0.0009013793405128756, -0.0028288058237374014, 0.0001584084905494887, -0.0016584174243297056, -0.002257047017596936, -0.0017547904538627868, 0.000887429777320814, -3.4642830087361354e-05, 0.0020440579098177647, 0.0028284101774560533, -0.00046791558447356607, 0.0022159555131455178, 0.0012181809732648152, -0.0017828464744620298, 0.0004198893746658605, -0.0007573962119162836, 0.003021367702638167, 0.0005573999536917507, 0.0034413815694529504, 0.0010329016955885062, 0.0008671986662111553, -0.003042035388954867, 0.0017208041919579697, 0.0010393384323492683, -6.907760480256986e-05, -0.0017828123670239338, 0.0020857070708812375, 0.00017900114050251048, -0.0007984212068635199, 0.0007504734441633465, 0.0007295380144578534, -0.0009085101636380766, 0.0017965965091414349, 0.0017203642060071855, 0.0022230164160226273, -8.240641262208248e-05, -0.000977855511829273, -0.0008397037129679874, -0.0018170118004165459, 0.003888322500667285, -0.00024816571927210873, 0.0028839475083231036, -0.0014040093806937382, -0.0013833638642117285, -0.000323274182322586, 0.002071436897771506, 0.001025731648909567, 0.0018585296478436097, 0.0014110395868766612, 0.0004478635374136619, -0.0010873032487684342, -0.0011427007391394683, 0.00046123156878691285, 0.0012111098381563101, 0.0007637357424786773, -0.0024294494110080334, -0.0002617571543646058, 0.0004819521216326561, 0.0024984639170501644, -0.0018651488593979804, -0.001535226474198681, 0.0005440899049631853, -0.0008393489956122768, -0.002188748767753934, -0.0018029735578855566, -0.0038820136667993, 0.002085672963443308, -0.002078538729574253, -0.0007018315950987897, -0.00026158832254619124, -0.0001028711596823828, 0.0025537403260161295, -0.00044747982873560854, 0.0011010481673322525, -0.001121818175963074, -0.0019891123430008095, 0.001995238702075297, -0.000378589814842345, -0.00019276822890101908, 0.0012182901170665894, -0.003516681034156477, -0.0023332793207312408, 0.000825752444404082, 0.0014319409091440027, 0.0005851660610674547, 0.0019551806529968796, -0.0022228356466009735, 0.0054304035277428775, -0.0012939391830101288, -0.0017408818195964182, 0.0009358226420875804, 0.00020675189953112127, -0.0005642289259901179, -0.00028263971754116657, -0.001039181538134204, -0.0017135113585021178, 0.0005302119673910588, 7.2996549435044855e-06, -0.0015416205766619062, -0.000646906492744681, -0.0016381198037158096, -0.002347191365741519, -0.001521203580014896, 0.00011691451832906985, 0.0021750021438183276, -5.485177136221875e-05, -0.0009983202588895734, -0.0014459399281212537, -0.00012376224971838434, 0.0008189899816099522, 0.0005434691495905808, -0.0022712506812025413, -0.001155995439520996, -0.0005438187508306491, 0.002085454675839704, 0.004129246547640575, -0.0019413641088131817, -0.0015070510775663792, 0.001287248345835934, 0.0027321121842866503, -0.0004133451994752235, 0.0010944511256126277, -0.005023998149739695, -0.00028234298283003056, 0.002966529574251142, 0.00011052894272539637, -0.0004269980279562047, 0.0013078597548799031, -0.0006402565844960684, -0.00037854035905715566, -0.0010047245935841942, 0.0012869840131909949, -0.0011843584270626595, -0.0015627674724832952, 0.0005162948062651385, 0.0015418934361663417, -0.003351864798168569, -0.0004266364891128971, -0.00011698784932090422, 0.0015002647395656599, -0.002230179641213914, 0.0015623087274413971, 0.0019478315422681858, 0.0018107302524989488, -0.0015212598572876268, -1.3993902861497709e-05, -0.0016998090742359473, 0.00359270528191874, -0.0009566864461732494, 0.0004612418010184194, 3.415168297937754e-05, -0.0007774704288109335, -0.002154435074443739, -0.003545028673350936, 0.00018587274709847001, -0.0007292736818129697, 0.0007225470318288352, -0.002457140482020004, 0.0021201384348526475, -0.0026155233919908927, -0.00030977995342851283, 0.0018859819667892408, -0.00010312355472397172, 0.0003029202844359591, 0.004212268599519453, 0.0034067370339937453, 0.0024776973191630303, -0.0013626927671511746, 0.0021473946360295315, 0.00015137828436662115, 0.005210171042293044, 0.003207230217505186, 0.0005573044528652815, -0.002016991004922142, 0.0010734628293781467, -0.0018580896618927145, -0.001397217926577321, -0.002636023951861244, 0.0008119546593112759, -0.0021129990848680613, 0.0020717847936397304, -0.0005303296380523292, 0.00203025671398116, -0.0009362063507657448, 0.0012595811500304976, -0.003021036860489046, 0.0016307979789376148, 0.0009360409296911842, -0.0032008651063644145, -0.0013077659594252222, -0.00035071967978062, -0.0005160338843640533, -0.00293233014085853, 0.0016378554710708704, -0.0009912491237811238, 0.0028700115881062915, -0.0010460463232424555, 0.00024082684077486594, -0.0034204154430532707, 0.0007090135793809682, 0.0023259984248786836, -0.0016448669181628461, -0.0014380996702846316, 0.00010331114563322252, -0.0002890866865332131, -0.0003024427803031693, 0.0014519059822368785, -0.00012396518897483944, -0.001183778600615748, -0.0015002715610532014, -0.00108769377893414, 0.0026430558634160106, 0.004108676067522354, 0.0017830408868588776, 0.00231228079226542, -0.00010988260677430306, -0.0017959911021159791, -0.0014930639961924785, 0.0005781000420745919, -0.0032147481600521832, -0.0004202475027654806, 0.0005576694024523876, 0.0009982742138482936, 0.0009016777805959109, 0.002966202142845875, 0.0018375072441711437, 3.4364854467172634e-05, 0.0009566438118756571, 0.0025257303504583883, -0.0011903534725005716, 0.001864927161050689, 0.0004889993815345717, -0.0024294425895203253, 0.0010251842245287968, -0.0005506426070132631, -0.0014319886595572928, 0.0018308147016250498, -0.0012249860703565374, -0.002154252599650186, 0.002202311211524033, 0.001686033458977998, -4.1521258170917896e-05, 0.0004197051945002972, 0.00256034759996715, 0.0002887166208304093, 0.0011012596334480373, -0.0011629130911582908, -5.968801652933564e-08, 0.0013282392333450188, 0.0011561847358022015, -0.002498924367463795, 0.0011563245762981622, 0.00044045473866843876, 0.00011678832080830315, -0.0021200633984889694, 0.0005987353263252615, 0.00468035131043959, -1.7906404969902923e-07, 0.00030971685466807397, -0.0021473332426410474, -0.00036450723264186413, 0.004225993053620425, 0.0024294630539832274, -0.002732444731807615, 0.0016036969666039513, -0.00043350297959304784, 0.0017964106236040278, -0.0022643381456808886, 0.0009151634826304322, 0.00012371108856124025, 0.00059860742343254, -0.002133779325730334, 0.0004679189952174756, 4.825302427080569e-05, 0.0009227701045164127, -0.003434216638889709, -0.0003579460037321791, 2.7735410681462014e-05, -0.00047532438321884474, -0.0033306820895372957, -0.001596651412073935, -0.0028906758636792484, -0.0018445340396102128, -0.0025535442082473825, -0.0003305243814808456, -0.0027740171511355105, 0.0025948846969965356, -0.00403313273463668, 0.003544559696077809, -0.0037577977881548263, -0.0014593318347011497, 0.0024292584093549285, -0.0011906348588645588, -0.0027257999396747, 0.0007087884702898783, 0.001272981583470001, 0.001989039012008975, -0.0017004571155589954, 0.0004200189829304257, 0.0005023554753045278, -0.0005093276988427098, 0.00026879759277886883, -0.001995917440092476, 0.0009841677564411677, 0.000626480969238119, 0.00011744829973459048, 0.0001584801161693683, 0.0010808204669662813, -0.0010737390996263807, -0.0009635085969839086, 0.0036891772230221997, -0.0023674923970991024, -0.0014864038557124704, -0.0013419773304211846, -0.00024139643499032637, 0.0008121456609644362, 0.00016562117152596478, 0.0026227224299921748, 0.0009016232086950238, -0.0008192628411143321, 0.0010118724704283877, -0.0019684020223865173, -0.0033860608208174936, 7.558426181120126e-05, -0.0013903036856837692, 0.0014591732351141862, -0.0010598577513104002, 0.0007775284114556191, 0.0003853761528431754, 0.0009085527979356134, 0.0010255082451903208, 0.001115212607383953, -0.0041366553463858535, -4.8227443692261396e-05, 0.00046114800556373847, -0.00030256045096443973, 0.0043501151368102176, -0.001383778269584135, 0.0005991105081438186, 0.002959478903605428, -4.860433088271776e-05, 0.0007226340057958081, -0.001466043136338191, -0.0010321905555050748, -0.0007915035552262806, -0.0014797744119267042, -0.000646851920843794, 0.00019272559460348226, 0.0011083051879781092, -0.0004198927854096035, -0.0012185186369014778, -0.0020303522148077957, 0.003441240023585035, 0.0014936506441270425, 0.0012388264897467693, 0.0005228747942657153, -0.00022704099328546556, -0.001830640753690993, 0.000488424671203358, -0.0025812165201684056, -0.0013693494968873843, -0.0035238834829015575, -0.002883942392207406, 0.0007019594979915111, 0.0031803253229403805, -0.0003305209707370471, -0.001094442598753076, -8.250020807670788e-05, 0.0022917256604942926, 0.0029322141755691034, 0.0006053016713506443, 0.0019756743913795782, -0.0021061547642225453, -0.0020783647816402517, -0.0005986551738458301, 0.0004266467213442926, -0.0017274796807851267, -0.0004886736555012039, -0.0007431004582280631, -0.0007703890614710329, 0.00022018644040855406, -0.0011631518432246857, -0.0009847629312351724, -0.0005025191910070781, 0.0010190970890081585, -0.0007916519225817931, -0.0005231323054230019, -0.0018375277086339903, 0.0014317686665818452, 0.00014447257033267658, -0.00046128272994405695, 0.0032487156628661085, -0.0003645873851212955, 0.001789614053371802, 0.002532639475236187, -0.001307426590416605, -0.0018513971193466205, -0.0006259778845268404, -0.003283535851631325, -0.0023811366987205873, 0.001617470876490057, 0.0003578607351371055, -0.0028633241616757843, -0.0030357913592191643, 0.001197953272898955, 0.000626339423370148, 0.0014659510462555203, -0.004770033502798421, 0.002670366636493726, 0.0003376534992340363, 0.0004675165274483639, -0.003282981605762958, -0.0032834829851022818, 0.0019681138145349886, -0.00428160201010741, -0.0009569303143552865, -0.00013059804350429305, -0.0005507074111457122, -0.0011701274775066661, 0.0014591152524695006, 0.001858459727595685, -0.0009353980044839449, -0.0005020553298496488, 0.0002543568824788789, 0.0009633073630993527, 6.21889444876178e-05, 0.004239488987886397, -0.0005987199779781127, 0.00015126061370540622, -0.002016721556161505, 0.0006262029936180413, -0.0005640447458246656, 4.1280800732623746e-05, -0.0026085631060560055, 0.0006609634943666176, -0.0007915223143172279, -0.0006055216643259809, 0.0015488059716879388, -0.005265091028531399, 0.0017484986737137942, 0.000344327282689294, -0.00221597597760842, 0.0015972022471984482, 0.0007634918742964736, -0.0006954460194950052, 0.0002681018010426417, 0.0018511293759578828, 0.0009077529785133098, -0.00011043003115507322, 0.001830971595840003, -0.00026185265519118595, 0.0007155407008525572, -0.0008330248133970874, 0.001665773356545941, -0.001796623795091823, -0.0012594072020964409, 0.0005506102049471773, -0.0006539435204151456, -0.0011495041308593468, -0.0002546996622313502, 0.0004679292274488711, -0.0010807795380406438, -0.0038471696028273827, -0.0007642251842145953, 0.0009978632192196857, 0.00043363088248588033, -0.00012423463773547638, 0.0014658794206355297, 0.0008539056712016935, -0.000998350955583982, 0.001692963048218532, -0.000894932371520829, -0.0023264691075238764, -0.0007503984077996684, -0.0009637592866535982, 0.0011079777565728421, 0.0018925090882608298, 5.4865414337412766e-05, -0.0018582977172648674, -0.001604041451728322, -0.0006674633298877075, 0.005209911825763802, 0.0013351006077095828, -0.0003580005756330662, -0.002705104967407501, -0.001913729315074053, 0.001183430704747579, -0.00039940416314265814, -0.0008260065448175702, 0.003847452694563269, 0.0026156325357927224, 0.0008465446228697049, -0.001982169110785026, 0.00011005655470830433, 0.004638949428301897, 0.0022716821402938847, 0.00262922226551332, -0.0004816997265910672, -0.0007500539226752978, 0.0012254107079602283, -0.0003646419570221826, -0.0026772143678829297, 0.000777294775504922, -0.002223067577179827, -0.0030557462000806446, 0.0020786956237893173, -0.0003646931181792712, -0.0007090169901247112, 0.002278311584079651, 0.0029869414547824547, -0.0001720698458900216, 0.002002727653300007, 0.00013038146127264394, -0.0029526789226294037, -0.0005785639032321876, 0.0019134308749910733, 0.0033860949282554786, -0.0007432351826083816, -0.0015480590187945675, 0.0014181789368612474, -0.0010463993352263223, 0.0019067212787259313, -0.005169301236188972, -0.0013627643927711652, 0.0006675741790614365, -5.491657549455686e-05, 0.0010667020719558606, -0.0001376708839847529, 0.0025676353173073596, -0.0008533872381432661, 0.0017206762890652483, 0.0005092594839665732, 0.0008118216403029122, 0.002450205776663661, -0.0010248772575863763, -0.0019268654158685616, 4.8459374271003774e-05, -0.0009701687374639723, -0.0030213523542910736, -0.0014386129872273612, -0.0007500829139976406, -0.0003442027905404821, 0.000523169823604841, 0.0015690132075909524, -0.002890742373183375, 0.0011700882539528723, 0.00036472381487351324, 0.00047469169024294544, -0.0007431652623603457, -0.004143615632320685, -0.0025258514318634573, 0.0016105992698940974, -0.0022299050763376904, -0.002973460868863631, -0.0012803289888266844, -0.0027323799276753324, 0.0014450855367981186, 0.0004748451737142112, -0.0034343871760800226, -0.002099182540684419, 0.0008810629608081433, -0.0007296590958628668, -0.00334501706677931, -0.0015968151277765408, -0.0008398367319764066, -0.00560944730254298, 0.0011421072697174184, -0.0007503131392044837, 0.0006949668099904827, 0.0008332874406701274, 0.0017411683220760477, -0.0001445765980186975, -0.002904466827284291, -0.0007505348375518306, -0.0004269980279562047, -0.002305786072859972, -0.003296995973087302, -0.00247757964850176, 0.0014315299145154503, 0.0018930121729721083, 0.00013132794267861625, -0.0012390379558626652, -0.00013752933811683743, 0.0012805899107278251, 0.002381336227233244, 0.0006055523610203339, 0.00240900171766667, 0.0010393435484649105, 0.0010119475067920658, 0.0009841541134659182, 0.0025672226173068524, 0.00183783638094831, -0.00011026290470861344, -4.813876435327824e-05, 0.0016518442578167813, -0.0014172836166123637, 0.0020030636115647704, 0.00026171110932321495, 0.0007360242070038048, 0.003613096697987206, 0.00012387139352021403, -0.0010462049228294745, 0.0007639574408260241, 0.0013352847878750906, 0.0019819218318590792, -0.0019959651905057663, 0.0005229702950922954, 2.7433559854683764e-05, 0.0017620696443434447, -0.0011011709541092207, 0.0004540871026866844, -0.0003511426120124117, -0.0003581131301786389, -6.163469861925064e-05, 0.003200614416694725, 0.0005986364147548828, 0.0010257026575872796, 0.0003513677211035571, 0.0021751556272894823, -0.0006193023956996835, -0.003820112930163211, -0.0006196963366091879, -0.0008468123662583871, -0.002119759842290292, 0.0005302068512753055, 0.0017755451141465706, 0.001301192792912298, 0.0004751589621442842, -0.0003579835219140737, 0.0010391252608613621, 0.0006951850975939755, 0.0017755553463780216, 0.004763103913557887, -0.0030969673127965724, 0.002491812303429708, -0.0005989297387222203, -0.0036612866234975727, 0.0011423954775690026, -0.0018313263131958246, 0.0004267183469641722, 4.1567303212197704e-05, 0.003248377999229446, -0.0022372951159919108, -0.0008813119451058782, -0.0002685451977372244, -0.0012528084550049723, 0.0015759973687324291, -0.0018309903549310058, -0.0002751251857378567, -0.0018447949615113535, 0.0009017118880340069, 0.0011974331344686284, -0.00048172871791341, -0.00036433669545160585, 0.0036270906008487036, -0.003221128619540159, -0.0018104795628293147, -0.0007299524198302043, -0.00011004120636121106, 0.0008255767910980705, 0.001465507649560771, 0.0018512265821563623, -0.00033046810420800377, 0.0015488946510268664, -0.00386114133585419, 0.0005992674023588829, -0.0014320449368301347, 0.00037145558097340103, 0.0009703034618442352, -0.001603715725694843, -0.005402978494747801, 0.0007917303696892697, -7.585541594390399e-05, -0.0008121882952620285, -0.0003162780835777035, -0.0006950606054451081, 0.0020096657694001485, -0.0023606958268669875, 0.005237648941817219, 0.0021408965058802853, 0.0031734025551873324, -0.0013831626303272282, -0.00017894486322966863, -0.005953612574901512, -0.0018515847102558713, 0.0033723159022536753, 0.0021400728112513923, 0.00033007586867050964, -0.00024096668127093768, -0.0021545118161794274, 0.001623789942589493, 0.000584918782141508, -0.004659651222056638, -0.00070216414261981, 2.7682544152474176e-05, -0.004218703630908371, -0.0018442390102710315, -0.0014796703842406278, 0.0014594102818086263, -0.00045470615268727865, -0.0015763350323690917, -0.002911341844624049, -0.0021476794331372062, -0.0009700902903564401, 3.4286407359696014e-05, -0.002043812336263773, -0.0016521870375691972, 0.0005234426831092764, -0.0018993738733691368, -7.048965273814822e-06, -0.00041282335567305317, -0.0034481764343132215, 8.257012832479926e-05, -8.256160146519198e-05, 0.0005024867889410478, -0.0012531375917822496, -0.004012567370634157, -0.002278299646476356, -0.0032143473976551373, 0.005175976725016074, -0.0010942140789180765, -0.0003925581371253539, -0.00017865153926249766, -0.0020028504400769753, -0.0027805152812847567, 0.0005233130748446557, -0.0002683541960842306, 0.0020232947226744846, -0.0009633926316945929, -0.00021317328794467905, 0.0047833861858245785, 0.002037273277188778, 6.7522305627898405e-06, 0.002401833376359741, -0.0015827871174770025, -0.0009014850735708513, 0.0013630167878126986, -0.0009084317165305444, 0.0006815152153940018, -0.0006466830890254349, 0.0011975473943861559, -0.003703026169271928, -0.002862727281509936, 0.0009361551896086562, -0.0026013333713605924, -0.002175082296297759, 0.0011974484828157217, 0.0004885730385588705, -0.00037150844750238887, 0.00013079586664505038, -0.0008874792331060588, 0.0021545305752703747, 0.0032893177255814976, -0.001231942945547515, -0.001390056406757878, -0.0010808596905200751, -0.00011675591874210633, 0.0016589495003632715, -0.0022508029878612335, 0.002401841903219293, 0.00023407972632782936, 0.0012184248414468524, 0.0003025485133612005, 0.00015864212650013032, 0.0007707949399838876, -8.89130696308249e-05, -0.0024292430610077242, 0.0015757296253436914, 0.0017273415456610097, -0.001417322840166102, 0.0018444965214283182, -0.0005990729899619796, -0.0006946479054446564, 0.0010329102224480025, 0.002835440383638921, 0.001879054082920495, 0.0010459559385316286, -0.0013148439160213243, -0.0012869533164967528, 0.0004334330593450675, -0.0013624574258286337, -0.0007570807181143668, 0.00031612801085034725, -2.0718847473788493e-05, -0.003510488165577863, 0.0028906860959106995, 0.0006401082171405559, -0.0011151512139955244, 0.0003305005062742006, -0.0008738093509060296, -0.002505635669100892, -0.000406163215193045, 0.00031690395506600577, -0.0012871357912903059, 0.0002133165391845493, -0.001218331045992227, -0.001335047741180595, -0.00286337191208913, -2.741480076373648e-05, -0.0002546928407436422, -0.005499411212297467, -0.0008746040542125799, -0.003000947295247358, -0.004033446523066753, 0.005327124784175907, 0.002181947081405955, -0.0032697261289352797, -0.00013748840919119987, 0.0006470463332406418, 0.0010804043562220311, 0.0027665009139604124, 0.0001789278095106761, 0.003193652425387883, -0.003317834196594316, -0.000681324213740897, -0.0013559098398941982, 0.002767082445779223, 0.004315409207962473, -0.00020629827060497652, 0.001341973919677386, 0.0013833195245422925, -0.0007777142969930817, 0.0008671287459632304, -0.0005025669414203682, 0.0023539538285356487, -0.0015625764708301348, 0.0012802539524630063, 0.002835820681573231, -0.00026154057213295667, 0.002064855204399141, 0.0007436819900468183, 0.0032552410789657427, 0.00027489666590285733, 0.00285594094350905, 0.00041962504202097684, -0.0015971613182728106, -0.0019410469096393657, 0.0020853932824511645, -0.0028081927093215886, -0.00027550377830021233, 0.0011151256334169246, 0.00013095276086005914, 0.002043948766015935, 0.0015349894275042963, -0.0010947086367698589, -0.00024786216307348674, 0.0017690248141626341, -0.0003510556380454388, -0.0016792454156053238, 0.002525633144259909, -0.0024984144612649195, -0.0031383981862566634, -0.0027048338132750205, 0.0018306424590628367, 0.0009913446246076485, -0.0005986466469862783, -0.001025610567504498, -0.003090684059507076, -0.0032760213198281263, -0.0017415963704235926, -0.0014040639525945697, -0.00201698247806259, 0.00432919164470813, -0.0008880181306272217, -0.004384353793756679, 0.002869895622816976, -0.00178232121991595, -0.00017189248721216632, -0.0039854902335070275, -0.00047496625511922463, 0.0012183463943393757, 0.00013078222366974535, 0.001741403663398644, -0.0024367234853728825, 0.0021130076117275576, -0.0018514448697599106, 0.0002200585375158326, 0.00015814245253276127, -0.004033142966868075, -0.0005366145967137248, -0.00046120257746462556, 0.00020642617349764247, 0.00035842180249306965, -0.0035720256579985787, 0.000970746858538929, -0.0007089078463229925, -0.00098398357627566, -0.0015002681503094584, 0.0013420779473634625, -0.004907518501245767, 0.0011906178051455107, 0.0016866832056728343, -0.004322013071169639, 0.0010053419382129447, 0.002009662358656239, 0.0016791567362663962, -0.000929211957392817, -0.0007159823921752961, 0.000481890728244172, -0.002195731223523456, 0.0004613373018448885, 0.002608128236220919, -0.002519239041796739, 0.0008190854824364768, -0.0016523132350899639, 0.0018863230411697574, 0.0032485229558411044, 0.00017224208845217914, -0.0009915543853517006, -0.0013903684898160518, -0.004776727750716525, -0.00016515731036842451, 0.0010531600926486084, 0.00018551802974275944, 0.0005165062723810898, 0.0014798409214309416, 0.000570844726800579, 0.001032286056331655, -0.0036751543288382482, 0.0008813017128744827, 0.0035998156405809834, 0.0024637153539048273, 0.0012596186682123922, -0.002450229651870306, -0.0015142842230056464, -0.002285043350179594, -0.0029732920370453275, -0.0014865982681094292, -0.0002685162064148816, -0.0016727319371089289, -0.0006539639848780476, -0.0019826653740087075, 0.0010737322781387282, 0.0041018829080339825, 0.003097098626433148, 0.0014797948763895508, -0.0015690763063512803, 0.001245689569483177, 0.000860325354243352, 0.0009979092642610765, 0.0010734679454939, 0.0016589477949914277, -0.0039160681435801425, -0.0016652685664627631, 0.0029179235379965807, -0.0024641024733267347, 0.0015280785973545985, -0.001032836891456168, 0.001012228893156053, -0.0006331649849247167, -8.247803824196209e-05, 0.001369647936970364, 0.0004886719501293046, -0.0010526740616563224, -0.001390366784444208, -0.0032145128187296423, -2.8991322342797332e-08, 0.004047401202374568, 4.131320279876505e-05, 0.0020164077677313763, -0.0021546414244439926, -0.001438618103343059, 0.0026703973331879127, -0.0006606292414736981, -0.0019335886551088977, 2.7331237540506592e-05, -0.001934183829902958, 0.000605427868871411, -0.001768818464162436, 8.916887541621232e-05, 0.00037191773675898654, -0.0009773063820766037, -0.0013215466907989804, 0.0033445702593407622, -0.0011905956353108205, 0.0021887641161010274, 0.001989287996306821, 0.0031455818759107967, -0.00019247319956183784, -0.0006262336903122279, -0.0013834559542945102, 0.0011906911361373451, -0.0006331359936023739, 0.001879054082920495, 0.0018516000586030201, 0.0015757722596413393, 0.0012113724654292946, 0.00021337963794493264, 0.0020787843031283004, 0.002518829752540086, 0.0032283702918390333, 0.0017347349960591396, 0.0012251975364724332, 0.0006126337283602346, 0.0020922103171461814, 0.0002405352221794832, 4.8716885428290446e-05, -0.0011631450217370332, -0.0007707079660167482, -0.0008880948723629656, 0.001121656165632312, -0.0011217550772026352, -0.00035147004341773425, 0.0010527081690944184, 0.0007090135793809682, 0.0021203004451834095, -0.0010738652971471474, 0.00040570276477935874, -0.0015485621035057906, 7.016563207673521e-06, -0.0017896515715536965, -0.0018721671279774421, 0.0007847513246634907, -0.00019293194460368035, 0.0014661335210490178, 0.0013835770356995236, 0.00446002332416312, 0.0002818927646477398, 0.0012321066612502318, -0.0058501513565409335, -0.0034825856284498857, 0.0004883325811205763, 0.00026846845600164704, 0.0009085408603323186, 0.0020994161766350605, 0.001342088179594858, -0.0004816059311364418, -0.0012041137394114276, -0.0010532709418222819, -0.00025513112132258264, 0.002691300360827209, 0.0006675741790614365, -0.00022689092055805382, -8.905802624253889e-05, 0.0008601104773836576, -0.0008125754146838249, -0.0010742080768995077, -0.0009361023230796683, 3.429834496293527e-05, -0.0023330405686649014, 0.0017135454659401583, -0.002264675809317662, 0.0004405826415611602, 0.001108354643763243, 0.0008673726141452676, -0.002663184652211492, 0.0024710678753773196, 0.0016861494242673691, 0.0006399615551569982, 0.0008605811600287949, -1.3630658646290872e-05, -0.0013969740583951729, -0.001204328616271122, -0.00084643718443983, -0.00018568686156106295, -0.0017688048211871865, 0.0007428105450045797, -0.00044752246303314536, -0.0032418815744520435, -0.000262038540728593, 0.0022643824853503802, 9.619055473952809e-05, -0.0019681939670143644, 0.0030904299590936435, -0.0003573354805910811, 0.0004129273833591296, 0.00041983821350882744, 0.0017482513947879585, -0.000991134863863652, 0.00032351634513272387, -2.0587533837268523e-05, 0.0005577290904689725, 0.0009083822607454106, 2.7812152417094893e-05, -0.002429775137041401, 0.00017208178349331638, -0.0010188566315698644, 0.0009427914548820748, 0.0031726948258476995, 0.00017214829299755374, 0.0007640853437186901, 0.0034618002714719154, 0.002470491459674262, 0.0010533033438883677, -0.0008873939645108742, 8.279353204393436e-05, 0.004026261128040776, 0.0005990934544247706, 0.00026865263616715485, -0.00020611238506762497, -0.0007847035742502007, 0.0010253360026281078, -0.0034137621240608595, 0.0012872568726954303, -0.0005298197318534537, -0.0014871422817462898, 0.0009153885917215776, 0.004742378244596446, 0.0013976391534372135, -0.0008188023907005904, -0.0025880966536238614, 0.0007021385620412657, 0.0002063886553157479, -0.0024227534577179743, 0.0021750533049753606, -0.0016521375817839523, -0.0015687574018055095, -0.001899554642790846, -0.0009427078916587894, 0.0028838929364222166, 0.0026705184145929817, -0.00408821984732155, -0.0032553195260733303, -0.0013628496613662389, -0.0034688645850928235, 0.0035310450027208895, -0.0009633960424383359, -0.0002475449638995042, -0.004384432240864211, -0.00039228186687706446, -0.0009497687945358435, -0.0002408063763120194, 0.0022093465338226537, 0.0002823600365490231, 0.0044462170122108735, -0.0024368565043813017, 0.0001167968476677439, 0.0012596595971380853, -0.0001651146760708877, 0.0003924865115054188, 0.0008877316281477032, -0.0006877080839726157, 0.002209399400351697, 0.002044494485024806, -0.0015140761676336045, 0.004439417031234905, -0.0012045707790813709, 0.0006950759537922568, 0.0008465326852664101, -0.0003783664111230989, -0.00028218097249921303, -0.0001582857037725205, 0.0007983257060369398, -0.0006465909989426533, -0.0003023455741047454, 0.0015417842923645675, 0.0012459880095661569, 0.002463814265475206, -0.0007847342709444982, -0.002815299657240089, -0.0031454045172328304, -0.002278350807633389, 0.003090305466944665, 0.0022504192791831246, -0.0021469307748719912, 0.00041256413914392276, 0.0017547631679123432, -0.003131848894950384, 0.00016519141780652058, 0.0024703857266161755, -0.000708897614091597, -0.0028838042570833444, -0.0014106933963803914, -0.0003992643226466974, 0.0006953249380899917, -0.0017756491418325915, -0.0005991360887224184, -0.003386238179495349, 0.00021998009040824495, -0.0013419977948840311, 0.0011492363874706646, -0.0008259946072141644, 0.0003855637437524262, -0.0008946202884625443, -0.0025186626260936262, 0.0011909043076251402, -0.002642791530771127, -0.0010871685243881157, 0.0011425523717840669, 0.00022049340735103007, -0.0027735942189036633, -0.0025534572342802986, -0.0003715152689900414, -0.0015553450307628225, -0.00018581817519758292, 0.002367477048752009, -0.0023883425582094664, -0.0016932444345824638, -0.0009638309122735889, -0.0007985729849628864, -0.0007984143853759229, 0.0018035346252415763, 0.0009704654721749972, -0.0003575486520789317, 0.0020507214610414604, -0.0013418920618260555, -0.001885463533730869, -0.0018792058610198614, 0.0015142091866419682, 0.002890926553348938, 0.0027187953140704324, 0.0010602005310628715, -0.0010119253369573755, 0.003173354804774098, -0.0033861409732968695, -0.0007573024164616582, -0.0030145370249679004, -0.00175533105675596, -1.7224256221304302e-07, -0.0002892538129797284, -5.514680070139999e-05, -0.0002612574803971257, -0.0006405771944137939, -0.0018310295784847996, 0.0037235778902993677, 0.0007363277632024268, -0.0011289336507409597, 0.00039205846315781834, 2.092690284588583e-05, -0.0009360528672945345, 0.00045450832954657683, -0.004308692790209789, -0.004391216873493087, 0.0006883254286014218, 0.0017890683343629865, -0.003723733079142477, 0.0011292798412373406, 0.001121983597037579, -0.004494050514993575, 0.000598462466820826, 9.618373325193108e-05, 0.0005918262015475184, 0.002051050597818793, -0.0022509087209191536, -0.0010185616022306831, -9.65265130044024e-05, 0.0019202990708431233, 0.00252610553227689, 0.000949623837924185, -0.0019962755681920408, 0.0017961838091410387, -0.0009569115552643392, -0.0020917788580548935, -0.0007644434718182547, 0.0016035281347855923, 0.001300747690845705, 0.00041972224821940074, -0.0023816687747542087, -0.002126658734836695, -0.0005503919173436289, 0.00021312212678759046, 0.0023057604922814834, -0.0031175736057247883, 0.0013696462315984648, 0.0020096862338629395, 0.0009358396958066839, -0.002925434659055981, 0.002862887586468743, 0.001121760193318333, -0.0021201435509683453, -0.0007020447665865848, 0.002030195320592787, -0.0007159568115967518, 0.0016449760619645648, 0.0036405217309823934, -0.0013834082038811646, 0.0011356892920476591, -0.0016791277449439979, 0.001293744770613281, 0.0001036300501790488, 0.001782752679007349, 0.00161733274136594, -0.0033242555850079847, -0.0013698304117639726, -0.0012182133753309565, -0.00017186861200552128, -0.0007367319363433822, 0.002030266946212611, 0.0027531738115128546, 0.0018856647676153693, -0.0008745699467745949, 0.004900536045476189, -0.0011220620441452223, 0.0029248394842619208, 0.0010942942313975634, 3.4325630913434324e-05, -0.0021403490814995707, -0.0013490041258601981, 0.0022164057313279195, -0.001968512871560135, 0.003310515782559975, -0.0008742612744602196, 0.0014933641416473575, 0.00040587159659766225, 0.002360958454139972, 0.000240722813088734, -0.002312609929042586, -0.0034137945261270564, 0.0052511022417855435, 0.001865409781299121, -0.0018650635908027957, -0.0016928334399539668, 2.3363595064163079e-07, 8.984590806149217e-05, 0.00022018644040855406, 0.0001998564177285167, -0.000488573038558926, 0.0003995610573577779, 0.0012938794949935994, -0.000357726010756787, 0.0015141051589558363, 0.0009220811342677271, -0.0013216967635263366, -0.00037137883923776815, 3.422842471501042e-05, 0.0016173412682254362, 0.002147594164542077, 0.001941200393110576, -0.0008533446038457293, -0.0028771867509009286, 0.0026705303521962764, -0.002154175857914664, 0.004714656476890122, -0.0012597465711050582, 0.0007916536279536923, -0.0023260802827300697, 0.000915033874365867, 0.0016863046131104231, -0.00044047690850318455, 0.0026084795428328866, -0.0021269981038453123, -0.0020714795320690427, -0.00145927044131261, 0.0019136900915202593, 0.0011423460217837578, 0.001066951056253651, -0.0022848182410883933, 1.3837008646488957e-05, -0.0011769735035239703, 0.0023533569483696892, 0.0021953782115396447, -0.0029736689242357284, -0.00015100310254800853, 0.0006328904200483265, -0.0015005580635328863, 0.0018174637239707914, -0.0014730034222730781, -0.0001442150591753344, 0.00254678515619694, 0.00039940075239885964, -0.0010940247826369265, 0.005093638527270128, 0.00040580338172158115, 0.0004887998530219706, -0.0025259759240123247, -0.0008808480839483934, -0.0020513490379017174, 0.001135979205271087, -0.0003650682999978283, -0.00010987237454290755, 0.00011009577826215367, 0.0003441294595485922, 0.0019337745406462492, 0.00044746789113225827, -0.00013740143522411596, 0.002877079312470998, 0.0037507914571785483, -0.0004539557890501089, 0.0025603834127770897, 0.002044047677586369, -0.0028771628756942835, 0.0008741504252866017, 0.0009154005293248724, -0.0004132241180702101, 0.0018993465874187487, -0.001225564191431494, 0.0008187904530972956, -0.000619309217187336, 0.00013749693605069613, -0.002395473381334612, -0.002236766450702088, 4.14735077575723e-05, 0.0020234806082118917, -0.0007292463958625262, 0.00031002041086675147, -0.0013969945228579639, 0.001982220271942059, -0.0010051407043284444, -0.0004887947369062173, -0.0007023261529505165, 0.00021996644743316196, -0.00023392453748466435, 8.91518216972198e-05, -0.002333378232301564, 0.0006327659278995146, -0.002381179333018235, -0.0015624434518217711, 0.0033587568692274306, 0.0023675623173470828, -0.0005162368236204529, -0.0019339467832085178, 0.002663587119980493, -0.0011217294966241464, 0.0016658330445625258, 0.001011725808444719, -0.0010049889262291334, -0.002546781745453197, 0.003179839291948039, 0.001686667857325741, -0.0038611447465979887, -0.0007016832277432217, 0.0007157572830842063, -3.4618954880771824e-05, 0.0012322311533990993, 0.0017482377518126535, 0.0005990661684743825, 0.0012731862280982997, 0.0010808511636605789, -0.0002549861647109797, 0.000736140172293176, 0.0022917597679322776, 0.0018582329131325848, -0.00446002502953502, 0.000977224524225273, 0.0017965658124471928, -0.0031799808378159544, -0.0005229242500509046, -0.0012110313910487225, -0.001321287474269739, -0.0004197051945004082, 0.00013078222366974535, 0.000935921553657959, 0.0015005768226237781, 0.001156073886628528, -0.0013762483894337318, -0.0018172113289292025, 0.003048826843071395, -0.00026843946467935975, 0.001665672739603663, -6.178477134666238e-05, -0.000743767258642003, -0.002951942201967539, -0.0033448533510767042, 0.0026917437575219028, 0.001183947432434107, -0.0025805463090106673, -0.0004748127716480144, 8.96105667390068e-05, -0.002236868773016265, 0.0007915802969618579, 0.0028087418390742025, 4.782156517946223e-05, 0.00010335036918701634, 0.0007158357301916829, -0.003028520695598058, 0.002856275196402025, -0.00011724194973439239, -0.0005507909743689421, 0.002470953615459792, 0.0006952106781725198, -0.00032354874719886517, -0.0004542746935959352, 0.0018792416738298012, -0.0017755365872871298, -0.0008807730475846598, 0.0001238355807101632, 0.001452119153724729, -0.00016534660664957457, -0.0038268958574202427, 0.003014591596868843, -0.001651919294180515, 0.0016174333583082179, 0.00015858243848354547, -0.0029386338586108174, -0.0002617264576703082, -0.0008742561583444663, -0.0022642153589039204, -0.0006193518514848728, -0.004218908275536615, -0.0005853638842081565, -0.00032358967612455825, -0.0017206080741891672, 0.0022574887089197304, -0.0033239622610407027, -0.001128904659418728, -0.0005302511909447416, -0.0004474201407189682, -4.8273488733596714e-05, -0.0004679735671183072, 0.0038473247916705478, 0.0014934528209862297, 0.0006879690058737564, -0.0009704415969683522, -0.0030142914514139085, -0.0010120174270401572, -0.0011633326126462284, 0.001714075836601936, -0.0004749253261936426, -0.001341936401495547, -0.0018238220136239658, -0.0027461504268175285, -2.007251152275069e-05, 0.001520910256047614, 0.002532937915319111, 0.0033172833614697472, -1.3410665670787747e-05, -0.0001995596830174362, -0.001954459280681997, 0.0028011437440478293, 0.0028426240732929986, -0.0007707437788267435, 0.002112993968752419, -0.0017414786997623777, 0.0008535236678954283, -0.0003165100141565014, -0.0007910192296058383, 0.0017756252666260575, -0.001630668370672994, 0.0004261999139059114, 0.002766545253629904, 0.0010876357962894545, 0.0009978717460792375, 0.004652752329510346, 0.0021887811698200754, 0.0007913381341516645, 0.0062495572250555464, 0.003337835082497076, 0.0009084061359519446, 0.0006814180091954669, -0.002835774636531785, 0.003159064167201464, -0.001280252247091107, -0.0023398968269137677, 0.00019989734665420977, 0.004715026542592982, 0.0023126099290426416, -0.0009703972572989161, -0.001899631384526479, -0.0006398165985452287, 0.0008947413698676687, 0.0007780741304644345, 0.0022302256862552494, 0.00113579331973368, 0.0017069995853776776, -0.0010873714636445153, -0.0038129224190214805, -0.0014246497810599945, 0.0003649608615680089, -0.0040814471522959694, -0.001011901461750675, -8.938375227590667e-05, -0.0014316339422015267, 0.002732796038419527, 0.0003166464439087191, -4.875951972582726e-05, 0.002635998371282644, -0.0023263292670278046, -0.0007229188029035383, 0.002071832544052965, -0.0014247793893246707, -0.004122233395176755, 0.0005989160957469153, 0.0007297000247886709, 0.0021886055165141194, 0.0012112633216274649, 0.001183855342351381, -0.0011081568206225967, -0.0006264912014696256, -9.597908862363225e-05, -0.00026180149403398634, 0.0001443924178532452, 0.0026292734266703532, -6.199623746261373e-05, -0.0005713324631647643, 0.00020627610077028624, 0.0012043235001554797, -0.00019264373675209612, -3.0185082666722707e-07, -0.0008671475050540667, 0.002009764680970416, -0.0019269148716536955, 0.00020719700159771426, 0.00030930586003952154, 7.598843495221219e-05, 0.0008809947459320067, 0.0013763848191859496, -0.00020657454085315496, 0.0003787842272392483, 0.0006678521546815697, 0.0002477905374534961, -0.0006333747456688243, 0.0010938678884219177, -0.001493178256109895, 0.0028632167232460204, -0.002636209837398651, 0.0010324003162491269, 0.000578644055711619, 0.0011150113734994527, 0.0008191809832630015, 0.002911650516938369, -7.600719404310396e-05, 0.0024022597193354422, 0.00013065432077719041, 0.0018446943445690756, 0.0013011433371271086, -0.0012455991847723502, -0.00456305649417621, -0.0019064450084776974, -0.0019478383637558938, 0.0005712369623382951, -0.0013622425489688839, 0.0007980852485987011, 0.0013766031067895534, -0.0009984583940136904, -0.0027529282379588627, 0.0036618766821758797, 0.003847565249108842, -0.0016797809023827437, -0.00457718682678987, 0.0009428903664523425, 0.0020372476966103448, 0.00044727688947909794, -0.001073558330204727, 0.000653740581158746, -0.00011008213528690414, 6.910830149681191e-05, -0.0027253275516576636, -0.0002475637229904515, -4.801597757631004e-05, 0.0007504001131715121, -0.002099040994816448, 0.0015070323184754875, -0.0032555429297925764, 0.002539572475220575, -6.878769157914189e-05, -0.0036750929354498196, 0.0027596787631496977, 0.0003025144059231044, -0.0007436819900468183, 0.0024429692204805953, -0.0021888067503986197, 0.0036202548070627394, -0.001513813540360509, 0.0022165063482700864, -0.0005644744995441098, 0.0010250341518014405, 0.003407240118705024, 0.000543726660747923, -0.0015348393547768846, -0.0014455681570465506, 0.0021339089339949546, -0.0038060167049874805, -0.0010114546543122382, -0.0030901212867792682, -0.00024768480439557594, 0.0022026539912764487, 0.0018447352734947131, 0.0014867074119111479, 0.0038747583515252315, 0.0025397754144769746, -0.0012387787393335348, 0.0005919558098120836, 0.0018305554850958083, -0.0007572666036517184, 0.0005715251701897683, 0.0013420677151320115, -0.0016726654276046915, 0.0010532419504998836, -0.002870108794304771, 0.00046816968488705424, -0.00430883263070575, 0.0003094559327669888, 0.0005578945115434775, -0.0008055673783358142, -0.002408853350311213, 0.0013902320600638896, -0.0026775042811063576, -0.002415300319303315, -0.00337935292992414, -0.0013148370945338383, -0.0026362678200433365, -0.0023265117418214687, 0.0012321663492668167, 0.00011019639520437607, 0.0009774172312503326, 0.00030272928278274325, -0.0016243305454826107, 0.0006396273022640786, -0.00012415789599973248, -0.0008537249017800397, 0.0037512757827988796, 0.0006335469882309264, 0.0003714061251882672, 0.000501857506708947, 0.00060604862424396, 0.002408727152790391, 0.0019753282008833084, -0.0014867722160434305, -0.0009772569262914699, -0.0019613394141375085, -0.002250576173398189, 0.00020647904002668582, -0.002244016649860403, 0.0018237947276735778, 0.0007430765830214181, -0.0005299527508618174, -0.0011566485969597418, -0.0003575605896822265, -0.0006471043158854384, -0.00014431908686141082, -0.001562665150169118, -0.000702170964107296, 0.0008947567182148175, -0.0006813634372945798, 0.002725552660748809, 0.0038195996132204812, 0.0034274337116327325, 0.0009221186524495106, 0.0032964144412686025, -0.0006054756192847011, -0.00037149139378339635, 0.003351684028746915, -0.0015352963944467168, 0.0017068819147163516, -0.0012870027722819422, -0.0030628412103957947, -4.088174370736608e-05, -0.0006881327215763622, 0.0004956680488740206, -0.0016518868921143182, -0.003166223981649008, 0.00028913614231840246, 0.002732775573956736, -0.0002893544299219508, 0.0008604157389542344, -0.0029804109225671227, -0.0012936049301172092, 0.0019885478649009913, -0.0005160731079178471, -4.8072254849096385e-05, 0.0009497722052796975, -0.0031658010494171607, 0.00024776325150305256, -8.92711977303895e-05, 0.0036683679908375844, -0.0007915615378709662, 0.0006330916539328824, -0.0004890812393859578, -0.00030951221003983065, -0.0032419873075099637, 0.00015826865005341695, 0.0010252251534544898, 0.0008464747026216135, -0.004136438764154204, -0.0014452987082858582, 0.0037644528125190813, -0.00328319136650701, -0.0012867674309593458, 0.0016313078851364904, -0.0013627882679776993, -0.003937457202211836, -0.0007018998099748708, 0.0011288961325591762, 0.0007845057511095543, -0.0016103178835301657, -0.0018030178975550482, 0.0002890696328142206, 0.001259586266146251, 0.0028905633091336203, -2.7573400350644484e-05, 0.005719456106838106, -0.003310631747849291, 0.00016552737607128387, -0.0009842052746230623, 0.0017139189423868717, -0.0005231783504643372, 0.0011562717097691744, -0.0005920513106385528, -0.0012110552662553675, 0.0020238131557328565, 0.0014521038053775803, -0.001906651358477951, 0.0004678422534817317, 0.0011562086110088465, -0.0006056700316815489, -0.0002543244804126821, 0.001589648491841622, -0.00270447909591931, -0.0003229842690991025, 0.0028225498563983487, 0.0005986978081433669, -0.0009840637287550913, -0.00032377726703380905, -0.0005848062275959909, 0.0001167354542792598, -0.0010117292191885174, -0.00033691166245647386, 0.0015623326026480977, -0.0030149446088526544, -0.0013697025088712511, 0.0020375427259494705, -0.00047491509396219156, -0.0024845621042712818, -0.0005645137230978481, -0.0028907304355801355, -0.00025465191181806013, 0.0002615508043643522, -0.00046774675265520704, -0.0019273054018193458, -0.0006882844996756732, 0.0010530850562849303, -0.0030004561481393743, -0.0016863012023666801, -0.00199589868100164, -0.00035115796035944946, 0.0007913978221681939, -0.0015826984381380749, 0.0013765195435663236, -0.0002476165895194393, -0.0017688235802781338, 0.0010049309435844478, -0.00017894486322966863, -0.0012182884116946346, 0.0010804657496105707, -0.0012043303216431323, 0.00031629513729680703, -0.0008325438985204991, 0.00028863646835086687, 0.0002818467196062935, -0.0004338662238083657, -7.15640370363424e-06, -0.004088446661784539, 0.001087308364884132, 0.0002065233796961774, 8.298794444083768e-05, 0.001562230280333976, 0.0012666215884448717, 0.002697924688497222, 0.000605572825483125, 0.0012114048674953803, 0.005024221553458996, -0.00015146866907744805, 0.0016378315958642808, 0.0007775829833565062, -0.0004270628320884873, 0.003276258366522622, 0.0027049907074900847, 0.000302710523691907, 0.001053015136036839, 0.0003024905307165149, 0.0018103039095233586, -0.0004957328530064142, -0.0019272934642161066, 0.0012041410253618157, -0.00041289327592103353, -0.0014110037740666659, 0.000234009806079849, 0.0010462731377055001, 0.002257398324208848, 0.0023945524805071283, -0.00019306325824020032, -0.0030904964685978253, 0.0019819388855781828, 0.004473399882395868, -0.0025259537541776345, 0.000708570182686219, 0.0009845446436316796, 0.0013421990287685315, -0.002229990344932764, -0.001940796219969676, 0.002133961800523998, -0.0005777333871155865, -0.0009081452140508595, 0.003923234779515339, -0.0007431175119470557, 2.0384594580868942e-05, -0.0009498114288334913, -0.0020716483638875127, 0.0001032616898480887, 0.0001860535165201238, 1.3756856167113085e-05, -0.0038264661037006875, -0.0030009370630159626, -0.0017068853254602612, 0.00019273582683487778, -0.0004199149552444048, -0.0002821860886149663, -0.002773611272622767, 0.004604506126727137, -0.0009707485639107727, 0.0023882112445729464, -0.00041270739038362647, -0.0015554456477051004, 0.0004405144266850791, -0.001982254379380155, -0.0023328018165985065, -0.001575804661707425, 0.0030216678480931014, 0.0023128401542495403, -0.0006399700820164389, -0.0025809726519863685, 0.0023746914351003845, 8.25070295643604e-05, -0.0007710217544468767, -0.00024118155813068753, -0.0006122807163763677, 0.002037169249502757, 0.004122716015425187, -0.00019965688921597113, 0.0012114799038590585, 0.0011152484201939483, -0.004976360764725796, 0.0007844477684647577, 0.0027873544858145194, -0.0022028228230949187, 0.0017413900204233945, 0.004150166628998919, -0.0003092001269816569, -0.002959860906911582, -0.00023397058252605518, -0.00101841494024707, -0.0033860898121398364, -0.002959635797820548, 0.00016518118557501404, 0.0026495932171189396, 0.002815021681619956, -0.0011219460788557956, -0.0005162658149427957, 0.0019617913376916984, -0.0023395932707150346, -0.0007155731029186985, 0.00028215198117687024, 0.0038956375039579383, -7.567464652213918e-05, -0.0003373328893163663, 0.001988984440108088, -0.003090342985126615, -0.0019686100777586146, 7.163225191231248e-06, -0.0018514107623218146, 0.001438193465739257, -0.0032282031653924625, -0.0016449010256009422, -0.0009497363924698132, 0.0003920533470421761, -0.0009498728222219199, -0.00033721862939894987, 0.00038541026028121594, -0.0015004028746897213, -0.0029736672188638846, -0.00026101702295883156, -0.001218085472438235, 0.0007706687424630099, -0.000647300433654241, 0.004115677282382879, 0.002181860107438982, -0.001094851888009729, -0.002126986166241962, 0.002244141142009326, 0.003338073834563471, 0.0004608137526708189, 0.0008122292241876661, 0.0005918210854317651, -0.0002273070313022485, 0.001700276346137286, 4.165427717928161e-05, 0.0017895492492394638, 0.0002684377593074605, -0.0002889980071942855, 0.0009429841619069679, -0.0008190923039240183, -0.0029044531843091526, 0.0019064637675685892, -1.3545390051106221e-05, 0.0028147914564131127, -0.0005161157422153839, 0.0010323849679019226, -0.0027737715775815186, -0.0010394424600352892, 0.004803878218835322, 0.0011220586334013682, -0.0008049636766822577, -0.0034961770635423828, 0.0019752446376600785, 0.003757702287328246, 0.0010045932799476187, 0.0020718069634744207, 0.0007499311358982741, -0.001259461773997328, -0.0009980388725256972, -0.00030269005922906045, -0.0017139632820563078, -0.0017619980187235096, -0.0034758964966476458, -0.0010185888881811822, 0.0019340405786631432, -0.000778046844513991, 0.0005850927300756759, 5.497455813929797e-05, 0.00014444016826653527, -0.0022711449481445656, -0.0004472683626196572, 0.00031610925175939997, 0.001624269152094071, -0.0003579391822446376, 0.0009287480962353323, 0.0015208454519153314, -0.0026842565116691475, -0.0020302993482787524, -0.0028562649641706295, 0.0005644369813622707, 0.0015414295750088014, -0.0005988495862426779, -0.0010390672782166765, -0.004246522604813063, 0.0018720835647542677, -0.0013627012940107264, 0.002312528071191311, -0.0035380240477466685, -0.0006192205378484084, -0.0031869684097013407, -0.0007297665342927973, -0.0014245832715558682, 0.003758079174518758, 5.5042773015379076e-05, -0.0021542662426254355, 0.0036959789093701234, -0.00044756339195883843, 0.0022574426638783396, -0.00013781072448071363, 0.0009563811846026171, -0.0025741163937375577, 0.000825442066717752, -0.0006396119539169298, 0.0011010123545222017, -0.002512225889332864, 0.00077076424328959, 0.0010596684550292501, 0.0023332554455245957, -0.002291737598097532, -0.003517429692421803, 0.0012666880979490536, -0.002009788556177061, -0.0005370921008465146, 0.0035239534031495934, 0.0019477684435078024, 0.003062981050891811, 6.359995025184695e-06, 0.0007986224407480202, 0.0005438170454588054, -1.4836735551249092e-07, 8.526859512913987e-08, -0.002711488837639331, -0.0008740054686747767, 0.0011290837234684825, -0.0025188587438624843, 0.0006125365221617551, 0.002512166201316335, -0.0029046117838960606, -0.001121639111913264, -0.00034453704343340164, -0.000942327593724479, 0.003255684475660492, 0.0018517262561237868, -0.0026015499535922415, -0.00035795282521988714, -9.648558407859831e-05, 0.00017215852522894926, -0.0011423392002961608, 0.002821976851439034, -0.0002610698894878194, -0.0009222687251770334, -0.00030994196375933036, -0.001576225888567373, 0.0008120774460883551, 0.0013561144845225526, -0.0020648142754733367, 0.0010185360216521389, -0.002553660173536698, -0.0019753026203048196, 0.0027875744787900225, -0.0005714006780408454, -0.0012595112297825173, -0.0010395311393741613, -0.0004129563746814169, -0.00047494749602827735, 0.0008328269902563856, -0.0018102715074571618, 0.003882022193658796, 0.0002067075598616297, -0.004969417532509901, 0.0015414193427774059, -0.000475177721235176, -0.0014384577983841407, 0.003001375343594903, 0.0026981583244478635, 0.0010187781844623323, -0.001060214174038121, 0.002271057974177537, 6.158694820601607e-05, -0.00042002580441813375, -0.00032347371083524257, -0.0027668982656137153, 0.0023262474091765295, -0.0029046441859621464, -0.00015150107114358935, 0.0005160372951078518, -0.001968390084783167, 0.0003507810731691041, -7.601231015885723e-05, -0.0013078171205822553, 0.0019411679910444346, 0.0011285209507406746, -0.003324364728809759, 0.0009084112520676979, -0.0015555053357216853, 0.0002137138908378522, -0.0006679340125328448, 0.0008607994476323433, 0.00158980709142853, -0.0021818839826455716, 0.006015381997901081, 0.002877036678173406, -0.0016587243912721816, 0.002182047698348233, -0.001583131602601373, -0.00165181185575064, 0.0021406321732354017, -0.004590936861469441, 0.0020647307122501624, 0.003702790827949387, -0.0023197407521677316, 0.0030419876385416322, -0.0021885782305636203, 0.0017552355559294353, -0.0028148613766611486, -0.004825069454326147, -0.0017828038401644375, -0.0006472663262161449, 0.0010324651203814095, -0.0018031952562329034, 0.0042670265754271575, -0.0002274229965917307, 0.0008809077719649783, 0.0008671065761284291, 0.0013145130738722588, -0.003909118089876817, -0.0008600661377141661, 0.0012250883926706035, -0.0005295400508614212, -0.0019822560847519988, -0.0014939661379290703, 0.0024365086085131327, 0.0029323830073874624, -0.0009360102329968867, -0.003613403664929682, 0.00016515560499652526, -0.0009359897685340957, 0.00112875629206316, -0.0017624448261620573, 0.0010946711185880198, 0.000654168629506291, -0.0013352899039907329, 0.003007767740686118, 0.003592616602579757, 0.0018036676442499955, -0.0003508833954832258, 0.001362566569630408, 0.00041333326187192876, 0.0005302818876390947, -0.0050243903852773, -0.00015139533808566918, 0.000970491052753486, -0.005863724032542483, 0.004445945858078282, -0.0008736831533852629, 0.0016515662821966481, 0.0022301131317097322, -0.00035768849257494795, -0.0021477322996662496, -0.000997743843186516, 0.0010394390492914352, -0.003344953968018871, 0.0009425919263693627, -0.002278627077881623, 0.0005641385412792355, -0.0024158443329402868, 0.0010807573682059535, -0.004129708703426216, 0.0017139052994116777, -0.0022780404299471146, -0.002897520184324709, -0.0022844908096830707, -0.002938916950346704, 0.0034407676355679984, -0.0005851336590012579, -0.0013832717741290579, -0.00015839314220245093, 0.0009842530250362969, -0.00014441799843178948, 0.0016934797759051157, 0.00027546284937457477, -0.001321314760220127, -0.0003650188442126945, -0.00011732892370142078, -0.0006403230940003057, 0.0005713324631648198, 0.0022433038044050724, -0.0011910390320054587, -0.0014869171726552555, -0.00033784620625898487, -0.0010600334046164117, -0.0005504243194097702, 0.000460861503084109, -0.0019272184278524285, 0.0006055267804417896, -0.0016038845575132576, -0.0022780370192032606, -0.0008873854376514334, 0.003041772761681938, -0.0022160936482696902, 0.0011702519696555336, 0.0006403606121821448, 0.0007157623991998485, -0.00011027313694000895, 0.0005642272206182186, 0.0009908193700616241, -0.00020626927928263372, -0.0008669275120786746, 0.003000558470453496, -0.0008123554217084328, -0.0020097646809703607, 0.0005648650297097602, -0.0010872793735617892, 0.0030695832087271335, 0.0003233850314963149, 0.00047508563115244984, -0.00017912904339523195, 0.00038556885986812395, -0.0007230057768705667, 0.0006539725117374884, -0.0029044531843091526, -0.00015163579552390782, 0.0013835531604929896, -0.0011357114618822939, 0.0006195036295841838, -0.004735035955355349, -0.0021680213934205383, -0.0028562291513606897, -0.0009909728535328899, -0.0009360051168811889, -0.0005157473818843683, 0.0007850003089612256, 0.0016310776599295917, -0.0029385213040652447, 0.0009499461532138098, -6.893264819074485e-05, 0.0022649162667559564, -0.0007981364097557897, -0.000998165070046575, 0.002732489071477051, 0.00035092432440886334, 0.003530744857266066, -6.225204324794564e-05, -0.0017138285576760448, -0.0025808959102507356, -8.948095847433057e-05, 0.00031635482531333636, -0.002388214655316745, -0.0005574988652620738, 0.0041981638474843375, 0.0001858795685860115, -0.000523456326084526, -0.00075717962968469, -0.0007229546157135891, 0.0024981586554795876, -0.000488769156327673, 0.001755075250970517, -0.0010392446368945873, 0.000619032946939102, 0.004852729828643931, 0.0008189268828495688, -0.0004819930505584047, -0.0003513489620126098, -0.0008669991376986097, -0.002044306894115555, 0.0002956155133766458, -0.0013764103997645494, 0.00022002443007773653, 0.0009017988620009798, 0.0030009745811978017, 0.001169728420481464, 0.0009914537684094227, 2.1005349953417962e-05, 0.0005301079397049824, -0.001128918302393922, 0.00026148258948821557, 0.00022046100528488877, 8.947072624293506e-05, 0.001741463351415229, -0.0018790165647387114, 0.00032328270918213775, 0.0026154483556272146, 6.878769157914189e-05, 0.004108821024134124, 0.00226419318906923, -0.0028561541149970116, 0.0005573198012123193, -0.001149313129206242, 0.0008188757216923692, 0.0027463414284706333, 0.0021266604402085942, -0.002188590168167026, 0.000557925208237775, 0.003386378019991365, 0.004336049608328785, -0.0009977626022774633, 0.001562617399755828, 0.0024432795981668143, 0.0005850006399928942, 0.0009222295016232396, -0.0017482957344573946, 0.00260859039200656, 0.00025425626553654546, -0.002147803925286129, 0.0007637834928919673, -0.002436363651901474, -0.0003991602949606765, -0.001989323809116761, 0.00024072792920448727, -0.0028704583955447838, 0.0007022613488182339, -0.0011976582435597183, -0.0002818637733253415, -0.0038750994259058036, 0.0013349999907672494, 0.0005436806157065321, 0.0008328406332316352, 0.00012402487699136877, -0.001135445423865511, -0.003111225548303065, -0.001053018546780693, -0.002925122575997696, -4.818310402276982e-05, -0.00044732805063629755, -0.0019201404712562709, -0.002119949138571553, 0.0007985269399214956, 0.0007086980855789404, -0.000137566856298732, 0.0020510062581493016, 0.0014933794899943953, 0.0012112701431151174, -0.002367657818173663, 0.0005575602586505579, 0.0004331482622373928, 0.000750180120196009, -0.0011082489107053783, 0.0004469136452638356, 0.0045906281891550105, 0.00015869840377291666, -0.0031865983439983703, 2.0703499126695224e-05, 0.0020166738057482148, -0.003709529415536872, 7.309887174899998e-06, -0.002126602457563853, 0.002643270740275705, 0.00022732408502129653, -0.00013782777819981717, 0.002807640168825065, -0.00034414992401143873, 0.0005163544942817233, -0.0019271774989266799, 0.0014867585730682364, 0.00028892808694636063, 0.0019546673360542055, -0.00052301804550553, -0.001307888746202246, 0.0031382361759259014, -0.0012799486908924296, 0.0012456827479955246, -0.0009223130648464695, 0.0006395386229250954, -0.00045415531756271, -0.0011906979576248866, 0.0024021147627236727, -0.0029935333803863817, 0.0012389202852013947, -0.002078313620483163, 0.000495306510030713, -0.0010945551532987041, -0.0007980579626482576, 0.003407170198456988, 0.002291713722890887, 0.0017964907760835147, -0.0007572137371227861, -0.0004886617178977981, -0.0004958505236676292, 0.005471491621450497, 0.00105339372859925, 0.0022780881803604047, 0.0005301266987959297, -0.0005017364253038781, -0.0003232520124878402, 0.00019927659128171626, 0.0021400694005074827, 0.0016174197153329128, 0.001926966032810784, 0.0001444060608284392, 6.185298622274349e-05, 0.0023608152029001017, 0.0031244349800893523, 0.0008469675551015521, -0.00295267721725756, -0.001073380971526816, -0.00010982974024531522, -0.002677451414577481, -0.0014594426838747676, -0.00018600064999119148, -0.000990788673367382, -0.0008529523683080686, 0.001968891464122602, 0.0027255628929802045, 0.0004609331287039886, -0.0016516720152545128, 0.0024641945634095164, 0.0015415642993890644, -0.0007154452000260325, -0.0016311441694338291, 0.0006056922015163502, -0.005671544156947872, -0.002147583932310737, 0.003138026415181794, -0.0014385481830950786, 0.0004953082154026678, -0.0004403848184204029, 0.0029664289573088642, -0.00021329948546555677, -0.004838406789005156, -0.0010044841361459, -0.0007983751618221846, 0.002298633079900081, -0.0016861323705483766, 0.004157345202537355, -0.00044768958947960513, -2.7566578863047475e-05, 0.002876937766603138, 0.001528116115536493, -0.0004199405358229491, -0.00038565242309140935, 0.0002546058667766138, -2.0742722680489045e-05, 0.0015764953373279544, 0.00044758385642168497, -0.002540121604973189, -0.0004403370680071683, 0.0016315688070375756, -0.00017174411985659832, 0.002333444741805857, 0.004645403218781707, -0.0008188296766510894, 0.0015416615055875993, 0.0003989181321505386, -0.0008186233266508358, -0.0009361296090301674, 0.004659543783626818, 0.0007021999554297498, -0.0002612864717194685, 0.004577590999930825, -0.00033718281658895455, -0.0009703409800260743, 0.00026838489277847266, 0.0014246583079196018, 0.003606472370317193, 0.000922019740879243, 0.0006330132068254057, 0.00032326395009119047, -0.0019479867311114063, 0.00022012334164822622, 0.00262237453412395, -0.0020922665944190233, -0.002106212746867231, 0.0034274251847733472, 0.0013079006838055407, 0.0002612165514713771, -0.0015418644448439989, 0.0004815019034504209, 0.0018171891590944567, -0.002030272062328309, 0.0014520117152948542, 0.0010802866855608162, 0.000433888393643056, 0.0010395157910271235, 0.000550574392137182, -0.004356585981009076, -0.0010322843509597557, -0.0011079470598785446, 0.0022713581196323607, 0.0004198944907816138, 0.00017223867770832513, 0.001232009455051697, -0.00019285861361184597, -0.0014939490842099667, 0.0014177832905798993, 0.00023411724450972393, 0.0001171293951887642, 0.0021749168752231984, 0.0018378108003698213, 0.0015486610150761693, -0.0010186639245448603, -0.005526805548598357, -0.001479458918124732, 0.002422591447387268, -0.0033727797634112155, -2.0480095407449106e-05, -0.0007706346350250248, -0.0011145168156476704, 0.0009775161428206558, 0.0006401832535042895, -0.0023472817504523458, 0.0016862773271599796, -0.0007226766400933449, 0.0023469935426007615, -0.002629457606835861, -0.002794362522162641, 0.000929167617723381, 0.0033178700094042557, -0.0012937277168941774, -0.0007091210178107321, 0.0003510931562272779, 0.0020713328700855405, 0.0006464630960499873, -0.00046132365886975, 0.002615156737031832, 0.002057379896149625, 0.0003304357021419735, -0.0016245573599455998, -0.002161352726081145, -0.0031937700960491533, 0.00240178733131835, -0.0015483267621833052, -0.000647048038612652, 0.0020029186549530564, -0.0015417211936042396, 0.002574302279274965, -0.000894736253751971, -0.001286941378893458, 0.003235030432318986, 0.0028706647455450374, -0.0006882435707500356, 0.0006054056990366652, -0.0013626876510354768, -0.0010601357269306444, 0.001273002047932792, 0.0012455497289871609, 0.002553215071470216, 0.002106200809263936, -0.001568933055111521, -0.0011492943701154057, -0.0006122431981945287, -0.0005232005202991941, -0.002456867622515513, -0.00022725075402951767, -0.001762040653021102, -0.0006124734234013718, -0.0011972438381874229, 0.0005917375222085353, -0.001851642692900557, 0.0006609413245318718, -0.0010460343856391607, -0.001417571824463948, -0.0012321697600106152, -0.0007569545205935446, 0.0005368345896891724, 0.001507717877980319, -0.0033383944444811964, 0.00017236828597294584, -4.793753046877791e-05, 0.0004130535808798963, 0.00028254251134263164, -0.0014456500148977147, -0.0011217056214175014, 0.0022510809634813667, -0.0022366419585532205, -0.0013628377237629996, 0.00043368374901475715, -0.0008883046331068511, -0.002312770234001449, 0.0004061052325483039, 0.002168099840528126, -0.00024773596555266453, 0.004246894375887822, -1.3813133439843917e-05, -0.00028962046793878926, -0.0010462219765484115, 0.0010942720615627621, -0.0012871187375713689, -0.0007572597821641214, -0.0011772258985656148, 0.001582766653014267, -0.0004408213936275551, -0.0002546246258676166, -0.001762047474508699, -0.0035995478971922457, 0.0008539892344249234, -0.0018515471920740878, 0.0019064330708744026, 0.0004266006763029573, 0.0020853966931950185, -0.0021197854228687807, 9.631675226029479e-05, -0.0013767207774507684, 0.0017070029961215316, 0.0004953235637498166, 0.003234653545128474, 0.00017189930869976333, -3.43989619052687e-05, -0.0003783084284784133, -0.004824470868788344, -0.0005643397751637913, -0.0021886532669272984, 0.0014866221433160187, -3.399649413621253e-05, 0.0007434330057490279, 0.0010054408497833234, 0.0009428306784358131, 0.0005714228478756467, -0.0011286403267738443, -0.0010532538881032893, -0.0012458208831196416, 0.0027324327942042648, 0.0025120093071012706, -0.0009837431188374213, 0.0011636276419854652, -0.0002547644663636328, -0.0016933024172271494, 0.001500390937086371, -0.0018446994606848288, -0.0016863114345980756, 0.00029604185635240254, 0.0014868898867047564, -0.0022438256482072982, 0.0026706838356675977, 0.0015826830897910371, 0.001995673571910439, -0.0021334757695317674, 0.000433612123394822, 0.0021539251682449745, 0.004480644965438485, 0.0022916727939652493, 0.00045424740764549165, -0.0038544760792584842, 0.0009013469384467898, -0.00231932975753929, -0.0006746026798724047, -6.867172628971518e-05, 0.0019064739997999847, 0.0009357578379552978, -8.24524576634178e-05, 0.0012247115054802027, 0.002278195618790224, -0.0012111030166686576, 0.0001855265566022002, -0.002346850291360947, 0.0015207977015020413, -0.0006398507059832692, 0.002739387964023454, -0.0012187301030174291, 0.0010115791464612167, -0.0021820204123977893, -0.001507018675500238, -0.0009700715312654928, -0.0011562597721659351, 0.0008470664666718752, -0.00027538781301084114, 0.0003993598234732776, -0.0010118707650564884, 0.002057606710612614, 0.001472972725578836, 0.0018513135561233351, -0.0003510488165577308, 0.002932087978048392, -0.00015111395172168196, -6.752230562734329e-06, -0.00027561462747383025, -0.002340094650054414, -0.0006537303489273505, -0.0006951288203212447, 0.0038333308888091056, 2.7331237540506592e-05, 0.0017271369010326554, -0.0018449467396106645, -0.0014933692577630553, -0.0029251754425267396, -0.0005780795776118008, -0.002966754683342343, 0.0020647528820849637, 0.0004060438391598753, 0.0026567990766078187, -0.0005713631598590618, -0.0005297498116054178, 0.0018241289805664973, 0.0017145362870156222, -0.0009225449954252118, 0.003820025956196127, 0.003179392484509602, 0.0007708136990747794, 0.00011005314396461685, 0.003042183756310435, -0.00039880046148915715, 0.002244033703579451, 0.003923415548936937, -0.0010601323161867349, -0.001397231569552404, -0.002340231079806687, -0.00046130489977880273, 0.0013215074672451865, 2.0822875159864918e-05, -0.003193265305966031, -0.003929654462556942, -0.0003992421528118961, -0.0008598154480444764, -0.002945793673058361, -0.001190946941922677, 0.0010185650129745927, -0.0017897743583307202, 0.000984338293631426, -0.004226114135025494, -0.0016653487189421945, 0.0018102885611761543, 6.215824779332024e-05, 0.001177079236581946, 0.0023950129309208146, -0.001362583623349456, -0.006394075840429447, -0.0009841404704907797, 0.0020167539582277016, 0.0033659661394600526, -0.0004402790853624272, -0.00046831805224267775, -0.000578333678025289, -0.0008738605120631182, 0.00036518597065909875, -0.001459115252469556, -0.0027874244060626108, -0.0035723547947758005, 9.560731754887364e-05, -0.0015345886651071394, 0.0017895202579171765, 0.0011081585259944404, 0.00214008815959843, 0.0012111627046852425, 0.0001997592115300928, -0.00024091722548574834, -0.0007298910264417202, -0.00015821237278074163, 0.001686161361870664, 0.0022231818370972434, -0.00042669958787328044, 0.0022438137106040035, 0.0015274731903290872, 0.0026908791339673166, -0.001231653032324087, 0.0024847172931145023, 0.001906578027486061, -0.0022850331179480876, 4.14376949476325e-05, -0.0023812185565719735, 2.0411880531256976e-05, -0.00044700573534667276, 0.0005986671114490694, 0.0003507520818467613, 0.0031179556090310534, -0.0024226733052385985, -0.0014177696476046497, -0.00091534766279594, 0.0007502926747416927, 0.0007779240577370228, 0.0006060196329216172, -0.0015281263477678886, -0.0018652000205550134, 0.0014937376180940154, 0.0008054769936249317, 0.0028219700299514927, -0.0033658604064020214, 0.0009638070370668883, 0.0016794295957707206, -0.0026015311945012942, -0.0002962567332120969, 0.0023674480574296664, -0.001128604513963849, -0.002519302140557178, 0.000392295509852314, -0.0017757241781963806, 0.002684389530677511, -0.0012111149542719524, -0.00022019326189620658, 6.857452009123577e-05, 0.0003990443296711943, 0.00323507988810412, 0.0002139560536480456, 0.0037440494588473205, -0.0001445510174402087, -0.00550633227467856, -0.00047448875098654586, -0.002505330407530315, -0.0026498711927391283, 0.0013901962472538942, 0.001913371186974544, 0.00035151267771527106, 0.0014388278640870555, 0.0004817901113019496, -0.0010119304530730178, 0.00224338225151266, 0.0005717690383719165, 0.00016533807979013382, -0.0019477889079705935, 0.001576346969972442, -0.0011080527929365203, 0.0006672160509617608, 0.0013691226824242841, -0.003083012633488813, -0.00375116834436906, -0.0005366828115898614, 0.0024158238684774402, -0.0005366725793584104, 0.005030835648897614, 0.0004887572187244338, -0.0007848928705314062, 0.0004542269431826451, -0.00547180540988057, 0.001355969527910783, -0.0010601698343686294, -0.0013970627377341005, 0.0011357131672541931, -0.003764923495164163, 0.0007845228048285469, 0.001231905427365676, -0.0004336615791801224, 0.0006401116278844099, 0.0019889878508519976, -0.0027940828411706087, 0.0017411546791008536, 0.0024018282602439878, 0.0011631535485965294, -0.0010465732831604901, -7.596114900176865e-05, 0.003538148539895536, 0.0013902661675018746, 0.00046088367291874377, 0.0006676867336069536, 0.0005165199153562838, -0.001059590007921718, -0.00010994911627854043, -0.002339547225673644, -0.0003236459533974001, 0.005760782952612065, 0.0022026505805327057, 0.0020512740015380393, -0.0006259710630392434, 0.002897472433911419, -0.0016242930273007161, 0.0019269762650421796, 0.000798293303970854, -0.001596734975297165, 0.0005023230732383865, 0.0005093532794212541, -0.00046790535224217056, 0.0017894179356029993, 0.0009706496523404495, -0.0004471847993964273, -0.003950743375733756, -0.0008400959485056481, 0.0034138252228212984, 0.0018854055510861834, -0.0025186899120440698, 0.0003648738876009805, 0.0053069806470332215, 0.0011495450597849843, 0.002284903509683467, -0.002539582707451915, 0.00042653246142676515, -0.0018242091330459287, -0.0022164142581873603, -0.0002000405978940245, 0.0007296778549539251, -0.0008463297460098995, -0.0015829849406177043, -0.0021746320781154127, 0.0017548944815488632, 0.0003438173764903629, 0.001052962269507851, -0.0031520953544070807, -0.0015207925853863435, -0.0008669462711696219, -0.002436230632893055, 0.002443618967175487, 0.0006468740906785397, 7.524318743079572e-05, 0.00042010936764130813, -0.0013072833391767902, -0.0009084470648776377, -0.0026153153366187953, -0.0018651471540260256, 3.400502099581981e-05, 0.0024160694420313766, 0.00037843462599918, 0.0001787265756262313, -0.000199747273926687, 0.00030304136584102803, 0.00022673061559919105, -8.275089774634203e-05, 0.00040636615444944457, -0.0003922255896043336, -0.0005098052029754996, 0.0008878032537675273, 0.0017070029961215316, -0.0016175646719446823, -0.0015416205766619062, -0.0014934613478457814, -0.0005782927490995959, 0.0028287427249770736, 0.0029594720821177756, 0.0023195531612584253, 0.0012182065538433595, 0.004466998958445101, 0.001004919005981153, 8.95491733505227e-05, 0.0010189589538840416, 0.003083624862001866, 0.0023948901441438464, -0.0004889243451708936, 0.0012042808658578874, -0.002298616026181144, 0.0008879328620320925, 0.0006676287509623235, 0.0010117377460481247, 0.00041952613045059817, -0.0007502773263945439, 0.0004819742914674019, -0.003096929794614789, 0.00205814049201819, 0.0009014543768766092, 0.0006956984145366496, -0.0002340814316996731, 0.00040604554453177455, -0.002939031210264176, 0.0012597687409398595, -0.0020232691420959403, 0.0017136409667667385, 0.0023192973554730933, 0.002966592673011581, -0.0005366009537385308, -0.0008119444270798803, 0.0007985167076901001, 0.0015139738453193718, 0.00577466430092799, 0.0017138746027173801, 9.620249234287837e-05, 0.0021613049756677993, -0.0004748349414827602, -0.001356046269646416, -0.0008950193454877464, 0.0014045261083802663, -0.0015280086771065626, 0.0005922832412173507, 0.0002546007506608605, 0.001108112480953105, 0.0037785285732319096, 0.0005297770975558613, 0.0011426768639329343, -0.0009566813300575516, -0.00024776325150299705, -0.0012117016022064053, 0.0009223147702183132, 0.002980409217195168, -0.00049531333151831, 0.0007914643316725423, 0.0025052246744724505, -0.0007978413804166085, 0.0006812201860547651, -0.0009701687374639723, -0.0034478490029079545, 0.0029595317701344714, 0.000447290532454403, -8.233819774594586e-05, 0.0008806144479976963, -0.0015141494986252724, -0.002629241024604212, -0.0008877674409575875, -0.0006469474216703186, -0.002622632045281348, 8.966854938363689e-05, 0.0016863353098047762, 0.002099405944403665, 6.204398787590382e-05, 0.0016724113271912588, 0.0007159926244066916, 0.00024800882505704447, 0.0015624468625655696, -0.0025742681718369242, -0.0044738074662806215, -0.0008876497702963171, -0.0022781325200298963, -0.0009292477702028124, -0.0005029148372885928, 0.0031041083681531134, 0.002814803394016352, -0.0007846524130931676, 0.0011146924689535709, 0.0004201571180545427, -0.002663634870393783, 0.0034619554603150804, 0.0029663982606146777, 0.0030426817249060156, 0.0007779820403817084, -0.0035170152870493965, -0.001080494740932858, 0.0003301457889185455, -0.0009634062746697869, -6.864614571117089e-05, -0.0040743231506584765, 0.0015899230567178457, 0.0005503100594923538, -0.002787685327963696, 0.002759697522240645, 0.0004198399188806712, 0.0015004813217972535, 0.0034823230011769013, -0.0008948044686281076, 0.001224605772422116, -0.0018309750065839125, -0.0033792813043043157, -0.0005228918479847633, -0.000550588035112376, -0.0013002821243162654, 0.002698165145935516, -0.0011077799334320848, -0.0004408282151150411, 0.0011148937028381822, 0.000523493844266365, -0.0004338082411636801, -0.002085754821294472, -0.003847278746629157, 0.0015282013841315667, -0.0019615218889310615, 0.00024772061720557126, -0.0014041458104459559, 0.001012097579519533, 0.002002691840490012, 0.001741193902654592, 0.0023263719013253414, 6.174895853672258e-05, 0.0010598748050293927, -0.00306298275626371, 0.00032325371785979495, 0.0006881241947168659, 0.00018592902437125636, 0.006339326391381406, -0.0006955500471812481, 0.0011836472869791725, 0.004266922547741081, -0.0002753400625976621, -0.005409621581508706, 0.0019480566513593867, 0.0014729164483061052, 0.0035791428381485857, -0.0006122653680292189, -0.0008880931669908998, -0.0027186691165496657, 0.0015760911641870545, -0.0003992336259524554, 0.0016650315197682675, -0.0005850176937118867, -0.003751083075773931, -0.0016312157950537642, 0.0002272558701451599, 0.004177840646291897, -0.000309895918717884, 7.568828949744422e-05, 0.00030304136584102803, 0.0006609379137880178, 0.00045451515103417384, -0.0004129120350119253, -0.0012519063132684916, -0.0009497295709821052, -0.0010046802539147581, -0.00037194331733758634, -0.00010992183032809688, -0.0019270086671083209, -0.0012667017409242476, -0.0021956101421184426, 0.00014474372446521278, 0.0009496391862713338, -4.1357542468256625e-05, 0.0017760294397669574, 0.002167937830197364, -0.0010941919090833863, 0.003489639709839454, -0.0037438618679380142, -0.0004816485654339786, 0.0016589136875533872, 0.00012383387533820844, -0.0008879379781479013, 0.002532487697136765, 0.0009292017251614215, -0.0004887231112863377, -0.001052711579838217, -0.0006192461184268971, 0.001314690432550114, 0.00013080098276074814, 0.0007435268012036533, 2.0906438383094805e-05, 0.0025394224024931633, 0.0016656471590252298, -0.001892838225038107, 0.001156549685389363, -0.0004473433989833908, 0.0011841554878062044, -0.0011222445189387198, -0.00450087096043239, 0.0019476115492928492, -0.0030697213438512505, 0.00030981917698230665, -0.002429693279190015, 0.00017172877150939403, -0.0004954719311052735, -0.002450222830382709, 0.0008675175707569815, 4.1280800732623746e-05, 0.00043356778372544147, 0.0007502926747416927, -0.0011494325052394672, 0.000164998710781461, -0.0004130348217888935, 0.0011902528555582936, 0.0028011812622296683, -0.00019913163466989126, 0.0011221831255502357, 0.0028357251807465955, -0.0019136235820160774, 0.0014450173219219264, -0.00022016768131760678, -0.0016657221953889079, -0.001011800844808508, 0.0026363206865723243, 0.0021676632653210293, -0.0007157948012660453, 0.00017223185622078363, -0.0028982500834990876, 0.0006815766087824859, -0.0011560755920004273, -0.0018725388990522562, -0.001066569052947497, -0.001431918739309257, 0.0021339123447388086, 0.0015072079717814435, -0.0017340886601079908, 0.0015277102370235829, 0.00011026290470855793, 0.0006811877839887348, -0.0014040400773879247, -0.0011561233424137174, 0.0020238506739146955, -0.004686948352159215, -0.0007295465413174607, 0.003262196248784932, -0.0020301714453860864, 0.00032383183893475165, 0.0015348376494048743, 0.001363107172523581, -0.00017150877853400193, 0.0010667344740220575, 0.001555831061755053, -0.0018517160238924468, -0.001279904351222938, -0.003358664779144649, -0.0009982247580631043, 0.0005779209780248928, -0.001410778664975465, -0.0005230947872411074, -0.0021474662616494666, -0.00152140651927124, 0.00010331285100517729, 0.0019064330708744026, 0.0002196611858625852, -0.0005782484094301044, -0.00022703758254161155, 0.0027946797213366237, -0.0015764612298899694, 0.0012801277549421841, 0.002787030465153051, 0.0002132227437299239, -0.0016792692908118578, -0.002684375887702317, 0.0012939050755720882, -0.0028975525863909057, 0.002023761994575768, -7.583154073720344e-05, -0.0007158425516793354, -0.0020030277987548306, 0.002505393506290754, 0.0012523292455003388, -0.0028834955847689137, 0.0013696786336645506, -0.00011687700014723079, -0.00022720811973198085, 0.001107989694176137, 0.0015417177828603856, -0.0007642354164459908, 0.0011632626923983036, 0.0011836796890453694, 0.0012529227149224442, 0.0008259536782885268, -0.0011084637875650172, 0.003021425685282908, 0.0017413780828200998, -0.0043778334937726315, -0.0002822082584497121, 0.003097264047507653, 0.0015205214312538073, -0.0006741916852438523, -0.0008532644513662424, 0.0006332246729413016, 0.0010874652590991407, -0.0023332247488303537, -0.0015487991502002307, 0.00286296773894823, -0.0006054892622598396, 0.00037170115452739294, -0.003062643387255093, 0.0018169128888462227, -0.0010527678571110033, 0.0006958109690822223, -0.0011562307808435923, 7.56268961088491e-05, 0.002292477729503306, 0.0011698119837046939, -0.00026128306097567, 0.0019411492319534873, 0.0017273756530991058, 0.000316730007131949, 0.0011078123354982816, 0.0003715903053537195, 0.0023672928685865013, 0.0011493455312724388, -0.0003309404922251513, 0.001156160860595501, 0.004212283947866657, -0.0031181824234940425, -0.0018996944832868068, -0.0003995047800849916, 0.0016448959094852444, 0.0004539557890500534, 0.0016999915490295558, -0.00021339328092007115, -0.0005781273280251464, 0.0005985340924407057, 6.175578002431958e-05, -0.00405364523211027, 0.002278139341517438, 0.0008329924113309461, -0.0012665994186100704, 0.0009842120961105483, 0.0024088397073359635, -0.0025326156000294864, 0.0014588082855270246, 0.0025261925062440294, 0.0014245662178368201, -0.0006952345533791093, -0.002278251896063066, 0.00016543699136045698, -0.0011356398362624698, 0.001190754234897673, -0.0026708236761635584, 0.003861158389573238, 0.00018606204337962007, -0.0022028313499543595, 0.0012935298937535311, 0.0010467011860531006, 0.000550570981393439, -0.0009224375569953924, 0.0011425626040154624, 0.001328483101527167, -0.0006193637890882231, 0.0029322346400318944, -0.0009085527979356689, 0.002181587247934602, 0.001713613680816295, 4.822914906416065e-05, -0.0033039954825759277, 0.00553398923825249, 0.0027187987248141754, 0.003916392164241722, -0.0017341722233312207, -0.0013352489750650953, 0.0001380648248942573, 0.0011631723076874767, 0.002512357202969384, 0.0024294118928260833, -0.0032007815431411846, -0.0008120689192287478, 0.00043374173165949825, 0.0011359468032048903, -0.0026772621182962197, 0.000791773003986862, 0.001975251459147731, 0.0031936080857185023, -0.003455196408264638, -0.001610454313282328, -0.002836219738598378, 0.003056049756279322, -0.0012664374082793084, 0.0006542573088452186, 0.0023198328422505132, 0.0005023162517506785, -0.0020650786081183314, -0.0022783883258152837, 0.0036204287549968517, -0.0017068682717411576, 0.00012364628442895764, 0.00038521073176855936, -0.0026911878062816363, -0.002271370057235711, 0.0024714464679396753, -0.001493474990821031, 0.0002479678961314069, -0.0005231101355882561, 0.00010342711092259371, 0.0028081006192388624, 0.0011218522834011146, 0.00031689372283461026, -0.0003371265393161682, 0.0005372967454748134, 0.0031316152589996316, -0.00015143285626756375, -0.0020995236150649355, 0.002305973663769334, 0.0003512125322604476, 0.000550577802881036, 0.0005572379433610442, 0.0036547424483069912, 0.0006958860054460114, -0.0015208983184442082, -0.0026637832377492954, -0.0029595590560848595, -0.0019825391764878297, 0.0025052127368690447, -8.949630682153487e-05, -0.0012459044463428715, -0.0029870250180056845, 0.0012185049939262838, -0.0012596323111876417, 0.00024790820811482206, 0.002911404943384488, -0.0015695367567650775, -0.0017410387138114825, 0.00039220341976964335, -0.003833627623520075, -0.0037030398122471775, 0.0029042672987717455, 0.002918034387170254, -0.002856137061277908, 0.0008948607459008384, -0.0037511581121376647, 0.0005225780595545793, 0.0015969123339750202, 0.0011218505780292154, -0.0008259349191976351, 0.0013143033131282067, 0.0002753792861513449, -0.002945430428843099, 0.0016727984466131107, 0.0017412740551340788, -0.0030556865120640597, -0.0016587926061483182, 0.0015829440116920668, -0.0005367595533254388, -0.0012872756317864331, 0.002456843747308868, -0.00026820071261296485, -0.002112939396851532, -0.002808100619238807, 0.0004612912568035532, 0.0030904760041350343, -0.0037444928555419588, 0.002367357672718784, 0.0018588826598274766, -0.0023192496050597478, -0.0008262248324210075, -0.0018306987363355676, 0.002525909414508143, -0.0019414783687307091, 0.0008261310369664376, -0.0010186707460324573, -0.0002887950679378304, 0.0013630270200440942, 0.0017617763203762182, 0.0007367199987400874, -0.0007568504929074682, -0.0014658572508007839, -0.00040598415114329045, 1.4666198366874994e-07, -0.0025333250347409075, -0.0012527129541783921, 0.0016383056892532166, -0.0004821721146081037, 0.0027320252103195664, 0.001266188423981629, 0.0011906638501869016, -0.0011426546940981885, -0.0005782501148020591, -0.0007775301168275184, -0.0012251395538277476, 4.108468296382117e-05, 0.0028150540836860416, -0.003792229152126181, 0.000516746729819384, -0.0022228868077581176, -0.0011633172642991907, -0.0017828277153710825, -0.003668234971829165, -0.0034958359891619217, 0.0009018500231580684, 0.0019135877692061376, -0.0003096725149986379, -0.00028910715099605966, 7.573945065442178e-05, 0.002945993201570851, 0.0019823976306199143, -0.0004605391877944842, -0.0012321066612501763, 0.0014588850272626575, -0.001321555217658421, -0.0005575892499729562, -0.002216042487112546, 0.0007986753072770081, -0.0017554248522105853, 0.0010320677687281066, 0.0002685417869934814, -0.0026634830922944164, 0.004969591480444069, 0.002003130121069008, 0.003868294328814026, 0.001073764680204925, 0.0015211848209239487, 0.0020442130986609297, 0.00031002041086675147, 0.005388863510481179, 0.0013555363634475404, -0.0005915038862578381, 0.005079758884326047, -0.0006262712084941224, 0.002883717283116205, 0.0007985525204999844, 0.0003857479239178785, -0.002360784506205915, -0.002291677910080947, -0.0006884396885188382, 0.001418119248844607, -0.0023399496934426445, 0.0013971599439326354, 0.0015073375800460087, -0.003977970585588075, 0.00027551742127546186, -0.002202459578879601, 0.0015486166754067887, -0.003847384479687188, -0.0011218301135663689, -2.0703499126750735e-05, 0.0013904179456012966, -0.0018855812043921394, -0.0011836080634254342, 0.001817052729342239, 0.00031002211623870624, -0.0010399625984656158, 0.002863105874072347, 0.002663892381551125, -0.002367739676025049, 0.0008467100439442099, -0.001906647947734097, -0.0011218454619135731, -0.001933989417505999, 0.0034483316231563865, -0.0014796874379597313, 0.002388954786722519, 0.0011492176283797173, 0.001961271199261372, 0.0017002098366330487, 0.00019277163964481758, -0.0010254229765952472, -0.0005164482897364042, -0.0006057041391196449, -0.000839603096025765, 0.0008949750058183659, -0.0017754086843944084, -0.0012596766508570778, 0.003916427977051662, 0.00012386968814814825, -0.0005366214182013218, 0.003620109850451081, -0.002546515707436414, 0.0007575309362966021, 0.0008949596574711616, 0.001211507189809613, -0.0006123165291863075, 0.0001238833311234533, 0.0009086158966960522, 0.0011841043266491158, -0.00167271658876178, 0.0006332417266603496, 0.001479782938786256, 0.003172936988657893, 0.0023814538978945143, 0.0012460408760951447, 0.0006810377112611565, 0.0007847547354073448, -0.0007364045049381152, -0.00551964573415098, -0.0016520693669078712, 0.0008811090058494786, 0.0035792502765783496, -0.0020786649270950752, 0.00459106817510585, 0.001060052163707359, 0.0032904654408719147, 0.0005507227594926944, 0.0033795268778581966, 0.0022439228544057777, -0.0017690452786254252, 0.004115789836928452, 0.00023403538665833779, -0.00022730532593040476, 0.0020786461680041834, 0.0019546860951450973, 0.0006541839778534397, 0.003303478754889455, 0.0007227465603413252, -0.0036823550722114295, 0.001493208952804137, -0.00020679623920050183, -0.002188457149158607, 0.004742333904926954, 0.0011422283511225428, 0.002774013740391712, -0.00037897011277654435, -9.608823242535092e-05, -0.0004748519952018082, 0.00022000055487125803, 0.0005090753038010654, 0.0014664490148510456, -0.0017345167084556468, -0.0021545578612207628, -0.000853150191448826, 0.003434781116989527, 0.00018578065701568836, -0.0014180408017371304, -0.0016657631243145454, -0.0006810360058893128, -0.004494539956729604, -0.0035308949299934778, 0.004150451426106705, 0.0013560019299769799, 0.0004611804076298798, -0.0006401218601158609, -0.0007845483854070912, 0.00040590058792000505, -0.001521068855634522, 0.0007913364287798208, 0.0018028234851581448, -0.0002756385026805308, 0.0017963901591412368, -0.0010528872331441175, 0.002291868911734052, -0.003799313930209991, -0.0011493966924294718, -0.000488417849715761, -0.0014385720583016126, 0.0020853847555917238, -0.0011563842643148026, 0.0025048716624885836, 0.0006743332311117678, -5.5064942850069354e-05, -0.0013626160254155417, -0.0012733652921481098, -0.0021681834037513004, -0.0014728055991323763, 0.0012803187565953444, 0.0002755549394573009, 0.0016515236478990003, 0.0024361607126450746, 0.00042691617010492955, -0.0006262183419650791, -0.0013627473390520617, 0.00013744065877785427, -0.0014319494360035545, -0.0010739727355770778, -0.0026149947267011253, -0.0005293371116049661, -0.0005852905532163222, -0.0007775011255051756, -0.0005575756069977622, 0.001328358609378244, 0.0007778507267452439, 0.00262207950478488, 0.003172979622955485, 0.002175232369025115, 0.0007851844891267334, 0.0004883820369058212, 0.0011223076176991031, 0.001052911108350818, 0.0013353905209330108, 0.0020713192271102354, 0.003929778954705865, -0.0011768251361684579, 0.0028838417752651835, 0.0002955950489138548, 0.0009222550822017839, 0.0042946443154472935, 0.002229888022618587, 0.0018032344797866973, -0.0009292614131779509, -0.0013081053284338395, -0.0008193771010317485, 0.0014866596614978578, -0.0013145437705665008, -0.0008053132779222705, 0.000812060392369307, -0.0011909111291127372, -0.003668236677201009, 0.0004816639137811274, 0.0020643333605968595, 0.001459260209081159, 0.001968492407097344, -9.607629482205615e-05, 0.00015117363973837783, 0.0003370975479938254, 0.005162226690336669, 0.001011911693982126, -0.0022577035857795358, -0.00043377754446938255, -0.0017822581211555666, 0.0015413408956698182, 0.000578302981331047, 2.073078507713877e-05, -0.000667625340218525, -0.0013561963423738277, 0.001245148966590115, -0.0021196609307199687, -0.0019337608976710552, -0.0007637886090076096, 0.004769571347012835, -0.0004200428581371263, 0.002209525597872408, 0.0009087045760349799, 0.002002911833465515, 0.0006468621530751895, -0.0015070920064920723, -0.0017827185715693084, 0.001011863943568836, -0.001713924058502514, 0.00205096191847981, -0.003055524501733242, -0.001775466667039094, -0.001328304037477357, -0.002601597704005476, -0.00010988431214620231, 0.00037837493798253963, -0.00019976944376154382, 0.002050924400297971, -0.0008605589901939936, 0.00156931676378963, 0.0015694480774260944, 0.004714549038460303, 0.0016866269284001034, -0.0006950998289988464, -0.000288704683227059, -0.000240867769700559, -0.0009083652070263071, -0.0013766696162936798, 0.0018166161541350867, -0.0014730903962401065, -0.0001646951545827835, 2.745231894563105e-05, -0.0011636361688449615, -0.00038519197267761207, 0.0008534247563250497, 0.0009773490163742515, 0.0030900854739693284, 0.0031521874444898623, -0.0004681799171185608, -0.000295427922467395, 0.0023537952289486297, 0.00015821748889643938, -0.002360801559924852, -0.0017897470723802211, -0.0008395110059429833, -0.0022091845234918916, -0.0033723005539066375, 0.0007983751618221846, -0.0011978134324028833, -0.0006262371010560264, 0.002621914083710264, -0.0010947188690012544, 0.00019288589956228952, 0.001431821533110833, -0.0018720324035971792, 0.0018098315215062666, 0.001878602159366416, 0.0004888493088071044, 0.0016104031521253503, 1.3640890877630873e-05, -0.0019544882720043955, -0.0016727217048774223, 0.00036455327768325496, -0.001872382004837192, 0.0015352759299839258, -0.0020511000536038715, -0.0028492125881530717, -0.0016099870413810446, 0.00022050705032622409, -0.0031383163284052773, 0.002408878930889702, 0.0014798630912656319, 0.001872291620126476, 3.425059454975621e-05, 0.001445303824401556, 0.0008537368393832789, -0.0020371249098332656, 0.0004888066745095676, -0.002450169963853721, -0.0014934954552838775, 0.0037715921625036675, 0.0005508267871788264, 0.000881040790973342, 0.0003931771871260037, 0.0005574511148488948, 0.001995682098769991, -0.00023394670731941014, 0.0007226749347215011, 0.0029666523610281104, 0.0007434295950052294, 0.0015625372472763965, 0.0014041441050740011, 0.00012366504351990493, -0.0010256054513888002, 0.002374457799149743, 0.0011147487462265238, -0.0007222809938119412, 0.001796330471124541, -0.002794759873815944, 0.0007016508256770804, 0.0003444040244249269, -0.0027121522273094723, -0.000557466463195988, -4.110685279851145e-05, -0.0009428289730638029, 0.0008192577249986344, -0.0007363584598966688, -0.00032350611290132836, -0.0007844477684648687, -0.0007499635379644154, -0.0006675827059209327, -0.0006747510472279172, 0.00044771858080194793, -0.0033862415902391474, -0.0005573419710471206, -0.0010870065140573537, 0.0013078853354584474, 0.0005022360992713581, 0.001803174791770057, -0.0003508868062270798, 0.003248633805014778, -0.003696250063502604, -0.0009498387147838794, 0.0018931758886747696, -0.00017202721159242929, -0.0016516617830231173, 0.001707161595708384, 0.005148631844500318, -0.0010596428744507058, 0.00133552353994143, -0.0006337158200492299, 0.00011010942123734768, -0.00034391799343264084, -0.0005712182032472923, -0.0050859040024914814, -0.0007225231566221346, -0.002078760427921711, -0.0032212019505319933, -0.0007502551565597426, -0.002443073248166616, 0.0012664970962959488, -0.0007435438549227014, -0.00015157781287922223, -7.072840480404352e-06, -0.0003921505532406, 0.003158651467201068, 0.00024791844034621757, -0.0018993312390716, -0.00023370113376547375, 0.002622314846107421, -0.001720698458900105, 0.0011424585763293305, 0.0016452796181632978, 3.492933256699082e-05, -0.0009152368136222666, -0.0044462442981612615, 0.0005645034908663971, -0.0032351395761207047, 0.0016726790705799965, 0.00037820781153607985, 0.0007436871061625161, 0.000447452542785165, 0.0022849649030720065, 0.005017902487359449, 0.002160679104179608, 0.003909559781199501, 0.0005229873488112879, -0.0009291079297067406, 0.001652139287155907, -0.0008256774080403484, 3.426594289690499e-05, -0.0001722403830802799, -0.003262695922752412, -0.0003029526865020449, 0.004824501565482586, -0.0001720050417576835, -5.5034246155882816e-05, 9.640202085547944e-05, 0.00045428322045543146, -0.0004680622464572348, 0.0007639131011565325, 0.0005919455775806881, 0.0005710016210156432, -8.242858245682827e-05, -0.003344822654382462, -0.00397167539469534, 0.00041996100028579564, 0.000811601647327409, 0.0030218895464403928, -0.00019948635202571285, -2.1658223159359835e-07, -0.0014107292091903312, -0.0003099504906187711, -0.001287325087571567, -0.0007157555777122515, -0.0016381760809886514, -0.00013045820300827682, 0.0007709705932897881, -0.0016450169908902579, -0.00037167216320510565, 0.0010321973769926718, -0.0023952738528219553, 0.0013696786336645506, 0.0015003772941112326, -0.004294908648092177, 0.00047467634189579666, -0.0001650208806162068, -0.003420857134376065, 0.00013759073150532153, 0.0010942362487528223, -0.0009431240024029286, 0.0014044425451570364, 0.00014443846289469153, -0.004033139556124332, 0.00016502429136011632, 0.0029937005068328415, 0.0017416270671178347, 0.0007363090041114795, 0.001438297493425389, -0.0003645771528899, -0.0007847751998701913, 0.001135566505270691, 0.001046319182746891, 5.477502962658587e-05, 0.002113309462554336, -0.0008534213455813067, -0.00549920145155347, 0.0017069808262867303, -0.001741332037778709, 0.0023541056066349597, -0.0013421563944709392, -0.0012663282644775342, 0.00035117330870665375, -0.0011014199384069556, -0.00029641362742716115, -0.0003031112860889529, 0.0020373636618996604, 0.002243791540769313, -0.001046211744317016, -0.0024294647593551266, -0.0020443989841982257, 0.0006265133713042603, 9.613768821059576e-05, 0.002050864712281386, -0.002698265762877794, 0.001081026816966535, -8.969242459022642e-05, 0.0007571369953870977, 0.003847258282166366, -0.0010461128327466929, -0.0011220876247237666, 0.0003579204231536348, -0.004411444573858947, -0.000984230855201551, 0.001776155637287724, 0.00010320711794720161, 0.0012107124865029517, -0.0020853233622032397, 0.0035994285211590205, 0.00039896417719187394, 0.004755632016052114, 0.00019955627227374872, -0.0010050793109399603, 0.0026843417802642766, 0.00046090243200969105, -0.002106299720834315, 0.0017548774278298152, -0.0013901126840306643, 0.0009910939349379033, 0.002525542759549082, 0.003937070082789873, -0.0014389625884673185, 0.0012873199714558137, -0.00097743599034128, 0.00028938512661619287, -0.0022503681180259805, 0.0008810970682461838, 0.002037135142064772, 0.001589790037709482, -0.002814682312611283, -0.0006193876642949236, -0.001878970519697265, -0.0003784260991396837, 0.0002475824820814543, 0.00016559218020356647, 0.0015413681816203173, -0.002842651359243442, -0.0011356210771715225, 0.0005438136347149514, 0.00257430057390301, -0.0016248268087062367, -0.0021884349793238056, -0.0017964566686453631, 0.0003510965669710764, 0.0001996978181416087, -0.001796158228562439, -0.003303780605716178, 0.0017960951298020555, 0.000179166561577071, 0.0006817676104355352, -0.002725666920666281, -0.00165886934788384, -0.00014408545091076919, -0.0020648193915890345, 0.004102009105554694, 0.0024706688183521175, 0.004198450349963967, 0.0029732664564667277, 0.0005506136156909203, 0.0004747104493338927, 0.0009434463176926089, 0.000722724390506635, -0.0019274162509931303, 0.0004200633225999173, -0.0016314409041449096, 0.0004202338597902311, -0.001307380545375214, -0.0008809981566758052, -0.0034479871380320715, 0.00073633287931818, -0.0012803051136201504, 0.0010600555744511575, 0.0018034237760678473, -0.0010120924634038353, -0.0008534281670689037, 0.002270931776656715, -0.0007428003127731841, 0.0003164452100242743, 0.0002479508424123589, 0.0010400734476392892, -0.0014040571311070282, -0.0014176724414061703, 0.0009224187979044451, -0.002340077596335366, -0.0010186997373548001, -0.0013969842906265684, 0.0010736248397089643, 0.0014798409214309416, 0.0011224218776166306, 0.00026835931219981735, -0.0003920448201826243, -0.002470501691905602, 0.003964432017024622, -0.00219527077310977, -0.0005711943280406473, 0.0005091997959499883, 0.00035093114589646035, 0.0014452884760544071, 0.0015140215957326064, -0.0033104458623118838, -7.0540813894570675e-06, -0.00042682578539410265, 0.0005233181909603535, -0.00011019468983242131, -0.003908949258058347, -0.0021199184418772, 0.00046119575597702855, 0.001988674062421869, -0.0005780932205870504, -0.002367565728090937, 0.0018098110570434756, -0.0020233731697819612, 0.0010119816142301619, 0.0002819524526643802, -0.001500305668491242, 0.0029316991532545855, -0.000984125122143631, 0.00028878824645017787, -0.000461182113001779, -0.002608525587874222, -0.00042708841266703157, -0.000936028992087834, -0.001830512850798216, -0.0015003960532021243, -0.0008050472399054875, -0.001947802550945843, -0.0003712287665103564, 0.0010120464183624445, 0.00218860381114222, 0.0011428184098007943, 0.0010874038657107121, 0.00015154711618498018, -0.00022020178875570284, 0.003063153293453913, 4.07180280046493e-05, -0.0013350528572962927, -1.0402768602091328e-07, 0.001376802635302099, -0.002429347088693856, 0.0006743895083846096, -0.001225260635232872, 0.002429456232495575, 0.0012526123372361697, -0.0013215671552617714, -0.0021540326066747384, -0.0006748874769800794, -0.0006537627509934918, -0.00026851109029923936, -0.002002618509498233, -0.0005713802135780544, -0.0007364164425414099, -0.0036823329023767393, -0.0008121934113777263, 0.002202299273920738, -0.0025539108632063323, -0.0005085995050402303, -0.0016860317536060432, -0.001534984311388543, -0.0010114461274526865, -0.003242000950485213, 6.910318538111415e-05, -0.004260557436600199, -0.0002062300557288954, -0.002181902741736519, 0.002092171093592443, 0.0018717765978117917, -0.003269040569430448, 0.0020787194989959623, 0.0015759410914596428, -0.0016516617830231173, 0.0021818873933894256, 0.0031043488255914076, -2.0781946234227355e-05, -0.0005227571236044448, 0.0022920189844614636, -0.0010942396594966763, 0.000288849639838773, 0.0005296935343326314, -0.0021883974611419665, -0.0007091124909514024, -0.0002064943883737791, 0.004288084791909563, -0.0020651689928291583, -0.0032971648049056612, -0.0029938522849321525, -0.0024985218996947944, 0.0015487104708614141, 0.00019946418219096707, -0.0013903224447747164, 2.040505904377099e-05, -0.0006951356418087862, -0.0013286741031801608, 0.0002133165391845493, -0.002085342121294076, -0.0009224085656729386, 0.0008674885794346388, 0.0001794991090980358, -0.0005231323054230019, -0.0013419858572807364, -0.0005435493020700677, 0.002168282315321679, 0.0005777043957932992, 0.0002134683172838603, -0.0028083871217184364, -0.0021748554818347143, 0.0012390737686726605, 0.0018444999321721722, 0.0019684668265188554, 0.001906395552692508, 0.003035093862111038, -0.0015830787360723853, 0.0037717354137435377, 0.0020372749825607883, 0.001004446617964172, 0.000929322806566546, -0.002924912815253755, -0.00046094677167918263, 0.0008950790335043868, 0.00032371928438912345, 0.003007680766719145, 0.0030628889608090293, -0.0026434344559783662, 0.0021401324992679216, 0.0018921373171860711, -0.0018793695767225227, -0.001390632822460991, 0.0016241719458957027, -0.0023059549046783867, 0.002154370270311512, 0.0011290820180965833, 0.0018995989824602821, 0.002009728868160421, 6.928736554656645e-05, -0.0020574719862324065, -0.0005921092932832384, -0.0021129462183390735, 0.0008191059468992679, -0.0011767228138543362, 0.0004407241874290757, 0.0016654339875373791, -0.000344172093846129, -0.00015843407112803298, -0.0011353533337827848, 0.0031108640094596463, 0.001954781595971622, 0.0024845331129489945, 0.0014794879094470748, 0.003028911225763764, 0.002725344605376767, 0.002904785731830062, 0.0013212687151787916, 0.0015000618003092603, 0.00028231058076383375, -0.004067475419269162, -0.001266430586791767, -0.00019956479913324499, -0.0001376384819185561, 0.0028152774874052877, -0.0013350358035772447, -0.0005091759207433433, 0.0013421308138924504, -0.001699972789938553, -0.00038540684953741744, 0.0004815257786570104, 0.0003854375462316595, 0.0006401372084629542, -0.005024649601806541, 0.0011010498727040963, -0.0029941780109656313, 0.0016104423756790331, 0.004983010672974353, 0.0009702693544062502, 0.002450294456002533, -0.0019754185855941353, -0.0027257368409143723, 0.003744110852235749, -0.00022719277138483207, 0.0022847960712536475, -0.0007778336730262514, 0.0007500505119314438, 0.0006059872308554759, 0.0003717898338663206, 0.00015827206079732647, -0.0017619707327731216, 0.0012248854534142595, -0.001411396009604271, -0.0005574153020388439, -0.002195761920217809, 0.001761977554260663, -0.0004540495845047343, -0.00037142658965111375, 0.001940637620382768, -0.0015829593600392156, -0.002918783045435469, -0.0019135519563961978, -0.0011910100406831159, -0.00011672863279166279, -0.0015899912715939268, 0.00036448165206337535, 0.0020507913812895517, 0.0004748059501604729, -0.002436442099008951, -0.0024362545080997, 0.0011494120407766206, -0.0035861764550751962, 0.0004538193592978912, -0.002401615088756137, 0.0004541007456618784, 0.0005438528582686897, 0.003055737673221093, 8.930018905273229e-05, 0.003186214635320317, 0.0022503561804226857, 0.004233244958150584, -0.0023610931785202904, -0.0010390365815224345, 0.0011491204221812934, 0.00016527498102969496, 0.0006673865881521301, -0.0009086176020679515, -0.002346604717806955, -0.001974941081461401, 0.0012801840322149705, -0.0037303625229282433, 0.00039245581481117675, -0.0016863114345980756, 0.0005507210541208507, -0.0006469201357199306, 0.0011973291067824965, -0.0018172232665324972, 0.0017760584310892447, 0.003131204264371079, -0.0024225709829244213, 0.0013009301656393135, -0.002402368863137161, -0.0012316001657951547, -0.0026843110835700346, -0.0004681065861267264, 0.002691196333141188, -0.0024643105286988876, -0.00041291715112762306, 0.00019252094997512792, -0.0006400962795372056, 0.0026087131787835283, 0.000702153910388359, -0.0019070214241807548, 0.001059951546765081, 0.0036412089958591243, -0.0027802867614498683, 3.432904165723283e-05, -6.863079736407762e-05, 0.00011668599849412598, -0.004569909341681222, 2.7396041672789195e-05, -0.0005164789864305908, -0.0003850401945783566, -0.002251072436621926, 4.81370589814345e-05, -0.0010873834012478656, -0.00347571743259778, -0.003358623850218956, 0.0008531553075644682, 0.0005020587405935029, -0.0017963475248436445, -0.0018650380102242514, -0.003978287784762058, -0.0037853353756955865, 0.0017687775352366875, -0.0013420660097601678, -0.0017141491675937148, -0.001954242698450459, 0.00119061951051741, -0.00025474059115693226, 0.0009360477511788368, 0.00291122076321898, 0.0007710319866782722, -0.0016656846772070133, -0.0031658624428055893, 0.0013699207964747995, -0.0010188566315698644, 0.00218231714710887, 0.002870105383560917, 0.003475761772267272, -0.00023411042302212692, 0.0001379966100181207, 4.129273833591851e-05, -0.0002821792671273693, -0.002140497448855083, -0.0006402446468928291, -0.0011561114048103671, -0.0034824202073753807, 0.0035170391622560415, -4.7901717658838106e-05, -7.563542296840087e-05, -0.0032001693146280763, -8.964467417704736e-05, -0.0017275751816117069, -0.00011712939518881971, 0.0009569934131156699, -0.001108264259052416, -0.0008397889815631721, 0.0016858850916223744, 0.00021321762761417062, -0.0013906703406428855, 0.0015005324829542865, -0.0015346312994046762, 0.0014728755193803567, -0.0007777023593896759, -0.001548928758464907, 0.0017348339076294628, -0.00012371961542079202, -0.000729478326441324, -0.0007709347804797928, 0.0004338747506679175, 0.001920397982413502, -0.0017555970947727983, 0.0009289101065660388, -0.0010389581344149579, -0.00047472409230908674, -0.000489024962113116, 0.0009020052120011779, -0.0013215654498898166, 0.0002064193520101565, 0.0003510675756486781, -0.0024020653069384834, 0.0005503288185833011, 0.0005367731963007438, 0.0003717130921306877, -0.0002064432272166905, -0.0019542597521694516, -0.003930239405119551, -0.003131335578007599, 0.00024079102796492613, 0.000268893093605449, -0.0007575053557180578, -0.0019338734522166834, -0.001307201481325404, 0.0005370272967141765, -0.001383060308013051, -0.001803098050034424, -0.0003439384578955429, -0.0008328133472811916, 0.0023879605549032012, 0.00209233480929516, -0.00024804634323893904, 0.0005229515360013481, 0.0020852756117899496, -0.0007504154615186609, 7.548876098473212e-05, 0.00011046754933691227, -0.0010666799021211704, 0.0006055114320946409, 0.0014385430669792698, 0.0001306219187109381, 0.001101220409894299, -0.00024788603827996525, -8.935305558166462e-05, 0.0016104133843567459, -0.002684203645140104, -0.00017896703306446993, -0.0032215737216068074, 0.0020857650535259786, -0.0028221695584640383, -0.0011634008275224206, 0.0016722186201661993, 6.882179901718244e-05, 0.0012593219335014227, -0.001053069707937726, 0.002195724402035859, 0.0002132363867051179, 0.0007432334772364824, -0.001122005766872325, -0.0014527330876096256, 0.0021955248735233135, -0.0008053064564346735, -0.0010465170058875373, 0.001493312980490269, 0.0014181277757041588, 0.0021747650971237764, 0.002828891092332586, 0.003145348239960155, -0.0028078755101476616, 0.002216108996616839, 0.0029730549903508874, -0.0007019424442724076, 0.001823803254533074, -0.0010737288673949852, -0.0005506818305670569, 0.0006128008548066943, 0.00021355870199468718, 0.0015211541242296511, 0.0024987538302735923, 0.00041294443707817763, -0.0003992796709938462, 0.00031677775754523907, -0.0011012204098943545, 0.0038889244969489423, -0.00028914807992175273, -0.0004950489988734263, 0.0009568962069171905, 0.004425431655232848, -0.0011218932123267522, 0.0006947638707340831, -0.0013836452505756602, -0.00011050165677495283, -0.004576890092078845, -0.0029597057180685282, -0.0035237010081080045, -0.0024430715427947725, -0.0002824862340697898, 0.002078357960152599, -0.0004886583071540551, -0.0031043965760046976, -0.0015416598002156445, 0.0007570994772052586, 0.0006743093559050672, 0.0009774922676140108, -0.000523166412861098, 0.0013076005383507172, -0.0006607673765978705, -0.00011013500181589198, 0.0037579649146013416, 0.0008880198359991764, -0.00042696733126201813, -0.0026152880506684073, -0.0007569255292712018, -0.0031251239503379824, 0.0002613768564303509, 0.0021058819047181654, 0.0016172065438451177, -0.0011218369350540214, -2.0394826812319966e-05, -0.00026860659112581953, 0.0034828277912601346, 0.0003372032810518011, -0.0022996921158516814, 0.00042718391349361173, -0.002918576695435271, 0.00028880018405363916, 0.002408769787087872, 0.0009085834946298554, -0.0016172781694649974, 0.0007848195395396274, -0.0013629946179779528, 0.0006195189779313326, 0.002932070924329344, -0.0019961220847208305, -0.00013726159472809973, 0.0016246818520945783, -0.003985432250862342, -0.002243938202752871, -0.00041293591021857035, -8.298623906888292e-05, -0.0006676730906317041, 0.0014383452438386235, 0.0008607005360619091, -0.00024095985978322965, -0.0003441431025237862, 0.001658518041271928, -0.0013831796840462762, -0.0016038555661909148, 0.0015554848712588387, 0.0021885748198198773, -0.003337949342414548, -0.00154148073616589, -0.0013077864238880132, -0.0001373212827447401, 0.002766683388754021, 0.0013491132696619723, 0.0017410591782743845, -0.001273302193387671, 0.0010256020406450017, -0.00198906288721562, -0.0005436737942189906, -0.0009984652155013984, 0.0024640308477067996, 0.002257447779994093, 0.00025480710066116963, 0.00308342362811731, 0.001383343399748882, 0.00041334178873148053, 0.0010801212644862002, 0.001059711089326787, 0.0021264199827703, -0.0001791819099242753, 0.0018650959928689925, -0.0022434453502730434, 0.0010322792348440024, -0.0005782637577773642, 0.0009842189175982008, 0.0012043405538745278, 0.003902565387826573, 0.00010334695844321784, -0.00040590399866385907, 0.0018445425664696535, 0.0005715507507683681, -0.0009704603560592995, -0.0007091807058273725, -0.001156605962662094, -1.3680114431424695e-05, 0.001830751602864611, -0.004219119741652566, -0.0016862483358376923, 0.0011836182956568297, -0.0001723631698573591, 0.00022728486146755822, -0.0011632643977702584, -0.0003789973987270434, -0.00300074094524716, 0.0003578573243933625, -0.0036134531207148157, -0.0013078444065327544, 2.067109706049841e-05, 0.0010187253179334, -0.001135627898659064, -0.004080771825022478, 0.0022851814853036, -0.0013219303994770337, 0.00026120461386813787, -0.0014726077759916745, 0.0007017463265036605, 0.00010312867083972499, 0.0036756471813181313, 0.0018787300622591374, -0.0016380447673521314, -0.0009363086730799219, 0.0005506903574265531, 0.003000520952271657, 0.0008052297146989851, -0.0009704023734146139, -0.0005298487231757409, 0.002298687651800968, 0.001252914188062948, -0.001679378434613743, 0.003324446586661034, 0.000468019612159587, -0.0015826643306999788, 0.0020095259289041323, 0.0015008445660125158, 0.0007158289087041414, 0.0011011368466710691, 0.0024775131389975225, 0.0017414275386052336, 0.001101145373530621, 0.00022013186850766697, 0.004156862582288867, 0.003379838960916426, 0.0008398589018111524, -0.00027525138325867893, 0.0022781717435836346, 0.0010046290927576695, 0.00041305187550799705, -0.0025328031909387927, -0.0003230780645537279, -0.0008326581584380266, 0.00320068604231466, 0.00024774960852785854, 0.0027390673541057287, -0.002229703842453079, 0.00038522949085950664, 0.0005846544494967354, -0.00018597848015633467, -4.769877840238301e-05, -0.0024364233399180035, -0.0005919967387376657, -0.001534829122545378, 0.0008810254426263042, -0.0014521208590966284, 0.0027533255896121656, 0.001025607156760755, -0.004845585362543592, -0.0012113434741068407, 0.002161148081452735, -0.0019546588091946537, 0.0011082062764077305, -0.0002961612323855167, 4.1374596187249146e-05, -0.0028080579849412146, -6.864444033927164e-05, 0.0026565364493348342, -0.00024785363621393497, 0.0005095442810743034, -0.0018378909528493081, -0.0015281144101644828, -0.0018377238264028484, 0.0005713290524209658, -0.000578437705711421, -0.0026496170923255846, 0.00013789940381969679, 0.0013215364585675293, -0.003104104957409315, -0.0016038999058604064, -0.0027324293834604663, 0.0022302614990652447, 0.0021748657140660543, -0.00028260390473111574, 0.001493764904044459, -0.0007297375429704545, -0.003999233446698891, 0.0005848932015630748, 0.000474736029912326, -0.001630913944226986, 0.0014866119110846232, -0.004391262918534422, -0.0011629693684310771, 0.0013559916977455844, -0.002408762965600275, 0.0009701226924225814, 0.00020628633300168175, 0.00033022082528222363, -0.0019614673170301744, -0.001734117651430389, -0.00040604213378797605, 0.0032761475173489485, 0.0013558467411338149, -0.0012041069179238306, 0.0017828925195033651, -0.00011032088735329904, -0.0002064295842414965, -0.00018572608511480126, 2.694923423429696e-05, -0.0030972879227143535, -0.002332977469904518, -0.0020923979080555433, -0.0013350869647343333, 0.002002843618589323, 0.0015277869787592158, 0.0032211064497054687, -0.0038403542735043206, 0.000282460653491301, 0.0005164482897363487, -0.00030954802284971494, 0.002092150629129652, 0.00046814751505230845, 0.00013798808315862443, -0.0007089624182238796, -0.0021957823846806, -0.0004749389691688366, 0.00197509968104842, 0.001266222531419614, -0.0004472291390659189, -0.002532421187632583, -0.0010666014550136382, -0.00014469426868002344, 0.0015486337291257257, -0.001500656975103265, 0.000839771927844124, 0.00027524285639912716, 0.0019199801662973526, 0.0019820838421897857, -0.00023390918913757108, 0.0018789858680444138, -0.0019683099323037356, 0.00022684146477280898, 0.0017822598265274658, 0.004026047956552925, 0.00038531134871078176, -0.0003578641458809595, -0.00024082343003101192, 0.0018792553168050508, 0.0008328321063721389, -0.001238935633548599, 0.0016656573912566253, -0.002160999714097278, -0.002292116190659943, -0.0002478894490238748, 0.002092176209708252, -4.147691850142632e-05, 0.0009569576003056746, -0.0013352438589493976, -0.0005505471061867939, -0.0004125436746810207, 0.0015281740981811232, -0.0014658828313793282, 0.0010876733144712936, -0.002656643887764709, -0.00119778785182445, 0.0025262760694672037, 0.0012185834410338159, 0.002161151492196589, 0.000481870263781381, 0.0007982660180203549, -0.0012591309318482624, 0.0008806059211381445, 0.0004335302655436024, 0.0007980613733921116, -0.00016521017689741235, -0.0004060336069284243, 0.0009221732243504532, -0.0008467560889856562, 0.0013559456527041935, -0.00018557089627169177, -0.001899824091551483, 0.0006882640352128822, -0.0010320984654223486, 0.00195421541249996, -0.001769081091435365, -0.00046115653242323473, -0.0022853042720806793, 0.0019614315042202346, 0.0007706039383307273, 0.0015001692387389687, 0.0014591357169323471, -0.0030078683576284515, 0.0015827956443364988, 0.00015170401040004444, -0.004074353847352663, 0.0015692451381696948, -0.0008397582848688745, 2.056024788688049e-05, 0.001803532919869677, 0.002374459504521642, -0.00022013868999526398, -0.003338288711423165, 7.579572792726363e-05, -0.003186635862180265, 0.0008948027632562083, -0.003792454261217326, -0.003840400318545656, 0.0008187000683863577, -0.0012252555191171743, -0.0013005942073744392, -0.0010802969177922117, -0.0034347350719481917, -0.0011766665365815498, 0.001940519949721442, -0.002821877939868711, -0.0006190551167738478, 0.0010532709418222264, -0.0007569391722463958, -0.003867907209392174, 0.0036550613528527065, 0.0007363993888223619, 0.0025743483243163556, -0.0053821215121498955, 0.000777294775504922, -0.0019409292389780397, -0.0012455036839458256, -0.0006675741790613809, 0.002002882842143061, 0.000881074898411438, 0.0038749851659883316, -0.0001382234244811098, -0.0012391129922264543, -0.0013491013320586775, -0.0006126439605916856, 0.002030408492080471, -0.0009152487512255059, -0.00023364656186453114, 0.0006054363957308517, -0.0031729966766744777, 0.0011771593890613774, -0.003234882064963418, 0.00026804893451359835, 0.0005711653367183045, -0.0013015918499375, -0.00022722687882292814, -0.0006881941149648463, 6.562934281473254e-06, -0.00026183730684403717, -0.0020512637693065883, -0.0003580449153026688, -0.0009427368829811322, -0.0012934940809435358, 0.0013764018729049976, -0.0008121473663362799, -0.0013487943651162015, 0.0003098072393789564, -0.0009430131532293662, -0.0007843659106134826, -0.001163039288679113, 5.513827384190373e-05, -0.0006127616312530115, 2.0891090036001536e-05, -0.0007294595673503768, 0.0003168493831651187, -0.0012670001810072273, -0.00040632693089570626, -0.0003647800921463551, -0.002312587759207896, -8.250873493620414e-05, 5.496091516399293e-05, 0.0015002118730366165, 0.00010325486836043618, 0.002388050939614139, -0.0018243813756080307, -0.0011219938292690856, -0.0014245423426301196, 0.000936052867294479, 0.00022673061559919105, 8.213184774563675e-05, 0.002381291887563697, 0.001060142548418186, -0.001631035025632055, 0.0009910035502271874, -0.0006464426315871963, 0.002442970925852439, -0.0006264622101471717, -0.0011630205295881657, 0.0002960657315590476, 0.0009978461655006932, -0.0010394561030104832, -0.002911630052475689, -0.0016722834242985374, 0.0017208468262556176, -0.004494359187307895, 0.0013214153771624604, 0.0043011816691503335, 0.0016927549928464902, -0.003771789985644425, 0.0013904810443616245, -0.0006815783141543852, -0.005258025009538536, 0.001286955021868652, 0.0013283500825186922, 0.0003651092289235214, 0.0021333256968042447, 0.0004886651286416521, 0.0006539622795060929, 0.0007359406437805749, 0.0011766870010443409, 0.0008739457806582474, -0.0004198961961534575, 0.0018788340899451028, -0.0008740225223938802, -0.0006056495672187578, -0.0035587309576172177, -0.0025396816190223492, 0.0018652000205550134, -0.0013214546007161987, 0.0013009813267963466, -0.0009569166713799815, 0.0011703270060192672, -0.00024119179036208305, -0.0007091329554141934, -0.0010463140666312487, -0.0007917781201025598, 0.0023330405686649014, -0.0035445443477306604, 0.0004749833088383282, -0.002684624872000163, 0.0029457936730583056, -0.0026911792794220846, 0.0005436908479379277, -0.0004745637873502795, -2.0301031357694566e-05, -3.44023726490672e-05, 0.00040597732965574895, 0.000653912823720848, -0.003475855567721897, -0.0009702505953152474, -0.0010047655225098318, 0.002422424320940808, 0.001995949842158673, 0.003048772271170508, 0.0011633172642992462, -0.00018603134668537802, -0.002195308291291609, 0.002587978982962591, -0.0022091811127481487, -0.0007712792656041634, 0.0007364778359298385, 0.003406899044324452, -0.0015758831088149017, -0.0007018162467516409, 0.0006536450803322769, 2.660380167829324e-07, 0.001789620874859399, -4.848154410574956e-05, 0.0011149909090366616, -0.00212668261004334, -0.0010252814307272762, 9.634744895464786e-05, -8.972994277212099e-05, -0.00025481051140496813, -0.004990421177091475, -0.0008398452588359584, 7.570363784442646e-05, 0.0001032906811704315, -0.0004607216625880928, -5.4560152766947034e-05, 0.0024708035427323805, 0.00039241659125743844, -0.00019922713549647142, -0.004473725608429291, 0.0016178989248375464, -0.0004819060765912653, 0.0009562890945199465, -0.0005850262205714385, 0.0009084231896709927, 0.001431297983936708, 0.00017217728431984103, 0.0018581493499093549, -0.0004817713522110023, -0.002814718125421223, 0.0013834866509887522, 0.001589614384403526, 0.0005229668843483859, -0.0025465020644611647, -0.0015831998174775097, 0.001396997933601818, -0.0009641225308688606, 0.0017483468956144277, 0.0012939698797043708, -0.0007505263106923898, -0.0008122258134438121, -0.00030973561375907677, -0.0007775625188936597, -6.885249571142449e-05, 0.0021473622339633347, -0.0012801908537025675, 0.0018926983845419798, 0.0005502776574261015, -0.0007707608325457915, -0.0003096554612796454, 0.00017214317688185599, -0.00017226084754318194, 0.0005096500141322791, -0.0017341091245708928, -0.00537576322249661, -0.0013971019612878943, -0.0007775761618689092, -0.0020301629185265346, 0.0025946851684839345, -0.00017899090827111497, 0.0006263445394859568, 0.001823951621888642, -0.0036338786442213777, -0.0013352353320898458, -0.0004820766137816346, -0.0012182696526036874, 0.0003511136206900689, 0.001211345179478851, 0.002429544911834558, 0.0031799160336837273, 0.0016175885471512719, 0.003689213035832195, 0.0012387190513170054, 0.0018579958664382001, 0.0008123451894770373, 0.0005439722343019149, 0.001438396404995712, 0.0010667719922038965, -0.003661816994159295, 0.0004129717230286212, 0.0035926848174557824, 0.005533172365111139, -0.0004400983159407734, -0.0006817471459727997, 0.0010528804116566315, -0.0010391167340018659, 0.001183788832847199, -0.003778416018686337, -0.0022236508143704814, 0.00014475054595275427, -0.002057862516398057, 0.00035791530703799257, -0.0002616701803975774, 0.0008881340959166484, 0.0009083208673568155, 0.0005436601512437411, -0.00022723711105432365, 0.0019477343360698174, -0.0018721705387212961, -0.0024089795478319243, 0.00020005083012542002, 0.0023680619913146184, -0.0033588046196406096, -0.0023740996710501228, -0.0017136358506510407, -0.0010873441776941273, 0.003379475716701219, -0.0026222210506527954, 0.0013076210028135082, -0.0008877145744285997, 0.0012117152451817104, -0.0003238369550503384, -0.000612579156459292, -0.0010254894860993735, 0.0009293910214425716, 0.005685089546999034, 0.002340328286005111, -0.001094652359497128, 0.00040576415816784284, -0.0030352968013674375, 0.0031456603230182734, 0.0012797815644459698, -0.001679813304448885, -1.4012661952444994e-05, 0.0010599242608146375, -0.0005574016590636499, 0.0004540103609509405, -0.003103931009475258, 0.003103994108235697, 0.0013834695972697597, 0.0031938314894377484, -0.0008117841221210731, 0.0037442165852937803, -6.852506430610195e-05, 0.0017546045683254352, 0.0005159110975870851, 0.001252692489715601, 0.0008396457303233018, 0.0011147180495322262, 0.0005092560732227192, 0.0017761539319158248, 0.0010323525658358368, -4.113584412085425e-05, 0.0025606818528600694, -0.0012111507670818922, -0.006036227042895748, 0.0009085050475223788, -0.00021326708339941547, -0.0021955555702175555, -0.0016588011330078145, 0.0029113162640454493, 0.0006400519398677695, -0.0005438733227315362, 0.0018167099495898231, 0.0012591786822615525, -0.00026145530353782753, 0.00017906082851909533, -0.001466370567743569, 0.000708762889711223, 6.848072463661037e-05, -0.0014660175557597022, -0.0031591340874494445, 0.0009776576886886268, 0.002787823463087813, -0.0008811124165932771, -8.252578865519666e-05, 0.00012389867947049105, 0.000764027361073949, 0.0012667358483622881, -6.6055685791210905e-06, -0.000626156948576595, 0.0006538292604976181, -0.0005441342446326214, -0.002120138434852703, 0.0014247879161842225, 0.001253130770294597, -0.0031109987338400202, 0.0019618578471958803, -0.0009839375312343246, -0.003991773486796524, -0.00010332478860852756, 0.001224957079034139, 0.0010943334549513017, -0.0007568300284446772, 0.0012661236198493464, -0.003744219996037579, 0.0023125536517698553, 0.001630982159103067, -0.0026086534907669434, -0.0025603953503803845, 0.0024431670436212416, -0.0017478352840436528, 0.003372633101427547, -0.0028354830179364576, -0.0017753626393530175, 0.0005161566711410215, -0.0010735617409485254, -0.0015625696493426489, -0.0022917393034694866, 0.0014934101866887484, -0.0003028435427003262, -0.0008669189852191783, -0.0006054773246565448, 0.002126965701779171, -0.0006469644753894221, 0.003475898202019545, 0.0022641437332840963, -0.0011145543338295094, -0.0020646352114236377, 0.00035084076118563345, 8.976063946641855e-05, 0.0002480582808422338, 0.001266677865717658, 0.0036819304346077386, 0.0001928722565870955, 0.0014248731847792961, 0.0004887538079805798, 0.0003715152689900414, -6.87979238105374e-05, -0.0009701823804391108, 0.00019985812310047146, -0.001011770148114155, 0.0016727455800841784, 0.0006745890368971552, -0.0010943334549513573, -0.0006128605428232792, 0.004412189821380419, -0.001204732789412133, -0.0024502518217051072, 0.0019336466377535277, 6.902985438927978e-05, -0.00038531646482653503, 0.0013830586026412073, 0.0015349996597356919, -0.0017343529927528745, 0.003902666004768851, -0.0005367527318378973, 0.0001789687384364247, -0.0019066939927754323, 0.0012729935210732402, -0.001995842403728798, 0.0007364266747728054, 0.0030005738188006448, 0.00226450186138355, 0.00015834198104525132, 0.00038519708879336534, -0.0001168190175025452, 0.002285307682824478, -0.0013628326076471908, -0.0012251924203567355, 0.0011220739817484615, 0.00030278385468374136, -0.00015823965873112966, 0.003951002592262942, -0.0007227175690189824, -0.0034683990185634395, -0.003613103519474803, 0.0006397159816029507, -0.001232398279845559, -0.003338136933323965, 0.0005918705412169545, -0.00012354225674288122, 0.0016725477569433655, 0.0013766934915003248, -0.002443346107671107, 0.0015697345799057794, 0.0011700916646966708, -0.0016513974503782336, 0.0013352370374618006, 0.003021422274539054, 0.002305695688149201, -0.004060863029202499, -0.002973413118450341, 0.004542951580587373, -0.00021322103835802464, -0.004439723998177325, 0.0033791073563702034, -2.789401026848104e-05, -0.002415419695336485, 0.0015899708071310803, -0.0016175987793827784, 0.00037852671608196164, -0.0011352782974190512, 0.00027550377830026784, -0.002656782022888826, -0.002292145181982286, 0.0017205211002221943, -0.001039140609208511, -9.654868283903717e-05, 0.0014871985590190762, -0.0022576967642918278, 0.0038267423739489215, 0.000908459002480988, 0.0015692468435415385, -0.0021402075356315997, 0.00036426848057558026, -0.0023471930711133626, 0.0031799757217002567, -0.0011421123858331161, -0.0025535407975035285, 0.0022990321369253386, -0.0015073205263269607, 0.001940716067490189, 0.0008811379971718769, -5.498990648639124e-05, -0.0014040639525945697, 0.0021748162582809205, -0.002505084833976323, -0.0007296147561934307, 0.0002066819792830854, -0.0022233387313123076, -0.0005436789103346884, 0.0005507960904845288, 0.001397190640626822, -0.00218859187353887, -0.0015962915786024712, 6.864102959547314e-05, 0.0002337966345919984, 0.0009634454982235807, 0.003916303484902739, 0.00033742839014294645, 0.001266536319849687, -0.0024227005911890975, 0.0013075937168630647, -0.0006672399261685169, -0.0014178566215716226, -0.0020509857936863995, 0.0008744608029728207, -0.006483239599729962, 0.001569482184864135, 0.00048160763650828553, 0.0016246972004416715, -6.897357711654895e-05, 0.0013766286873679867, 0.0001999757937617419, 0.0009012940719178575, 0.00011681390138684744, -0.003069806612446324, -0.002581204582565111, 0.0017139462283373152, -0.00018607057023911633, -0.0007296113454496878, -0.0031245560614944767, -0.0007022477058430399, 8.923709029229343e-05, 8.950483368103113e-05, 0.00029580651502980615, -0.0017415980757955474, -0.0037720048625041747, -0.002353882202915769, 0.0035998190513247263, 0.0019749052686515167, 0.004226531951141699, -0.0009154073508125249, 0.002071731927110687, 0.003124769232982272, 0.0016449385437827257, -0.0019412072145982284, -0.0016107681017124564, 8.952700351577692e-05, -0.0012803852660995263, 0.00214093402406218, -0.0015072130878970857, 0.0026086347316759406, 0.0002753997506141359, -0.0026980116624642503, 0.0036683935714160176, -0.001266185013237775, 0.0005025959327427665, -0.0009153357251925343, -0.0013835940894185716, -0.004756326102416497, -0.0008951063194547748, -0.0010664496769142717, 0.0034824457879538695, -0.0010877381186036317, -0.0001029905357155525, 0.0019753606029495052, -0.0019201779894380544, -0.0003235623901741702, 0.0022234239999073813, -0.001968584497180126, 0.0017346070931664181, -0.003014649579513473, 0.00035763733141791487, -0.0007842976957374015, 0.001239063536441265, 0.0011352748866753082, -0.001162994949009566, 0.0019686066670148716, -0.0006672092294742749, 0.004143404166204789, -0.0013284984498742602, -0.00028179726382115966, -0.002298796795602742, 0.00010400182125380741, -0.0009017766921661785, 0.0016173787864073308, -0.0008397702224722248, -0.0013144550912275732, 0.001672634730910505, 0.0016452625644443053, -0.0009426652573611971, 0.00043380312504798235, -0.0008331134927360706, 0.0008810305587419465, 0.0026705303521962764, 0.0024159620036016127, 0.0020302976429069086, -0.0020171035594676034, -0.0023955023726569546, -0.0004956134769732445, 0.0018925977675997019, 0.0018032361851585965, 0.003950598419121931, -0.003744366658021081, -0.00030999312491630793, 0.0006396460613550259, 0.00024105706598170906, -0.0021407805405909697, 0.0008948982640826775, -0.0013560019299769799, -0.00018615754420614472, -2.0689856151445696e-05, -0.0007711462465956886, 0.0009293347441698407, 0.002615086816783907, 0.0013974191604617658, -0.0009154431636224092, 0.004295050193960148, 0.0005368738132429107, -0.002492090279049841, 0.0026499530505904034, 0.003290004990458284, -0.00033675306286951034, -0.0006602353005641937, -0.0021473639393352895, 0.0019201967485290017, 0.0008466639989028746, -0.0030218622604900047, -0.004983479650247591, 0.0003307392583405955, 0.0036409020289167038, 0.0024366603866125547, -0.0011841537824343051, 0.0061877690429649745, -0.0027049207872421044, -0.0013697843667225817, -0.0006676440993094723, -0.0007781252916215786, 0.0009565704808838227, -0.00034427271078840693, 0.0009365934701876522, -0.0003373294785725678, 0.002078484157673477, 0.0016518374363291288, 0.0007709006730418078, 0.0031455085449189624, -0.001920343410512615, -0.0013562321551838785, -0.0012183685641741215, -0.00041997464326093414, 0.0036752992854500732, 0.002126781521613663, 0.0017070064068652746, -0.002877086133958595, -0.0023268204141357884, -0.0037644698662381293, -0.00277403079411076, -0.00035088851159892354, 0.00014499782487864543, 0.0005158138913885502, -0.0013902184170886955, -0.0013215228155923353, 0.003358918879558137, -0.0024915871943385626, 0.001740924453893955, 0.0018168054504164033, -0.001410657583570396, -0.0025191384248544613, -0.001410640529851348, 0.0014658862421231822, -0.0011356398362624698, 0.0013077147982681336, 0.0021677877574698967, 0.0024710218303359843, 0.0008945998239997532, -0.0013351705279575632, 0.0039299119737142285, 0.0025537744334542256, -0.00397789213848071, 0.0014179947566957396, 0.0001653892409472224, 0.0006397500890410468, 0.0005504481946164708, -0.0007021334459255124, 0.0032071483596538553, -0.00045417066590985877, 0.000846481524109266, -0.0006198003642952088, -0.0011837649576404985, 0.00234712826698108, 0.0011837871274751888, -0.00028243677828465596, 0.00018609444544576137, 0.0014244690116382852, 0.0016033763566861703, -0.001899554642790846, 0.0006122261444755361, 2.0814348300368657e-05, -0.0002410417176346158, -0.004679943726554836, -0.0009981616593026654, -0.002780482879218671, -0.0018034510620182909, 0.002291874027849805, -0.002298525641470317, 0.002807885742379057, 0.00041995247342624387, 0.00046810147001097313, -0.0028907270248362815, -0.003014357960918146, -0.0007704589817190133, 0.001961651497195682, 0.0006332860663298412, -0.00042650005936067936, -0.00042702019779095046, 0.000406176858168239, -0.002216206202815263, -0.0015622746200034676, 0.0016723294693398727, -0.0009428068032291681, 0.0014384458607809014, 0.00014481023396939463, 0.0009565466056771221, 2.7208450763538394e-05, -0.0006674684460034608, -0.0009705370977948768, -0.0005574289450140935, 0.00214690860503719, -0.0007362697805577967, 0.0021335780918458336, 0.003055998595122178, 0.002120235641051127, 0.002010056299565799, 0.0014866136164565225, -0.0006469184303479758, -0.0024711412063690985, -0.0006402122448266878, -0.003634032127692699, 0.0028289678340681634, 0.003454908200413165, -0.001610464545513779, 0.004047121521382535, -0.00026884022707640565, -0.003971001772793803, -0.0027250103524838476, -0.0011493404151566855, -0.0004409237159417323, 0.0027667089693325653, 0.00024094962755188964, 0.00285645596582379, -0.0017756576686921433, -0.0019342008836219504, -0.0018788170362260548, 0.0002824998770450393, 0.001170008101473441, 0.0009844917771026362, 0.0025399919967085682, 0.0006331615741809737, 0.0006263564770891961, 0.0001926914871653862, 0.003118102271014722, -0.0009496101949489355, -0.001981732535577929, 0.0008463348621255973, -0.0011840616923515235, -0.0003235623901741702, -0.0004336973919900622, -0.0016108772455142306, 0.0006126047370378918, -0.0011287631135508125, -0.00332440736310724, 0.00017194194299730015, -0.0023744816743563324, 0.001204386598915863, 0.00010308774191403192, 0.0017963884537693375, -0.0006199555531384293, 0.0008601991567226408, -0.0007570295569572782, -0.0013698372332514586, -7.587758577853876e-05, 0.0026224120523059558, 0.0010597400806491297, -0.0007569937441473384, 0.002670538879055828, 0.00037860516318943827, -0.0006399291530908013, -0.0036615339024234084, -0.0011084740197964127, -0.0002753468840852591, 0.002326585072813192, 0.002216230078021908, -0.0006331223506271799, 0.0007160267318447877, 0.000275292312184372, -0.0012324596732340432, 0.00034360249963061307, 0.001885545391582144, -0.00068164823440231, 0.0037305791051598924, -0.0006127292291867592, 0.0017202840535276431, -0.005644091838002241, -0.00023387337632763128, 0.0024644793605172466, 0.0014523886024853105, -0.0031113636834271263, -0.0006950554893294103, 0.0026221289605700138, -0.0005782364718268651, 0.002243402715975451, 0.0035925176910093226, 0.00029574171089752355, 0.0016106521364231408, -4.7792573857063925e-05, 0.00102550995056222, 0.0010186144687597265, -0.0014660158503876919, 0.0010462458517550566, -0.0022021287367305353, -0.0010188344617352296, 0.000598721683350012, -0.0005367868392759378, -0.003001196279545093, -0.002519036102540395, 0.0023538088719239347, -0.0036204236388810984, -0.0020027822252008387, 0.0022921400658665325, -0.00017228131200597296, -0.0008397599902408293, 0.0019545104418391412, 0.0010940418363558635, 0.004749432325985903, 0.0012942188640021612, -0.0019409633464161358, -0.0006125689242278964, -0.0019065712059984086, 0.0030558246471881767, 0.0009360920908482173, -0.002264201715928782, 0.0018239072822191504, 0.00013785676952215997, 0.0012322652608371398, -0.0002200807073506339, -0.0006607554389944648, -0.0003993836986798671, 0.002422318587882888, -0.003489883578021491, 4.823938129555616e-05, -0.00019281597931419814, 0.0009775502502587519, -0.0013489751345378553, -0.0005853724110677083, -0.0048453397889896554, -0.0010117138708414242, -0.00036490117355136853, 0.000784466527555705, 0.002278245074575469, 0.000757058548279621, -0.0015279916233875146, -0.00265691504189719, -0.0009226046834418522, 0.00019297969501691492, 0.0032966958276324787, 0.0017203420361723287, 0.0006609873695732627, 0.0008463706749356481, 0.00035132849754981876, 0.002346969667394172, -0.0029872859399068807, 0.0002959071319721396, 0.0027049105550106534, -0.0011423187358333697, -0.0010804333475444294, -0.002801246066361951, 0.0015490327861509834, -0.0009976619853352409, -0.00048201522039303946, -0.00022013357387956622, -0.0005987984250856448, -0.0026702250906258107, 7.60600605720918e-05, -0.002264051643201259, -0.0006404049518515809, -0.00041978023086408633, -0.0038890472837259105, -0.001459198815692786, -0.0005508438408977634, -0.002917938886343674, 0.0015004318660121196, -0.00389552494941231, 0.0014110873372898958, -0.0012457731327064625, -0.0007087987025212739, -0.00037187339708955047, 0.002842700815028576, -0.000577851057776857, 0.0013627865626058, 0.0020235454123441743, 0.0010464163889453149, -0.00046085979771215424, 0.0014245031190763813, -0.0005502554875914112, 0.003207658265852731, -0.0026152266572798677, -9.658279027713323e-05, 0.001018786711321884, -0.0007020618203055773, -0.00075031143383264, -0.0019130079427592261, 0.004872976288100683, -0.0003782811425279142, -0.00382760358675982, -0.0008952137578847053, -0.0010393588968120593, 0.0009496579453622811, -0.0009016044496040765, -0.002697778026513664, 0.0011632166473569683, 0.0021611873050065844, 0.0011767228138542807, 0.0009563982383216096, 0.0008468515898121809, 0.0019340167034564981, -0.00041275514079697206, -0.00041306210773939256, 0.0016310401417477527, 0.002291486908427842, -0.0028221422725136502, -0.000605600111433513, 0.00010322076092250665, -0.0005501054148639994, -0.004005755452054782, 0.00176223677078996, -0.0029253579173202926, 0.0012941489437541809, -0.0007774789556704298, 0.00336556537706284, 0.0005987847821103953, 0.00039222729497612185, 0.0007503660057334716, -0.0010533903178553405, 0.004666562052206336, -0.0005096056744627875, 0.0025536567627928997, 0.0032693151343067273, 0.004377200800796788, -0.0009013742243971778, -0.0021470740261118615, 0.001259772151683658, -0.00137618187992955, 0.0013490723407363348, 0.0011356398362624143, 0.0006881190786012237, 0.00010966602454265395, 0.0002961305356913302, 0.00077077447552093, 0.002092125048551108, 0.002856087605492774, -2.7389220185247698e-05, -0.00017162303845152937, -0.0035102954585528034, -0.001996033405381903, -0.000316743650107143, 0.003737498462169031, 0.002643069506391149, 0.0007157862744065491, 0.000447304175429597, -0.005017668851408752, 0.0015828536269811844, 0.0017549933931192974, 0.0019339194972580742, -0.0010324804687285583, -0.0013696342939951145, -0.0014042089092063947, -0.0011972694187659672, -0.0013003946788618381, 0.0041294563083846825, -0.0011974382505843262, -0.0012317655868696598, -0.0009014083318352739, -0.0016033917050333746, -0.0002070179375478487, -0.0012939477098696806, -0.0005920700697295, 0.0008603731046565866, 0.0011698000461013436, 0.001486489124307655, 0.00033038283561293014, -0.0018653142804724854, 0.0028292355774568456, -5.52593552470837e-05, 0.0002683661336875254, 0.0007292907355320732, -0.0011490419750737058, -7.588270189429203e-05, 0.002876907069908785, 0.00027533324110995405, 0.00093601534911264, 0.0014310848124488018, 0.0006196127733860135, -0.000681334445972348, 0.004913933068171783, -0.003255577037230617, 0.0016241548921766547, -0.0022301659982387756, -0.0030558280579319197, 3.472298256679274e-05, 0.0017694494517663806, -0.0004060574821351248, -0.00132840294904768, -0.000922309654102671, 0.0027602705271999595, 0.0008605862761444927, 0.0013073379110776218, -0.0017413490914978125, 0.0006748977092115305, 0.0015279967395032679, -0.0005302784768952407, 0.0030970883942016414, -0.001294558233010834, 0.004198873282195759, 0.002037535904461818, 0.0008118386940220157, -4.137118544345064e-05, 0.002126810512936006, -0.0014311717864159412, 0.0004198313920211749, 0.0026291557560090273, 0.00037167557394884865, -0.0009362012346499915, -0.001197329106782552, -0.0037307939820195313, 0.0016104986529518195, 0.0007983615188469351, -0.0013420625990163138, 0.0009845020093340318, 0.0010599941810626179, 7.563712834024461e-05, 0.002767111437101566, -0.0002889604890124464, -0.0015695145869303317, 0.0014800984325882283, 0.0007430919313684559, -0.0036546111346704158, -0.0015483386997865445, -0.000667456508400166, 0.00013755321332342696, -0.0009980252295504477, 0.002161463575254763, 0.002071708051904042, 0.001507393857318795, 0.0008876412434367653, -0.00038523290160330514, -0.002663136901798202, 0.002663218759649477, 0.0021476385042115687, 0.001259444720278391, 0.0027528378532480913, 0.0020099505665078232, 0.001830823228484546, 0.0003370361546053413, 3.4653062318756866e-05, -0.002980456967608458, 6.6089793228085725e-06, -0.0004753039187560537, 0.0005363690231597884, 0.00039212667803401047, 0.002195400381374446, -7.59850242084692e-05, -0.0009842683733834456, 0.0003645328132203529, 0.0010185138518174486, -0.001108226740870577, -0.0021474270380957283, -0.0004612759084563489, 0.00021361497926747353, 0.0031933556906768024, -0.0008879141029412008, -0.00047485711131750596, 0.0004679462811677526, 0.0016450545090721524, -0.0017624976926909897, 0.0020371112668580715, 0.0005511388702370001, -0.0020719468039703814, -0.0021201179703898565, -0.0029595880474072578, -0.0029802574390959125, 0.0013076244135573067, -8.280205890343062e-05, 0.0002475193833210154, 0.00015839484757429467, -0.0003853795635869739, 0.0029179678776660722, -0.00014464992901053186, 0.00014442993603513976, -0.0018652273065055125, -0.0009081571516542097, 0.00016528180251734748, -0.00026863387707620756, 2.0868920201255747e-05, -7.1990380012820765e-06, -8.94587886396403e-05, 6.869219075256172e-05, 0.0008532525137630032, -0.002367910213215252, 0.0015005682957642263, 0.0005851558288360592, -0.0011358751775850662, -0.0012458157670039438, 0.0005577376173285242, -0.001727339840289055, -0.002533205658707849, -0.00019946418219096707, 0.002119807592703582, 0.0006260478047748208, 0.002842381910482805, -0.00102527290386778, 0.0005919865065062702, 0.0012184316629345049, 0.0022164125528154055, -0.0011972540704188184, 0.0037162577708930167, 0.0020302209011712202, -0.0018036386529275417, -0.002071663712234606, 0.00043383893785792216, 0.001961387164550743, -0.0023262081856227357, 0.00032358626538075974, 0.0016931898626816877, -0.003427363791384752, -0.0019202479096861458, 0.0028081534857677948, 0.0008120655084849493, -0.002532596840938539, -0.0017621003410376868, -7.573945065442178e-05, 0.0007293845309866986, -0.0025540387660990538, -0.002216530223476787, -0.0007912255796060919, -0.00048179863816139035, 0.00019988711442281426, -0.0005922406069198694, 0.0019823515855785234, -0.0019064944642628867, 0.0008602025674663283, -0.000336862206671229, -0.0017754257381134009, 0.00207148805892865, -0.003627554462006244, 0.0005370955115903131, -0.0007431294495504059, 0.0029048863487723953, -0.0012870147098852924, 0.0018512743325695968, 0.001864644069314747, -0.0020309508003455434, 0.0037649371381394126, 0.004549158092141237, 0.00228522923571689, 0.00028922311628548636, 0.001253086430625161, -0.0007706943230415542, 0.000591911470142592, 0.0018857278663757526, -0.0008945571897022164, -0.002106357703479056, -0.0007296403367720861, -0.0008879141029412008, -0.0038684341693100976, 0.0021407396116651656, -0.001163174013059376, 0.0008947771826776085, 0.002705060627738065, 0.004329276913303204, 0.0013212397238564488, 0.0005505385793271866, 0.002126483081530739, -0.001149285843255854, 0.00036490117355142404, -0.001465773687577554, 0.001582648982352941, -0.0003233202273639768, 0.0017686206410217897, 0.00037178471775062283, 0.001879037029201558, 0.000640031475404923, -0.0002479354940653211, -0.002009652126424899, -0.0019475313968133623, 0.0013285717808660391, 0.003689056141617131, 0.0010460957790276448, -0.0004952127145760321, -0.0023812816553324123, 0.00271156387400312, 0.0026359727907040997, -3.430175570678928e-05, 0.00013100051127334922, -0.0007643138635535784, 0.001479695964819172, 0.001266063931832595, -0.001390336087749966, 0.000495613476973189, -0.002085611570054713, -0.00010361640720379928, 0.00011684289270919024, -0.0007299046694169142, -0.0028217960820173804, 0.00031667714060296115, 0.001809938959936086, -0.0007847683783825943, 0.0015207977015020413, 0.0020926588299566284, -0.0007090272223561067, -0.0002750109258203848, -0.0012383882091678289, -0.0013488301779261969, 0.0021130383084217996, -0.001754947348077851, 0.0010942652400752761, -6.857622546313502e-05, -0.00022704099328546556, -0.0009017920405133273, 0.00013740996208366774, 0.0006472305134061496, -0.00039879364000156015, 0.0031175633734935038, 0.0021888186880019145, 0.005182421988636388, -0.0009225194148466676, 0.0006262933783288127, 0.0020168392268227753, 0.0010462424410113136, -0.002319295650101194, 0.0005504584268478663, -0.00037143000039485674, -2.38752067005521e-08, -0.0013078597548798476, 0.003496248689162318, 0.0012799265210577948, 0.0014246224951096065, 0.0035101402697097495, 0.001809773538861581, -0.0024709280348813034, 0.002119770074521743, 0.0028977521149034513, -0.0018511037953793386, -7.553480602612295e-05, 0.0003234651839756353, 0.004060840859367754, 0.0018309784173276555, -0.0014383912888800143, 0.0005165557281662236, 2.216983474578882e-08, 0.00013790793067919305, 0.0005368755186148655, -0.00042687353580739273, 0.0031041510024507613, 0.00020665810407649587, 0.000530155690118217, 0.0011082676697962701, 0.0019410707848459552, 0.00013750546291013688, 0.00033079383024148257, -0.00038580420119072034, 0.001865106225100388, 0.0004472018531154198, 0.002711340470283763, 0.003840714106975729, -9.616838490483781e-05, 0.00037823339211473517, -0.0022574750659445364, 0.0017410728212494675, 0.0010529827339707531, 0.0009017135934058507, -0.001108264259052416, 0.0015279012386767432, 0.0022504022254640765, -2.7334648284360608e-05, -0.0004061598044492465, -0.0006882265170310431, -0.0019342145265972, -0.0006331121183957844, 0.003413751891829464, 0.0020369628995026146, -0.0017207018696437926, 0.00042001557218668273, 0.003689236911038729, 0.0015484546650759712, 0.005093219005782079, -0.0014517269181870684, 0.002842516634863068, 0.0035719864344448404, 0.002883650773612023, -0.0035238783667858598, 6.859498455413782e-05, -0.0017479648923082736, -0.003407151439365985, -0.0013555926407203267, -0.0016725494623152648, -0.0012935213668939793, -0.0008878492988089182, 0.0016583986652387583, 0.0002476967419988707, -0.0017343649303562803, -0.000860501007549308, -0.0002613154630418113, -0.0002617059932075172, -0.0013216029680717112, 0.0006747442257403202, -0.0009635938655790932, -0.0005302221996223988, 0.0011633633093405815, -0.00028930667950866074, 0.0014451742161369907, -0.0008471909588206872, 0.001479817046224241, -0.0035100345366517183, -0.0001649884785500655, 0.0011422283511225428, -0.0001793115181888405, -0.0004198672048311147, 4.826837261789896e-05, 0.00197518324427165, -0.0005300380194570575, 0.002244101918455532, -0.0024503422064158786, -0.004129488710450768, 0.00035063441118543537, -0.0010668282694766829, 0.0005987540854162088, 0.002622517785363876, -0.000536754437209741, 0.0031247538846351786, 0.0009978529869882902, -0.0016453972888246238, 0.0025606221648434846, 0.00010331285100517729, -0.0008328986158763207, 0.0015281348746273848, 0.0015070544883101222, -0.00032335774554581587, -0.0004680451927381313, -0.0027117361165651666, 0.003503340288733725, 0.001982290192190095, 0.0007019884893138539, 0.0009841370597468702, 0.0003578556190213522, -0.002416042156080933, -0.00037168921692404266, 0.0007639608515697671, 0.0008398947146210922, 0.0034278788136993255, -0.0030970065363503108, -0.00020681158754776163, 0.0007086605673971569, 0.0007364522553514052, -0.0023883886032508017, 0.0005090497232225211, 0.00014453737446495918, -0.0024569204890445007, -0.0002748540316053205, 0.002065017214729792, -0.0008261549121730827, -0.0010393998257376968, 0.0028427605030452163, -8.93649931850149e-05, -0.00018598871238773018, -0.00011650522907241667, 0.005024468832384832, -0.0003302140037946266, -0.0022158497800875976, -0.0009842427928048458, 0.0016448822665099394, 0.0015967520290161574, -0.0011495552920164354, 0.0021814678719014324, 0.001850955428023826, -0.004535936722751599, 0.0017548040968380363, -0.00296634539408569, -0.0022715218353350775, 0.0011698307427955301, 0.0008741197285922486, -0.0017619468575664765, -0.000702315920719121, 0.0006813583211789376, 0.004735191144198514, -0.002636308748968974, -0.0001719436483691994, 0.0033999796873152577, 0.0005092577785947294, 0.00017210565869996142, 0.001273111191734566, -0.0014521941900884627, -0.0026429552464737327, -4.1173362302693306e-05, -0.00190633074856017, -0.0019202240344795007, -0.0005917221738613865, -0.0002617827349431501, -0.0017138916564364282, -0.0006126507820792826, 0.002312683260034476, -0.0007705544825455379, -0.0021748998215041504, 0.00267736785135414, 0.00017211589093135693, -0.0018445613255606008, -0.0025740942239027564, 0.0026772621182962197, -0.00018555043180884523, 0.001961462200914532, -0.0002618509498192312, -0.0019683764418080285, -0.0002681563729434733, -0.0002544148651235645, 0.0014178941397535727, -0.0004128694007143885, -8.259741427513179e-05, -0.0013218007912123575, -0.0006055131374665401, 0.0015832936129320796, 0.0038203056371881594, 0.0007575428738999523, 0.0021201264972493528, 0.0013902371761795318, 8.965490640844287e-05, 3.415168297937754e-05, -0.0014314071277384821, 0.001748466271647653, -0.0020642975477869197, 0.003895385108916405, -0.0014314037169946836, -0.002085423979145462, -0.00030996072285027765, 0.0017828277153710825, -0.0026429910592836725, -0.0009775263750521068, 0.0003644901789229271, 0.001576425417079974, -0.0016173173930187357, 0.004205270795402782, 7.547682338149286e-05, -8.268609361405943e-05, -0.002491687811280785, -0.00030987033813933973, -0.000860190629863089, 0.0034689379160846023, 0.0023192888286135416, -0.0015623581832266975, -0.00044052295354451987, -0.0009976517531037898, -0.00012340071087502125, -0.0051203967598513755, 0.0006604859902338278, -0.000164705386814179, -0.0003167521769666948, 0.0003992694387623952, -0.0008533753005399713, -0.003813442557451807, -0.004019132010287529, -0.0009841012469369304, 0.001596965200504008, 0.0009502377718090815, 0.00011669111460987924, -6.8426152735612256e-06, 0.0012799060565947817, -0.0018861883167894389, 0.0005710596036603288, 0.0016312993582769941, 0.0011010294082413052, 0.0005783814284385791, 0.0003096111216100983, -0.0013417880341400346, 0.002106202514635891, -0.0003781958739328406, -0.0019822100397106635, 0.003296683890029184, 0.0013012797668792708, 0.0013491831899100082, -0.0015210262213369297, -0.002594937563525579, 0.0035927615591915263, 0.0003649813260307999, 0.0015968236546360925, -0.003923258654721873, 0.0019888735909344146, -0.0011358734722131114, -0.0002137974540611376, 0.00044078387544566056, -0.0014312434120358208, 0.0038816060829144905, 0.0008878544149246714, -0.000530041430200745, 0.0018447625594451567, 0.0013489256787527215, 0.0012937004309437894, -0.0033724864394439336, -0.0015417757655050712, 0.001245976071962862, 0.00015790881658206413, 0.002842465473706035, -0.00027521727582058286, -0.001039437343919536, 0.000413028000301352, -9.615303655768903e-05, 0.0007778149139352486, -0.0024777587125515144, 0.0002548036899173156, 0.0024501085704651815, -0.0025260833624421997, 0.002030041837121521, -0.00023391089450947034, 0.0014934153028043906, 0.0030078547146532575, -0.0012042586960231416, -0.004494596234002446, 0.00013765553563760413, -0.0021130502460250944, -0.0027531397040747585, -0.0010463225934908005, -7.566100354694516e-05, -0.0016312805991860468, 0.0034895987809137052, -0.0001240811542640996, -0.0024435643952746, 0.001287248345835934, -0.00035769190331874645, 0.0013284762800395145, 0.00016506863102949687, -0.0029868630076749225, 0.003413934366623017, 0.0003856609499508501, 0.0029805592899225797, -0.003963886298015751, -4.834852509738585e-05, -9.606606259066064e-05, -0.003785432581894066, -0.0012805609194055378, 0.005340779318028677, -0.002374132073116264, 0.00010303828612878707, -0.0057331379266414295, 0.002567212385075457, -0.0026773934319327397, -0.0010116575935686933, -0.0002206622391693891, -0.0015347523808098007, -0.00340702183110142, 0.005265486674812747, 0.0008397327042903857, -0.0007295874702430427, 0.0026429927646555718, 0.00033727320129983696, 0.004136394424484824, -0.0014318249438546315, -0.001121770425549784, 0.0007297631235489987, -0.0024502927506306893, -0.00262204369197494, 0.0011559886180333434, 0.002787168600277168, 0.0036546145454142698, 0.0004268104370470094, 0.003186893373337607, 0.0015280376684289054, -0.002044015275520117, 0.0010187355501647954, 0.00030964522904819436, -0.00022032116478887254, 0.0005577666086508115, 0.0012799862090743241, 0.0017758981261304374, 0.002168301074412571, 0.003626993394650335, 0.000124171538974982, 0.000336838331464584, -0.0003644833574352746, -0.002023932531766026, 0.0022986364906439904, 0.0014521430289313186, 0.00046781837827514217, -0.00022033821850786506, -0.0002958303902364512, 0.002973053284978877, 0.0019202274452232992, 0.0018929303151207777, 0.001995827055381705, -0.0007159977405224449, -0.0016653487189421945, 0.00042621185150915064, -0.0009912013733678338, 0.0034412826578825717, 0.0027805613263261475, -0.000639872875818015, -0.004652465827030716, -0.002987149510154663, 0.003909402886984548, -0.0006335555150904781, 0.0059052776927795425, -0.0010875556438100231, 0.0011148988189539355, -0.0023193979724152602, -0.003950903680692508, -0.0015417689440174187, -0.003152303409779289, 0.0004198535618558652, 0.0016105685731999109, -0.0006123847440624441, -0.001342002910999729, 0.0009844320890860514, 0.0012323539401760675, 0.002415660152774779, -0.0017274609216941794, -0.0014796396875464413, 0.0009364416920882856, 0.0020509465701326612, -0.00019328666195939093, 0.0023610317851316953, -0.000929481406153454, -0.0005847311912322573, -0.00030972879227136874, -0.0008877640302137335, 0.0034759971135898127, 0.00283577293115983, -0.003337925467208014, -0.00041991666061624855, -0.0017206455923710617, -0.0011907030737405844, -0.004590672528824502, -0.0014385481830950786, 0.0001861149099086079, -6.474254942601121e-06, 0.00011700660841185151, -0.0005781443817440834, 0.002064981401919852, 0.0006056649155659066, -0.0001854361718913733, -0.0028631126955598885, 0.0002137173015816507, 0.001307784718516114, 0.0028563024823524685, 0.0002339995738484535, -0.0007982438481856646, 0.0028012989328908833, 4.859409865126674e-05, -0.0015692826563514783, -0.0005711772743216548, 0.00042648641638542983, 0.0016448805611380402, -0.000736433496260458, 0.001252334361615981, -0.0002610630680002224, -0.002780829069714885, -0.0017208041919579697, 0.0039715219112241296, 0.0003239171075298253, 0.001232411922820753, 0.0002484164089417984, -0.0015140198903607627, 0.0001304803728430226, 0.0031042396817896334, -0.0016589750809418158, 0.0003167504715947955, -0.000502178116626617, -0.0004685363398461151, 0.0029252624164938235, -0.0022710937869875325, 6.21889444876178e-05, -0.0031525540994489787, -0.0014037979145777868, 0.0022572311977624437, 0.0019335886551089532, -0.0015005256614666895, 0.0028843550922078576, 0.0033997034170670237, -0.00026184242295979043, 0.000275312776647163, -0.0021340436583753286, 0.0002203842635492559, 0.0010321632695545757, 0.0023191967385308154, -0.0016452830289070963, -0.001383404793137477, 0.001362634784506489, -0.0015898309666351196, -0.0036407025004041027, -0.0009294200127649699, 0.000578333678025289, -0.005499436792875956, 0.0017618070170704603, 0.0016862381036062413, 0.00039218807142238354, 0.0021543787971710637, -0.0001652016500379161, 0.00024084389449385846, 0.0016101132389019224, -0.0003444261942596727, -0.0012048112365197206, 0.0006950947128832041, -0.0004406662047843346, 0.0004474406051818147, -0.00044038993453615616, -0.0012802812384135054, -0.0004883308757487326, 0.0018380376148328659, 0.003420546756689735, -0.0010049138898654553, -0.0007368308479136498, 0.0009427863387663216, 0.004507984729838543, -0.0033245557304628637, 0.0007640341825616015, 0.0028429532100702204, 0.0008396372034638055, 6.992688000972969e-06, -0.0003921863660505398, 0.0004402552101558932, 0.0021062656133962188, -0.004157227531876029, -0.0003784994301314626, -0.0020165356706240978, -0.003806524905814568, -0.0023677771942068326, -0.0010877398239754754, -0.0031108827685505935, 0.002560543717735897, -0.003096948553705736, 0.0007299933487558974, -0.0016587926061483182, 0.0018445579148168578, -0.0022300398007179534, 0.0005851131945385224, -0.0017413542076135102, -0.0007158903020925145, 0.001527619852312756, -0.001080771011181203, 0.003179909212196075, -0.003103960000797601, -0.0015417706493893735, 0.0018584563168517754, -0.0001376964645632972, 0.00015780819963984172, -0.004067906878360561, -0.0018100310500189232, -0.0014110975695212913, -0.0014794913201909288, 0.0019338683361009301, -0.0017898221087440103, -0.0018236804677560503, -0.002897598631432241, 0.001479624339199348, 0.00026133933824845634, 0.0010527303389290532, 0.0008054053680050521, 0.0013006880028291201, 0.003097044054532261, -0.000598590369713492, 0.0026704041546755652, -0.0007710643887445245, 0.000867176496376465, 0.00024792355646191533, 0.001314649503624421, 0.0005025976381146657, 0.0012733516491728603, 0.0033450392366140558, -0.0022713854055828042, -0.0013974652055031012, 0.0003028759447664675, -0.0014108144777855158, 0.0028287222605141715, 0.004679986360852373, -4.8033031295302564e-05, -0.0019269472737198923, -0.003895398751891599, 0.002643200820027669, 0.00010266310431017445, 0.0006746521356575386, 0.0006332246729413016, -0.0011835347324335999, -0.0024848451960071682, -0.0014452952975420041, -0.0006744867145830336, 0.002113183265033569, 0.000977234756456724, 0.00021364055984607333, -0.001548328467555149, 0.000640500452678161, -0.001129049616030442, -0.0023330746761029975, -0.0010668470285676301, -0.0012388469542096714, 0.004012533263196005, -0.0018860655300124707, 0.0022026949202021973, 0.00047480936090416037, -0.0025465532256183088, 0.0009495027565190606, -0.0015760485298895177, -0.0026708219707917147, 0.0010874516161239467, -0.0029115447838804487, 0.0002273616032031356, -0.0005713222309333132, 0.0011978338968657298, 0.00015132541783768882, 0.00039220341976964335, -0.002099359899362274, 0.0003166498546525176, -0.0011763715072423686, 0.0014180834360347228, 0.001149454675074213, 0.0018929371366084302, -0.0002480361110075435, -0.0005093089397517625, -0.002271393932442356, -0.0013278299440884767, 0.00047500206792921995, -0.001184162309293857, 0.0008326752121570191, 0.0022781205824264905, -0.0005506050888314795, -0.002553452118164601, -0.001892855278757044, -0.00026836272294367136, -0.001314021926764275, 0.0005780932205871059, -0.00019299163262020969, 0.0008812624893207444, -0.00030970321169287995, 0.0016517589892216522, -6.826414240501677e-05, 0.0013764325695991841, -0.00366883014662317, 0.002415919369303965, 0.001479782938786256, -0.0011149107565572303, -0.0031316152589996316, 0.0038959615246194623, 0.003930242815863405, 0.002622366007264565, 0.0017064913845505902, 0.000853184298886922, 0.002168200457470404, -0.0007983598134750913, 0.0001240487521979583, 0.0015001965246894677, 0.0013492343510670968, 0.0027664616904066186, -0.0015142586424271576, -0.00019951534334800014, -0.0014316202992262772, 0.002078728025855514, -0.0020994605163046076, 0.0006471333072077257, 6.186833456989227e-05, 0.0007298637404912767, -0.001197591734055592, -0.0006747356988807685, 0.0026500008010036935, -0.0026978394199020928, -0.000970332453166578, 0.002023598278873051, -0.0010460480286144103, -0.0021062826671153223, -0.0012939698797043708, 0.0002683286155056308, 0.002236926755661006, 0.0016792317726300743, 0.002429650644892478, 0.001376927127451022, 0.0006056427457311053, 0.0006958365496608221, 4.122281808793815e-05, -0.0007504239883782127, -0.0020856252130299624, 0.0008053388585008148, -0.0029940790993951416, 8.952188740007916e-05, 0.0011150966420945818, -4.1475213129471555e-05, -0.00017844177851844556, -0.0014248100860189128, -0.0019341923567623986, -0.001755196332375697, -0.0009358601602695304, 0.0029731385535741173, -0.0004409271266855308, -0.0006745770992938604, 0.0007292873247881637, -0.005010599421672146, 0.0032280803786156054, 6.979045025834463e-06, 0.0009840944254493333, 0.0017893599529583137, -0.001582739367063768, -0.0008881664979827342, -0.00043370591884961396, 0.0021198212356788315, 0.002209218630929932, -0.0010397255517711201, -0.00047477525346617533, 0.0012390805901602575, -0.002945936924298176, -0.001713971808915804, -0.00017182597770787345, -0.0012249741327531316, 0.0018169776929785053, 0.0001515249463502899, 0.00010332478860847205, -2.75989809292998e-05, -0.0003994348598369557, 0.00022699153750027623, -0.00246355504894602, -0.0028148818411239396, -0.0012871374966623161, -0.0014041782125121527, 0.0010602141740380655, -0.0024297410296033606, -0.001280450070231809, 0.0011010601049354918, 0.004033059403644901, 0.003702841989106531, 0.0022092493276241743, 0.0021611583136841306, -0.0003304612827205178, 0.00031657140754498547, 0.0026499411129871087, 0.0018379438193782405, -0.0008120279903031102, -0.0002616002601495415, 0.002050985793686455, 0.0017001177465503226, 0.00051614984965348, -0.00011665700717178318, -0.005003439607224769, -0.0006264929068414693, -0.0013143050185001615, -0.00293183046689105, -0.0006884430992627477, -0.0007433767284762416, 0.0039026472456779038, 0.0003164793174622593, -0.0005844924391659179, 0.0006680755584008158, -0.0034688117185638356, 0.002539222873980451, 0.0026638037022120864, -0.0028633224563039406, -0.0026980253054395, 0.0047767772065017144, -0.0022638657576639076, -0.0019338478716380836, 0.00013754298109203145, -0.000977442811828877, -0.00034374916161433733, 0.0019270802927282005, 0.0024088090106417215, -0.001472435533429517, -2.7645025970635118e-05, -0.0001647275566489248, 0.0013419432229831996, 0.000990778441135931, -2.7372166466199666e-05, -0.00035090215457417306, -0.0009978052365750556, 0.001707059273394318, -0.0027049088496386986, 0.0009634079800416862, 0.00034389923434174907, 0.0025262811855829015, -0.0009842854271024382, -0.0008331765914963984, -1.7224256221304302e-07, -0.0035241870391001795, -0.00033075460668774426, 0.00014398142322469276, 0.0011357830875022845, 0.0009427726957911275, 0.0008808583161799, 0.002284632355550986, 0.0013352199837427525, 0.0016997067519217701, -0.0003854153763969137, 0.0018651795560922224, 9.649411093820559e-05, -0.0015348973374214592, 3.435291686393338e-05, 0.0004612128096960211, 0.0021816349983478367, -0.00026150817006681537, -0.002044153410644234, 0.0019061516845103599, -0.0021403217955490716, 0.0009771818899277918, 0.0033862313580076964, -0.000350864636392334, 0.001947546745160511, -0.0009911263370041556, 0.0009019915690259284, 0.0009567529556774312, 0.0016103588124558033, 0.0014458785347327696, -0.0009153306090768365, 0.0005160662864301946, -0.0006053613593671736, 0.0012660758694360563, 0.0008878151913709331, -0.0022572192601590935, 0.0012733141309910212, 0.0006742786592108807, 0.004040389755282592, 0.0010942584185876236, -0.000949765383792156, -0.002064780168035296, 0.0009565159089829356, 0.0007777654581501148, 0.000639721097718704, 0.00046095018242298114, 0.0007775642242655589, -0.0007094228686376214, 0.002966420430449368, 8.254284237430021e-05, 0.0012045963596598597, 0.0009429705189318294, 0.0015002033461770647, 0.0007297000247886709, 0.002470730211740546, 0.0005986671114490694, -0.0007642217734709078, -0.0019411765179039309, 4.81796932789158e-05, 0.0006744338480539902, 0.0013350409196930535, 0.0029114390508225285, 0.0019337080311421229, -0.002512403248010775, -0.0010529435104170148, -0.000378451679718228, 1.3843830134141477e-05, -0.002712244317392254, 0.001397359472445181, -0.00023378810773250214, -0.001809834932250065, -0.0029042195483584554, -4.844914203949724e-05, 0.00305598154140313, 0.0033243647288097034, 0.0007294953801603166, -0.002422785859784171, 0.001190639974980201, 0.0009362575119228334, 0.0010324600042656562, -0.0015209085506757702, 0.002842649653871543, -0.0008946134669750028, 0.0008122667423695051, -0.00011670305221317401, -0.001438017812433301, -0.003964106290991198, -0.0019204065092730538, 0.00025421704198280715, -0.0005851455966047192, 0.0016103690446872543, 0.0012661389681963842, 0.0007983819833097261, 0.0003713276780807906, 0.0006126524874511818, 0.003000795517148047, 0.0032555719211149192, -0.0009495658552794994, -0.0019477002286316658, 0.001053339156698363, -0.00012387821500770002, 0.0001720851942371704, 0.0005505198202362394, 0.00138336045346793, -0.0004886190836003168, 0.0009841302382593287, 0.0001515897504825725, -0.0011494853717683995, -0.0022097541177074076, -0.0048177697993826984, -2.7645025970635118e-05, 0.0010395737736717536, 0.0002614604196535808, 0.0005296440785474976, -0.0030285036418790656, 0.0023610044991812518, -0.0031038457408801845, 0.0003926672809271281, 0.000695468189329862, 0.00015147549056510057, -0.004116013240647642, 0.0011559971448928952, -0.0013352694395278863, 0.0027325265896589457, -0.0014247231120518289, -0.0021404855112517884, -0.0016584617639991417, -0.0025397873520802694, 7.574456677017505e-05, -0.00018577042478429284, 0.00216832836036307, -0.0015760604674928125, 0.0003783357144288013, -0.0016585299788752228, -0.0027047263748451456, -0.002429735913487663, 0.0036893358226091633, 0.0005921604544403825, 0.0012663538450561895, 0.00117717644278037, -0.0027876512205256, -0.0003439452793830844, 0.00040606089287892333, -0.0012598659471383389, 0.0016865587135239668, -0.002491196664172801, -0.0013489700184221576, -0.0010736913492130906, -0.00020700770531645318, 0.00011688893775052556, -0.001452233413642201, -0.0011975712695927454, -0.0014106354137356503, -0.0016861136114574293, 0.0022917751162794264, 0.0009844542589207972, -0.0005641129607007467, -0.0001514516153583445, -0.0014659885644373594, 0.0008463945501422376, 0.00011010771586550394, 0.0004957874249072458, -0.001948112928632173, -0.0004957993625105406, -0.0020439794627102326, -0.002993780659312273, -0.0007985542258719391, -0.002340118525261059, -0.0007566356160477739, -0.0010461162434905469, 0.0002958917836248798, -0.001686040280465595, -0.00257376508712559, -0.0011423460217838133, -0.00015149083891219384, -0.0008532491030191491, -0.0009014509661328662, 0.00010310138488922593, 0.003634247004552449, -0.0008606203835824777, -0.0015694634257732432, -0.0006128264353852941, 0.0020025588214817036, 0.000254286962230843, -1.0061694222240902e-07, 0.0005028193364620126, -0.0010254195658513932, -0.002009355391713763, 0.0015831554778080181, 0.0001099030712371496, 0.002064754587456863, -0.0014180083996709891, 0.0009153459574239853, -0.0010326271307120605, 0.00046146008862191223, 0.0009289885536736264, -0.0009016504946454118, 0.0006056819692848436, 0.0004679548080273044, -0.0010808545744044329, -0.004433053625465977, -0.001300785209027544, 0.0004402432725524319, -0.001266087807039351, -0.0004954412344110315, 0.0009567052052640856, -0.0015966821087681216, -0.00019931240409160056, -0.0012317553546382642, 0.0018514482805037091, 0.0016174606442585504, 0.0006330728948420461, -0.0020236340916830464, -0.00040642754783792867, 0.0005575380888158676, -0.0027461248462390397, 0.0005093532794212541, -0.001458932777675892, 0.00274614701607373, -0.0023951101371193495, 0.0009840722556145876, -0.001018935078677341, 2.0983180118727685e-05, 0.0030627900492386506, -0.0011909861654764153, -0.0020301305164603933, -0.0011356688275848126, -0.0003097339083870665, 0.00012387480426395703, -0.0005369471442346896, 0.0017688662145756706, -0.00015841701740892944, -0.004652890464634407, 0.0016654476305125177, -0.0002479900659662082, -4.128421147636674e-05, -0.00011013670718784674, -0.001169945002713113, -0.00033739257733300665, -0.0009771887114153888, 6.849436761102723e-06, 0.0017481678315647287, -0.0003230917075289774, -0.0014107428521655252, 0.0018587820428851987, 0.00042670982010467595, -0.0008328986158763207, 0.002223079514783066, 0.0002681512568277755, -0.0007365255863431286, 0.0018922106481779055, -0.0007295158446231076, 0.0011428184098007943, -0.00014427474719197475, 0.0018650567693152542, -0.0046596324629658015, 6.210367589248866e-05, 0.0006950230872632135, 0.003751059200567286, -0.0006197935428077228, 0.0028631178116756417, -0.0007154537268854733, -0.0035515933130044752, -0.0002479065027429783, 3.460701727736604e-05, -0.0010047655225098318, -0.0007568197962132261, 0.0024639813919216658, 0.0008122206973281698, -0.000991088818822261, 4.8288837080689984e-05, 0.0001513987488295232, 0.0012392750025571608, 0.0007501579503613187, 0.0028083564250241944, -0.000667719135673206, 0.0017138422006512943, 0.0023883323259780154, 0.0009017715760505363, -0.0005642852032629042, 0.0007506184007750605, 0.000963298836239912, 0.001816820798763441, -0.0017688559823442196, -0.0006815476174600876, 0.00041937435235128717, 0.0007709501288269416, -0.00029617487536082177, 0.00012430455798340123, 0.0003647357524768635, -0.00135604968039027, -0.001087490839677796, -0.0031317209920576627, -0.003117505390848818, 0.0011286164515671437, -0.0011012476958447426, 0.0018790319130858046, 0.0009360000007655467, 0.0023401134091453613, 0.001218365153430323, -0.0015692025038721025, -0.0010532112538056415, -0.00028907474892997387, -0.0009500007251146414, 0.001093970210736095, 0.0018444658247340762, -0.00024106388746936158, 0.0002820343105155443, 0.0004336035965353813, -0.0014383793512766085, -0.0010668470285676301, -0.0027048662153412173, -0.00022730873667409224, -0.0010529690909955036, 0.0029184556140301465, 0.0024913177455778146, 0.0006743895083846096, -0.0031040094565827903, -0.0004958539344115387, -0.003936882491880567, -0.0005645205445855561, 0.002588120528830451, -0.0019408576133581046, 0.0016864666234412407, -7.568658412543394e-05, 0.0006608048947795986, 0.0021544657711380366, -0.002980211394054466, 0.00041276196228456907, -0.004012889685923671, 0.0011767978502180143, -0.0007503506573863783, -0.002339596681458833, -0.0033245608465785614, 0.0017754427918323934, 0.00016535854425292484, 0.0008118489262534112, 0.0003646129656998953, 0.001534494869652403, -0.0014523766648820158, 0.0010464999521685447, 0.003351767591970145, -0.0012322550286057998, -0.001975459514519884, -0.0009292528863185101, -0.0005438255723183572, 0.0013351227775442731, 0.0006676543315408678, 0.0007088635066535565, 0.00015829934674777002, -0.0034344468640966075, 0.00254623773181617, 0.0011010566941916933, -0.0015001231936976889, 0.00011708846626318214, 0.00021994768834221468, 0.0008744079364438884, -7.587758577853876e-05, -0.0019546417554757167, 0.0025532525896520553, -0.000667301319557001, 0.00040600632097798073, -0.0007641382102476779, 0.0001376998753070957, -0.0010946011983400394, -0.002780621014342788, 0.0012321220095973806, -0.002642893853085193, 0.00015158122362307624, 0.0022161158181044915, 6.648202876657905e-06, -0.0005639083160723923, 0.0011013483127870205, 0.0001719368268816579, 0.002704803116580834, 0.00042664501597233784, 0.0017070712109976127, 0.0013762910237312687, -0.001011398377039452, 0.0011498179192894198, -0.0033519927010612904, -0.003950808179865983, 0.0014938348242924948, -0.001645092027254047, 0.0014382667967310914, 0.0002199459829702599, 0.0034964976734601083, -0.0016173753756634768, -0.0026566319501613034, -0.0025053184699270203, -0.0014932243011512858, 0.0012800510132066067, -0.0012939187185473378, -0.0035106484705366148, -0.0038885032700889943, 0.002628874369645151, 0.00013071400879371975, -0.0006469661807612659, -0.004204774532179101, 0.0002888172377726317, -0.0013076977445490856, -0.0014036938868917659, 0.003420357460408585, 0.0019482851711943305, 0.00030320337617173454, -0.0008469215100601613, -0.0013355116023380242, 0.002285219003485439, 0.0032558038516936616, 0.0017965521694719433, -0.002436227222149201, 0.002222735029658751, -0.0013147603527980944, 0.0006125399329056092, 0.0012389134637138532, -0.0014316168884825342, -0.0006264451564281792, 0.0010391559575556597, -0.000977766832490401, 0.00294564018958704, -0.0029388487354706228, 0.0018790557882925052, -0.00042651540770777263, 0.0014796482144059375, -0.0027051032620356574, -0.000509436842644484, -0.0006742326141695454, -0.0032898736768217085, 0.0006056444511029491, -0.002030318107369755, 0.0020648534990271306, -0.0002960060435424072, 0.0004959119170561688, 0.003689368224675249, 0.0017548927761770194, 0.0025328526467240375, -0.00017890393430403106, 0.0023127395373072623, -0.00013798808315856892, -0.0006537525187620408, -0.0006400655828430191, 0.0013006982350605156, 0.001403997443090499, -0.0026018739742537655, -0.0007017804339417011, -0.0023472766343365925, 0.0016791601470100836, 0.0008188791324362787, -0.0006745992691284952, -0.0004885218774018374, 0.0009085050475223788, 0.00013718826373632087, -0.0032279371273756796, -0.0025878851875079656, -0.0020924013187993973, 0.0020306370119154704, 0.002140780540590914, -0.0007914114651434989, -0.004081189641138683, 0.0032694720285217915, 0.00021394752678849382, 0.001025417860479494, 0.0005022207509242094, 0.0005296645430102886, 0.00024101954779987, -0.00047493385305313884, 0.002298750750561407, -0.001135227136262018, 0.001734414386141414, 0.0009498728222219754, -0.0012869072714554175, 0.0008255460944037729, -0.0018787266515152279, 0.0024985031406039027, -0.002973409707706598, 0.0007019322120410676, -0.004184922013631798, -0.00035776864505437933, -0.0005230419207122305, -0.0002063391995306696, -0.0014312758141019621, 0.0006748039137569051, -0.0036822766251038974, 0.0003231718600084088, -0.0001651249083022832, -0.0009837431188374213, -0.0005779704338100822, 0.0009227530507973647, 0.0010875095987686323, 0.001589841198866515, 0.00027531959813481555, 0.002877070785611502, -0.002360924346701876, -0.00015789346823491535, -0.0024573604749954514, 0.0006881872934772493, 0.0024089727263443272, -0.002222953317262244, -0.002870234991825482, -0.0021131798542897706, 0.0019478605335905286, 0.0005643926416927791, -0.004280955674156373, 0.0010666867236088229, -0.0013418733027351082, -0.00017233588390686005, -0.002188194521885567, 0.0007433562640134506, -0.0030833997529107204, 0.0005712778912639327, -0.0001928176846861529, 0.005568505870819085, -0.0012524042818640724, 0.004288002934058233, -0.0007091073748356491, 0.0013010120234905886, 0.0011218983284425055, -0.00014460217859724178, 0.0010053419382129447, -9.615303655768903e-05, 0.001624456743003433, -0.0008808617269235874, -0.003998836095045588, -0.00236106930331359, -0.001741134214638007, -0.0024985849984552333, -0.0015069760412026456, 0.000516015125273106, -0.0008812931860149309, 0.0010739556818579743, 0.003007677355975402, 0.0020578710432576086, 0.0017142702489988393, 0.0010391508414400175, -0.0012592946475509237, 0.0031109867962367255, 0.0014384253963180549, -0.00034426930004460843, 0.0003095173261554729, -1.0061694222240902e-07, 0.0033038658743113625, 0.0015691837447812662, -0.00123232324348177, 0.00046791387910172233, 4.83536412130281e-05, -0.0029800954287651504, 0.0007570636643952633, 0.0016035912335459201, 0.00013108577986847836, -0.00010988431214620231, -0.0031522846506882862, -0.0003234907645541796, 0.002181994831819245, 0.001294061969787097, -0.0009012019818350203, -0.0025188092880772395, -0.0005855003139604298, -0.000833055510091385, -0.0015966138938921515, 0.0014728891623556062, -0.0003511528442438072, -0.0007087066124384922, -0.00034401861037491877, 0.0008537249017799842, 0.000709025516984263, 0.00021344103133341674, 0.0009078007289265999, 0.0026982180124645594, 0.001011169857204397, -0.001176900172532247, 5.476138665139185e-05, -0.0015763725505509862, 0.0006882520976095874, 0.0017482667431349963, -0.0004268496606008032, -0.002229621984601804, 0.00032380625835615184, 0.0016175697880603246, -0.003991766665308982, 0.001954887329029653, 0.0007849269779695023, 0.0008946509851567863, -0.002594929036666027, 0.0018032003723486567, 0.0014866630722416563, 0.002746020818553019, -0.0022440319982074963, -4.1272273873071974e-05, 0.0028702196434785, 0.004556583944605452, -0.0012254499315139666, -0.0007224890491840941, -0.0004475599812150399, -0.0008329702414962004, -0.0005302528963166964, -0.0030420746125086606, 0.0019272167224804737, -0.00045479312665430704, 0.000646727428694871, 0.0010671778707167512, 0.0004544520522737905, -0.002105910896040508, 0.0005438051078554551, 0.00017210906944375992, -0.0006748874769800794, -0.0005229259554228038, -0.0005916369052662573, 0.0005918227908037199, -0.001342313288685948, 0.00040600632097798073, -0.0009566710978260451, 0.0007569920387754392, 0.002436322722975781, -0.0010392753335888294, -0.0009431598152129794, 0.0003238403657942479, -0.0025744216553081345, 0.001245507094689513, 0.001066910127328069, 0.000702022596751839, -0.0003442334872346686, 0.001651825498725834, -0.0004751333815656844, 0.0003028111406341294, -0.0029872194304026434, -0.0009907835572516843, 0.001266582364891078, -0.0017275052613636155, -0.0017071087291794518, 0.001988999788455237, -0.0014934272404077409, -0.00032310876124802546, 0.002429868932496082, -0.002312797519951948, 3.4736625541986754e-05, 0.0012251105625054048, 0.0002684889204645491, 0.004026491353247619, 0.0001652118822692561, -0.0030833673508446346, 0.002161332261618243, 0.0008946663335039351, -0.001025286546842974, -0.0016311816876157237, 0.0009636620804551188, -7.581107627441241e-05, 0.00030975437284991303, 0.0005438596797563422, 0.00028241972456566344, -0.001156350156876762, 0.0009843655795818695, -0.0024299473796035587, 0.00039220341976964335, 0.0007503012016011334, 0.00041263576476369135, 0.0005295639260680662, 0.0005644096954118272, 0.003517368299033319, -0.0009496869366845684, -0.0011768217254247149, -0.0018650908767532948, -0.003544670545251538, 0.002525948638061881, 0.00222302323751028, -4.825472964276045e-05, 0.002367751613628344, -0.0016929494052432825, 0.0029044344252182053, 0.0015071738643433474, -0.000922488718152481, -0.003847404944149979, 0.0005915107077454351, 0.001789458864528748, 0.0025599911772394845, 0.0015416444518685513, -0.0046113743225792425, -0.0055751557790675865, 0.0026704092707912075, 0.004019525951197034, -0.0012386116128870195, 0.0008879243351725963, 0.0017549985092349396, -0.0004956339414360356, 0.002182160252893861, -0.0011492312713549113, -0.0016795472664320465, -0.0059397192889822925, 0.001293751592100878, -0.00034425395169745965, -0.0016929238246648493, 0.002691174163306498, -0.002574085697043371, 0.0003714777508081468, -0.0025192867922100848, -0.0013215569230303759, 0.0003166328009335251, -0.0011290990718155758, 0.002512355497597485, -0.002539768592989322, -0.0020581251436710968, -0.00301464616876973, 0.0006948985951142905, 0.00041290009740868605, -0.003330987351107817, -0.0006398575274709217, 9.584948035901153e-05, -0.00016551373309603434, 0.001823523573541097, -0.0025188775029533206, -2.0657454085304394e-05, 0.0009770181742251305, 0.00022688921518609906, 0.002759876586290344, -0.0009843263560280757, 0.0024091279151874923, 0.0001307515269755033, -0.001238708819085499, 4.137118544345064e-05, -0.0007090238116124192, 0.0010736896438412469, -0.0015693184691615292, 0.0017687263740796544, 0.0003784670280653213, 0.0033792454914943204, -0.0007644213019833979, 0.0006056444511029491, -0.0015829985835929539, 0.0008948129954876038, 0.0007709569503145941, -0.0021541093484103713, 0.0017961684607938344, -0.0013833689803274263, 0.0008947123785453259, 0.0005993492602102135, -0.0031932533683626807, 0.0007777773957534095, 0.0004543394977282178, -0.0005919711581591769, 0.0019893272198605594, -0.0009776116436471805, 0.002698144681472725, 0.0005439278946324788, -0.0005505164094925519, 0.001390325855518515, -0.0016034394554466092, -0.0017967858054225294, -0.001631093008276796, 0.002298769509652354, 0.0009222619036894364, -0.0013421768589337302, 0.00015849034840081933, -0.0034138883215816818, 0.0010599242608146375, -0.0005582816309653849, 0.002078419353541139, 0.0019275134571915542, -0.0011839030927646155, 0.001562675382400569, 0.0011907064844843829, 0.0008052160717238466, 0.0032624588760579165, 0.0027873425482112246, 0.0014452321987816208, 0.004067700528360307, -0.00037858810947050126, 0.004026366861098696, 0.0005439824665333104, -0.0001513509984161776, -0.002429616537454493, 0.0040816705560152156, -0.002174920285966997, -0.0008671270405912757, -0.0022985938563463426, 0.0028701292587676175, 0.0013973202488914427, 0.0021820016533068975, 0.0009703000511004367, 0.00033695088601015666, 0.0017416509423245352, -0.0014455050582861118, 0.001321079418897586, 0.00010983656173291223, -0.0024016935358636693, 0.0014726128921074277, -0.002064899544068577, 0.0009701380407696192, -0.0020373704833872575, 0.0015761968972449747, -0.002306074280711501, 0.0002684599291421508, 0.0008257217477097845, -0.0018723154953330656, -0.0018995137138652085, 0.0012390362504908214, -0.004129811025740393, -0.0029527266730426938, 0.0002755856361515985, 0.0011150181949871052, -0.0010048456749893186, 0.0020511273395543705, 0.0005436192223181591, 0.0004474713018761123, 0.0018444521817589377, 0.0013489495539593666, -0.00110073096815827, -0.0008670434773680458, 0.0030906004962838463, 0.00342081108933473, 0.003104359057822803, 0.0010393776559030066, 0.0013560121622083754, -0.0009499887875112911, -0.0011428610440984421, 0.000915496030151397, -0.0005712420784539374, -0.0016724829528111385, -0.0019408627294738023, 0.00582955017972836, 0.0016657699458021424, -0.0014113380269595854, 0.0025056885356298797, -0.002663455806343973, 0.00017877944215516361, 6.869560149636023e-05, -0.0004616493849031178, -0.0006190517060299938, -0.001981978109131921, -0.0007017343889003103, -0.001480245094571786, -0.0018032447120180373, 0.002794382986625543, -0.0023128674401999283, 4.115289783990228e-05, -0.0018510679825693988, 0.0002199323399950659, 0.0019272354815713655, 0.00015181144882986386, -0.0015002510965903548, -0.00022659248047501857, -0.0015486098539191362, 0.00064675471464537, -0.004060661795317999, -0.00019975239004244028, -0.0005711636313464052, 0.0020789667779218535, -0.0006537013576049522, -0.0030147757770342953]\n"
     ]
    }
   ],
   "source": [
    "p_diffs=[]\n",
    "random.seed(42)\n",
    "for i in range(10000):\n",
    "    new_page_converted=np.random.choice([0,1], n𝑛𝑒𝑤, [1-P𝑛𝑒𝑤,P𝑛𝑒𝑤])\n",
    "    old_page_converted=np.random.choice([0,1], n𝑜𝑙𝑑, [1-P𝑜𝑙𝑑,P𝑜𝑙𝑑])\n",
    "    diff=new_page_converted.mean()-old_page_converted.mean()\n",
    "    p_diffs.append(diff)\n",
    "print(p_diffs)\n",
    "    "
   ]
  },
  {
   "cell_type": "markdown",
   "metadata": {},
   "source": [
    "i. 绘制一个 **p_diffs** 分布图形。图形跟你的预期相符吗？"
   ]
  },
  {
   "cell_type": "code",
   "execution_count": 43,
   "metadata": {},
   "outputs": [
    {
     "data": {
      "image/png": "[encoded data removed]",
      "text/plain": [
       "<Figure size 432x288 with 1 Axes>"
      ]
     },
     "metadata": {
      "needs_background": "dark"
     },
     "output_type": "display_data"
    }
   ],
   "source": [
    "#plt.plot(p_diffs)\n",
    "plt.hist(p_diffs)\n",
    "plt.xticks(color='white')\n",
    "plt.yticks(color='white')\n",
    "#x轴名称\n",
    "plt.xlabel('p_diffs 值',fontname='SimHei',color='white')\n",
    "#y轴名称\n",
    "plt.ylabel('p_diffs numbers',fontname='SimHei',color='white')\n",
    "#图片名称\n",
    "plt.title('p_diffs 分布图',fontname='SimHei',color='white')\n",
    "plt.grid(True)\n",
    "plt.show()\n",
    "#感觉跟零假设的结果差不多，这里我们用的是pnew-pold，由于旧页面转化率大于新页面，所以p_diffs应该更多\n",
    "#是负数的，从图中也可以看出大部分的数据在左边"
   ]
  },
  {
   "cell_type": "markdown",
   "metadata": {},
   "source": [
    "j.  **p_diffs**列表的数值中，有多少比例的数值会大于 **ab_data.csv** 中观察到的实际**转化率差异** ？"
   ]
  },
  {
   "cell_type": "code",
   "execution_count": 140,
   "metadata": {},
   "outputs": [
    {
     "name": "stdout",
     "output_type": "stream",
     "text": [
      "-0.0015782389853555567\n"
     ]
    }
   ],
   "source": [
    "obs_new=df2[(df2['converted']==1)&(df2['group']=='treatment')].shape[0]/df2[df2['group']=='treatment'].shape[0]\n",
    "obs_old=df2[(df2['converted']==1)&(df2['group']=='control')].shape[0]/df2[df2['group']=='control'].shape[0]\n",
    "obs_diff=obs_new-obs_old\n",
    "print(obs_diff)"
   ]
  },
  {
   "cell_type": "code",
   "execution_count": 149,
   "metadata": {},
   "outputs": [
    {
     "data": {
      "text/plain": [
       "0.8005"
      ]
     },
     "execution_count": 149,
     "metadata": {},
     "output_type": "execute_result"
    }
   ],
   "source": [
    "p_diff_bigs=[p_diff for p_diff in p_diffs if p_diff>obs_diff]\n",
    "len(p_diff_bigs)/len(p_diffs)\n",
    "#比例为0.8005"
   ]
  },
  {
   "cell_type": "markdown",
   "metadata": {},
   "source": [
    "k. 用文字解释一下你刚才在 **j.** 中计算出来的结果。在数据研究中，这个值是什么？ 根据这个数值，请判断新旧页面的转化率是否有显著差异。\n",
    "\n",
    "**在这里给出你的答案。**\n"
   ]
  },
  {
   "cell_type": "markdown",
   "metadata": {},
   "source": [
    "原假设是H0：P𝑜𝑙𝑑>=P𝑛𝑒𝑤\n",
    "通过上一问看出p_value=0.8007比较大，我们无法拒绝原假设，旧页面的转化率大于新页面的转化率"
   ]
  },
  {
   "cell_type": "markdown",
   "metadata": {},
   "source": [
    "l. 我们也可以使用一个内置程序 （built-in）来实现类似的结果。使用内置程序可能很容易就能取得结果，但上面的内容仍然很重要，它可以训练你具有正确的数据统计思维。填写下面的内容来计算每个页面的转化次数，以及收到每个页面的用户数。计算新旧页面出现的次数，也就是数据中 `n_old` 与 `n_new` 分别出现的行数。"
   ]
  },
  {
   "cell_type": "code",
   "execution_count": 143,
   "metadata": {},
   "outputs": [],
   "source": [
    "import statsmodels.api as sm\n",
    "\n",
    "convert_old = df2[(df2['converted']==1)&(df2['group']=='control')].shape[0]\n",
    "#17489\n",
    "convert_new = df2[(df2['converted']==1)&(df2['group']=='treatment')].shape[0]\n",
    "#17264\n",
    "n_old = df2[df2['group']=='control'].shape[0]\n",
    "#145274\n",
    "n_new = df2[df2['group']=='treatment'].shape[0]\n",
    "#145310"
   ]
  },
  {
   "cell_type": "markdown",
   "metadata": {},
   "source": [
    "m. 现在使用 `stats.proportions_ztest` 来计算你的 z-score与 p-value"
   ]
  },
  {
   "cell_type": "markdown",
   "metadata": {},
   "source": [
    "<font color=#A9A9A9>此处p-value的含义是怎么来的 ，我们来看这样一个例子\n",
    "\n",
    "确定P值的方法\n",
    "\n",
    "通过仿真\n",
    "\n",
    "我们模拟这种情况，并采取一些样本，这些假设使我们的零假设为真。\n",
    "\n",
    "例如有一本杂志说，在美国的一家公司中，平均有12％的外籍雇员。\n",
    "\n",
    "比如我们抽取20个样本，每个样本中有50名员工，每个样本中有12％的外籍员工（零假设）。\n",
    "\n",
    "我们从上面收集的样本中重新抽样了20个样本，每个样本有50名员工。在20个样本中，有5个样本的外籍员工人数超过20％。\n",
    "\n",
    "因此，p值将为5/20 = 0.25。\n",
    "\n",
    "由于显着性水平为5％，并且经过仿真后，该值获得了25％，远大于5% 所以我们不能拒绝零假设。\n",
    "\n",
    "此处可以通过是否大于5% 或大于0.05 进行判断最终结果是否可以拒绝零假设，如果无法拒绝，那说明我们对于备用\n",
    "\n",
    "假设的结论就是错误的，数据上支持H0结论的产生。</font>"
   ]
  },
  {
   "cell_type": "code",
   "execution_count": null,
   "metadata": {},
   "outputs": [],
   "source": [
    "from IPython.display import Image\n",
    "Image(filename='pvalue.jpg') "
   ]
  },
  {
   "cell_type": "code",
   "execution_count": 146,
   "metadata": {},
   "outputs": [
    {
     "name": "stdout",
     "output_type": "stream",
     "text": [
      "z_score is 1.3109241984234394\n",
      "p_value is 0.18988337448195103\n",
      "由于z_score,1.3109241984234394<=critical_z,1.6448536269514722，无法拒绝原假设，旧页面转化率大于新页面转化率\n"
     ]
    }
   ],
   "source": [
    "from statsmodels.stats.proportion import proportions_ztest\n",
    "from scipy  import stats\n",
    "from scipy.stats import norm\n",
    "z_score, p_value = proportions_ztest([convert_old,convert_new], [n_old,n_new])\n",
    "print('z_score is', z_score)\n",
    "print('p_value is', p_value)\n",
    "critical_z = norm.ppf(1-0.05)\n",
    "#这里阿尔法为0.05，单尾假设\n",
    "if z_score<=critical_z:\n",
    "    print('由于z_score,{0}<=critical_z,{1}，无法拒绝原假设，旧页面转化率大于新页面转化率'.format(z_score,critical_z))\n",
    "else:\n",
    "    print('由于z_score,{0}>critical_z,{1}，无法拒绝原假设，旧页面转化率小于新页面转化率'.format(z_score,critical_z))"
   ]
  },
  {
   "cell_type": "markdown",
   "metadata": {},
   "source": [
    "n. 根据上题算出的 z-score 和 p-value，你认为新旧页面的转化率是否有区别？它们与 **j.** 与 **k.** 问题中的结果一致吗？\n",
    "\n",
    "**在这里给出你的答案。**"
   ]
  },
  {
   "cell_type": "markdown",
   "metadata": {},
   "source": [
    "根据上一问，结果基本一致，通过z假设检验的结果得知无法拒绝原假设，旧页面转化率大于新页面转化率"
   ]
  },
  {
   "cell_type": "markdown",
   "metadata": {},
   "source": []
  }
 ],
 "metadata": {
  "kernelspec": {
   "display_name": "Python 3",
   "language": "python",
   "name": "python3"
  },
  "language_info": {
   "codemirror_mode": {
    "name": "ipython",
    "version": 3
   },
   "file_extension": ".py",
   "mimetype": "text/x-python",
   "name": "python",
   "nbconvert_exporter": "python",
   "pygments_lexer": "ipython3",
   "version": "3.8.5"
  }
 },
 "nbformat": 4,
 "nbformat_minor": 2
}
